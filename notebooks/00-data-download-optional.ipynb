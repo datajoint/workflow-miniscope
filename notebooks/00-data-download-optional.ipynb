{
 "cells": [
  {
   "cell_type": "markdown",
   "metadata": {},
   "source": [
    "# Download example dataset\n",
    "\n",
    "+ This workflow will need miniscope calcium imaging data collected from the UCLA Miniscope and processed with CaImAn.  We provide an example dataset to be downloaded to run through the workflow. This notebook walks you through the process to download the dataset.\n",
    "\n",
    "## Install `djarchive-client`\n",
    "\n",
    "+ The example dataset is hosted on `djarchive`, an AWS storage.\n",
    "\n",
    "+ We provide a client package, [djarchive-client](https://github.com/datajoint/djarchive-client), to download the data which can be installed with pip:"
   ]
  },
  {
   "cell_type": "code",
   "execution_count": null,
   "metadata": {},
   "outputs": [],
   "source": [
    "pip install git+https://github.com/datajoint/djarchive-client.git"
   ]
  },
  {
   "cell_type": "markdown",
   "metadata": {},
   "source": [
    "## Download example datasets using `djarchive-client`"
   ]
  },
  {
   "cell_type": "code",
   "execution_count": null,
   "metadata": {},
   "outputs": [],
   "source": [
    "import djarchive_client\n",
    "client = djarchive_client.client()"
   ]
  },
  {
   "cell_type": "markdown",
   "metadata": {},
   "source": [
    "Browse the datasets that are available on `djarchive`:"
   ]
  },
  {
   "cell_type": "code",
   "execution_count": null,
   "metadata": {},
   "outputs": [],
   "source": [
    "list(client.datasets())"
   ]
  },
  {
   "cell_type": "markdown",
   "metadata": {},
   "source": [
    "Browse the different versions of each dataset:"
   ]
  },
  {
   "cell_type": "code",
   "execution_count": null,
   "metadata": {},
   "outputs": [],
   "source": [
    "list(client.revisions())"
   ]
  },
  {
   "cell_type": "markdown",
   "metadata": {},
   "source": [
    "To download the dataset, let's prepare a directory, for example in `/tmp`:"
   ]
  },
  {
   "cell_type": "code",
   "execution_count": null,
   "metadata": {},
   "outputs": [],
   "source": [
    "import os\n",
    "os.mkdir('/tmp/example_data')"
   ]
  },
  {
   "cell_type": "markdown",
   "metadata": {},
   "source": [
    "Run download for a given dataset and revision:"
   ]
  },
  {
   "cell_type": "code",
   "execution_count": null,
   "metadata": {},
   "outputs": [],
   "source": [
    "client.download('workflow-miniscope-test-set', \n",
    "                target_directory='/tmp/example_data', revision='v1')"
   ]
  },
  {
   "cell_type": "markdown",
   "metadata": {},
   "source": [
    "## Directory structure\n",
    "\n",
    "+ After downloading, the directory will be organized as follows:\n",
    "\n",
    "    ```\n",
    "    /tmp/example_data/\n",
    "    - subject1/\n",
    "        - session1/\n",
    "            - 0.avi\n",
    "            - metaData.json\n",
    "            - timeStamps.csv\n",
    "            - caiman/\n",
    "                - subject1_session1.hdf5\n",
    "    ```\n",
    "\n",
    "+ subject 1 data is recorded with the UCLA Miniscope and Miniscope-DAQ-V4 acquisition software, and processed with CaImAn.\n",
    "\n",
    "+ We will use the dataset for subject 1 as an example for the rest of the notebooks. If you use your own dataset for the workflow, change the path accordingly.\n",
    "\n",
    "## Next step\n",
    "\n",
    "+ In the next notebook ([01-configure](01-configure.ipynb)) we will set up the configuration file for the workflow."
   ]
  },
  {
   "cell_type": "markdown",
   "metadata": {},
   "source": []
  }
 ],
 "metadata": {
  "jupytext": {
   "formats": "ipynb,py_scripts//py"
  },
  "kernelspec": {
   "display_name": "venv-nwb",
   "language": "python",
   "name": "venv-nwb"
  },
  "language_info": {
   "codemirror_mode": {
    "name": "ipython",
    "version": 3
   },
   "file_extension": ".py",
   "mimetype": "text/x-python",
   "name": "python",
   "nbconvert_exporter": "python",
   "pygments_lexer": "ipython3",
   "version": "3.8.11"
  }
 },
 "nbformat": 4,
 "nbformat_minor": 4
}
