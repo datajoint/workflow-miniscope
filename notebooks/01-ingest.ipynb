{
 "cells": [
  {
   "cell_type": "markdown",
   "metadata": {},
   "source": [
    "# Ingestion routine\n",
    "\n",
    "+ The following script outlines the steps to ingest UCLA Miniscope data (acquired metadata and processed data) into the DataJoint `workflow-miniscope`.\n",
    "\n",
    "+ To ingest with a completely automated workflow, see `03automate.ipynb`."
   ]
  },
  {
   "cell_type": "code",
   "execution_count": 1,
   "metadata": {},
   "outputs": [],
   "source": [
    "# Change into the parent directory to find the `dj_local_conf.json` file. \n",
    "# When you type `import datajoint as dj` the credentials from `dj_local_conf.json` will be used to log into the database.\n",
    "import os\n",
    "os.chdir('..')"
   ]
  },
  {
   "cell_type": "code",
   "execution_count": null,
   "metadata": {},
   "outputs": [],
   "source": [
    "import numpy as np\n",
    "from workflow_miniscope.pipeline import *"
   ]
  },
  {
   "source": [
    "## Schema diagrams\n",
    "\n",
    "+ The following outputs are the diagrams of the schemas comprising this workflow.\n",
    "\n",
    "+ Please refer back to these diagrams to visualize the relationships of different tables."
   ],
   "cell_type": "markdown",
   "metadata": {}
  },
  {
   "cell_type": "code",
   "execution_count": 4,
   "metadata": {},
   "outputs": [
    {
     "output_type": "execute_result",
     "data": {
      "text/plain": [
       "<datajoint.diagram.Diagram at 0x7fcd99ea6b50>"
      ],
      "image/svg+xml": "<svg height=\"114pt\" viewBox=\"0.00 0.00 548.00 114.00\" width=\"548pt\" xmlns=\"http://www.w3.org/2000/svg\" xmlns:xlink=\"http://www.w3.org/1999/xlink\">\n<g class=\"graph\" id=\"graph0\" transform=\"scale(1 1) rotate(0) translate(4 110)\">\n<polygon fill=\"white\" points=\"-4,4 -4,-110 544,-110 544,4 -4,4\" stroke=\"transparent\"/>\n<!-- Lab -->\n<g class=\"node\" id=\"node1\">\n<title>Lab</title>\n<g id=\"a_node1\"><a xlink:title=\"lab                  \r------------------------------\rlab_name             \rinstitution          \raddress              \rtime_zone            \r\">\n<polygon fill=\"#000000\" fill-opacity=\"0.125490\" points=\"55,-106 20,-106 20,-71 55,-71 55,-106\" stroke=\"transparent\"/>\n<text font-family=\"arial\" font-size=\"10.00\" text-anchor=\"start\" text-decoration=\"underline\" x=\"29.5\" y=\"-87\">Lab</text>\n</a>\n</g>\n</g>\n<!-- Location -->\n<g class=\"node\" id=\"node4\">\n<title>Location</title>\n<g id=\"a_node4\"><a xlink:title=\"→ Lab\rlocation             \r------------------------------\rlocation_description=&quot;&quot; \r\">\n<polygon fill=\"#000000\" fill-opacity=\"0.125490\" points=\"53,-35 0,-35 0,0 53,0 53,-35\" stroke=\"transparent\"/>\n<text font-family=\"arial\" font-size=\"10.00\" text-anchor=\"start\" text-decoration=\"underline\" x=\"8\" y=\"-16\">Location</text>\n</a>\n</g>\n</g>\n<!-- Lab&#45;&gt;Location -->\n<g class=\"edge\" id=\"edge1\">\n<title>Lab-&gt;Location</title>\n<path d=\"M34.84,-70.8C33.11,-59.95 30.86,-45.87 29.14,-35.05\" fill=\"none\" stroke=\"#000000\" stroke-opacity=\"0.250980\" stroke-width=\"0.75\"/>\n</g>\n<!-- lab.LabMembership -->\n<g class=\"node\" id=\"node7\">\n<title>lab.LabMembership</title>\n<g id=\"a_node7\"><a xlink:title=\"→ Lab\r→ User\r------------------------------\r→ [nullable] lab.UserRole\r\">\n<polygon fill=\"#000000\" fill-opacity=\"0.125490\" points=\"172,-35 71,-35 71,0 172,0 172,-35\" stroke=\"transparent\"/>\n<text font-family=\"arial\" font-size=\"10.00\" text-anchor=\"middle\" x=\"121.5\" y=\"-15\">lab.LabMembership</text>\n</a>\n</g>\n</g>\n<!-- Lab&#45;&gt;lab.LabMembership -->\n<g class=\"edge\" id=\"edge2\">\n<title>Lab-&gt;lab.LabMembership</title>\n<path d=\"M55.31,-72.87C68.8,-61.79 87.33,-46.57 101.35,-35.05\" fill=\"none\" stroke=\"#000000\" stroke-opacity=\"0.250980\" stroke-width=\"0.75\"/>\n</g>\n<!-- User -->\n<g class=\"node\" id=\"node2\">\n<title>User</title>\n<g id=\"a_node2\"><a xlink:title=\"user                 \r------------------------------\ruser_email=&quot;&quot;        \ruser_cellphone=&quot;&quot;    \r\">\n<polygon fill=\"#000000\" fill-opacity=\"0.125490\" points=\"209.5,-106 171.5,-106 171.5,-71 209.5,-71 209.5,-106\" stroke=\"transparent\"/>\n<text font-family=\"arial\" font-size=\"10.00\" text-anchor=\"start\" text-decoration=\"underline\" x=\"179.5\" y=\"-87\">User</text>\n</a>\n</g>\n</g>\n<!-- User&#45;&gt;lab.LabMembership -->\n<g class=\"edge\" id=\"edge3\">\n<title>User-&gt;lab.LabMembership</title>\n<path d=\"M173.8,-70.8C162.95,-59.95 148.87,-45.87 138.05,-35.05\" fill=\"none\" stroke=\"#000000\" stroke-opacity=\"0.250980\" stroke-width=\"0.75\"/>\n</g>\n<!-- lab.ProjectUser -->\n<g class=\"node\" id=\"node11\">\n<title>lab.ProjectUser</title>\n<g id=\"a_node11\"><a xlink:title=\"→ Project\r→ User\r\">\n<polygon fill=\"#00ff00\" fill-opacity=\"0.188235\" points=\"297,-35 198,-35 198,0 297,0 297,-35\" stroke=\"#00ff00\" stroke-opacity=\"0.188235\"/>\n<text fill=\"darkgreen\" font-family=\"arial\" font-size=\"12.00\" text-anchor=\"middle\" x=\"247.5\" y=\"-14.4\">lab.ProjectUser</text>\n</a>\n</g>\n</g>\n<!-- User&#45;&gt;lab.ProjectUser -->\n<g class=\"edge\" id=\"edge4\">\n<title>User-&gt;lab.ProjectUser</title>\n<path d=\"M204.3,-70.8C213.26,-59.95 224.89,-45.87 233.83,-35.05\" fill=\"none\" stroke=\"#000000\" stroke-opacity=\"0.250980\" stroke-width=\"0.75\"/>\n</g>\n<!-- Equipment -->\n<g class=\"node\" id=\"node3\">\n<title>Equipment</title>\n<g id=\"a_node3\"><a xlink:title=\"scanner              \r\">\n<polygon fill=\"#00ff00\" fill-opacity=\"0.188235\" points=\"367.5,-106 293.5,-106 293.5,-71 367.5,-71 367.5,-106\" stroke=\"#00ff00\" stroke-opacity=\"0.188235\"/>\n<text fill=\"darkgreen\" font-family=\"arial\" font-size=\"12.00\" text-anchor=\"start\" text-decoration=\"underline\" x=\"301.5\" y=\"-86.4\">Equipment</text>\n</a>\n</g>\n</g>\n<!-- Protocol -->\n<g class=\"node\" id=\"node5\">\n<title>Protocol</title>\n<g id=\"a_node5\"><a xlink:title=\"protocol             \r------------------------------\r→ lab.ProtocolType\rprotocol_description=&quot;&quot; \r\">\n<polygon fill=\"#000000\" fill-opacity=\"0.125490\" points=\"457,-35 404,-35 404,0 457,0 457,-35\" stroke=\"transparent\"/>\n<text font-family=\"arial\" font-size=\"10.00\" text-anchor=\"start\" text-decoration=\"underline\" x=\"412\" y=\"-16\">Protocol</text>\n</a>\n</g>\n</g>\n<!-- lab.UserRole -->\n<g class=\"node\" id=\"node6\">\n<title>lab.UserRole</title>\n<g id=\"a_node6\"><a xlink:title=\"user_role            \r\">\n<polygon fill=\"#000000\" fill-opacity=\"0.125490\" points=\"153.5,-106 79.5,-106 79.5,-71 153.5,-71 153.5,-106\" stroke=\"transparent\"/>\n<text font-family=\"arial\" font-size=\"10.00\" text-anchor=\"start\" text-decoration=\"underline\" x=\"87.5\" y=\"-87\">lab.UserRole</text>\n</a>\n</g>\n</g>\n<!-- lab.UserRole&#45;&gt;lab.LabMembership -->\n<g class=\"edge\" id=\"edge5\">\n<title>lab.UserRole-&gt;lab.LabMembership</title>\n<path d=\"M117.71,-70.8C118.5,-59.95 119.52,-45.87 120.3,-35.05\" fill=\"none\" stroke=\"#000000\" stroke-dasharray=\"5,2\" stroke-opacity=\"0.250980\" stroke-width=\"0.75\"/>\n</g>\n<!-- Project -->\n<g class=\"node\" id=\"node8\">\n<title>Project</title>\n<g id=\"a_node8\"><a xlink:title=\"project              \r------------------------------\rproject_description=&quot;&quot; \r\">\n<polygon fill=\"#000000\" fill-opacity=\"0.125490\" points=\"275,-106 228,-106 228,-71 275,-71 275,-106\" stroke=\"transparent\"/>\n<text font-family=\"arial\" font-size=\"10.00\" text-anchor=\"start\" text-decoration=\"underline\" x=\"236\" y=\"-87\">Project</text>\n</a>\n</g>\n</g>\n<!-- Project&#45;&gt;lab.ProjectUser -->\n<g class=\"edge\" id=\"edge6\">\n<title>Project-&gt;lab.ProjectUser</title>\n<path d=\"M250.53,-70.8C249.9,-59.95 249.09,-45.87 248.46,-35.05\" fill=\"none\" stroke=\"#000000\" stroke-opacity=\"0.250980\" stroke-width=\"0.75\"/>\n</g>\n<!-- lab.ProtocolType -->\n<g class=\"node\" id=\"node9\">\n<title>lab.ProtocolType</title>\n<g id=\"a_node9\"><a xlink:title=\"protocol_type        \r\">\n<polygon fill=\"#000000\" fill-opacity=\"0.125490\" points=\"475,-106 386,-106 386,-71 475,-71 475,-106\" stroke=\"transparent\"/>\n<text font-family=\"arial\" font-size=\"10.00\" text-anchor=\"start\" text-decoration=\"underline\" x=\"394\" y=\"-87\">lab.ProtocolType</text>\n</a>\n</g>\n</g>\n<!-- lab.ProtocolType&#45;&gt;Protocol -->\n<g class=\"edge\" id=\"edge7\">\n<title>lab.ProtocolType-&gt;Protocol</title>\n<path d=\"M430.5,-70.8C430.5,-59.95 430.5,-45.87 430.5,-35.05\" fill=\"none\" stroke=\"#000000\" stroke-dasharray=\"5,2\" stroke-opacity=\"0.250980\" stroke-width=\"0.75\"/>\n</g>\n<!-- Source -->\n<g class=\"node\" id=\"node10\">\n<title>Source</title>\n<g id=\"a_node10\"><a xlink:title=\"source               \r------------------------------\rsource_name          \rcontact_details=&quot;&quot;   \rsource_description=&quot;&quot; \r\">\n<polygon fill=\"#000000\" fill-opacity=\"0.125490\" points=\"540,-106 493,-106 493,-71 540,-71 540,-106\" stroke=\"transparent\"/>\n<text font-family=\"arial\" font-size=\"10.00\" text-anchor=\"start\" text-decoration=\"underline\" x=\"501\" y=\"-87\">Source</text>\n</a>\n</g>\n</g>\n</g>\n</svg>"
     },
     "metadata": {},
     "execution_count": 4
    }
   ],
   "source": [
    "dj.Diagram(lab)"
   ]
  },
  {
   "cell_type": "code",
   "execution_count": 5,
   "metadata": {},
   "outputs": [
    {
     "output_type": "execute_result",
     "data": {
      "text/plain": [
       "<datajoint.diagram.Diagram at 0x7fcd99ea6ad0>"
      ],
      "image/svg+xml": "<svg height=\"114pt\" viewBox=\"0.00 0.00 1830.00 114.00\" width=\"1830pt\" xmlns=\"http://www.w3.org/2000/svg\" xmlns:xlink=\"http://www.w3.org/1999/xlink\">\n<g class=\"graph\" id=\"graph0\" transform=\"scale(1 1) rotate(0) translate(4 110)\">\n<polygon fill=\"white\" points=\"-4,4 -4,-110 1826,-110 1826,4 -4,4\" stroke=\"transparent\"/>\n<!-- `neuro_subject`.`subject__line` -->\n<g class=\"node\" id=\"node1\">\n<title>`neuro_subject`.`subject__line`</title>\n<polygon fill=\"transparent\" points=\"491.5,-27 342.5,-27 342.5,-8 491.5,-8 491.5,-27\" stroke=\"transparent\"/>\n<text font-family=\"arial\" font-size=\"10.00\" text-anchor=\"middle\" x=\"417\" y=\"-15\">`neuro_subject`.`subject__line`</text>\n</g>\n<!-- `neuro_subject`.`#allele__source` -->\n<g class=\"node\" id=\"node2\">\n<title>`neuro_subject`.`#allele__source`</title>\n<polygon fill=\"transparent\" points=\"324,-27 164,-27 164,-8 324,-8 324,-27\" stroke=\"transparent\"/>\n<text font-family=\"arial\" font-size=\"10.00\" text-anchor=\"middle\" x=\"244\" y=\"-15\">`neuro_subject`.`#allele__source`</text>\n</g>\n<!-- `neuro_subject`.`subject__lab` -->\n<g class=\"node\" id=\"node3\">\n<title>`neuro_subject`.`subject__lab`</title>\n<polygon fill=\"transparent\" points=\"1287.5,-27 1140.5,-27 1140.5,-8 1287.5,-8 1287.5,-27\" stroke=\"transparent\"/>\n<text font-family=\"arial\" font-size=\"10.00\" text-anchor=\"middle\" x=\"1214\" y=\"-15\">`neuro_subject`.`subject__lab`</text>\n</g>\n<!-- `neuro_subject`.`subject__user` -->\n<g class=\"node\" id=\"node4\">\n<title>`neuro_subject`.`subject__user`</title>\n<polygon fill=\"transparent\" points=\"1458.5,-27 1305.5,-27 1305.5,-8 1458.5,-8 1458.5,-27\" stroke=\"transparent\"/>\n<text font-family=\"arial\" font-size=\"10.00\" text-anchor=\"middle\" x=\"1382\" y=\"-15\">`neuro_subject`.`subject__user`</text>\n</g>\n<!-- `neuro_subject`.`subject__protocol` -->\n<g class=\"node\" id=\"node5\">\n<title>`neuro_subject`.`subject__protocol`</title>\n<polygon fill=\"transparent\" points=\"1645.5,-27 1476.5,-27 1476.5,-8 1645.5,-8 1645.5,-27\" stroke=\"transparent\"/>\n<text font-family=\"arial\" font-size=\"10.00\" text-anchor=\"middle\" x=\"1561\" y=\"-15\">`neuro_subject`.`subject__protocol`</text>\n</g>\n<!-- `neuro_subject`.`subject__strain` -->\n<g class=\"node\" id=\"node6\">\n<title>`neuro_subject`.`subject__strain`</title>\n<polygon fill=\"transparent\" points=\"1822,-27 1664,-27 1664,-8 1822,-8 1822,-27\" stroke=\"transparent\"/>\n<text font-family=\"arial\" font-size=\"10.00\" text-anchor=\"middle\" x=\"1743\" y=\"-15\">`neuro_subject`.`subject__strain`</text>\n</g>\n<!-- `neuro_subject`.`#line__allele` -->\n<g class=\"node\" id=\"node7\">\n<title>`neuro_subject`.`#line__allele`</title>\n<polygon fill=\"transparent\" points=\"146,-27 0,-27 0,-8 146,-8 146,-27\" stroke=\"transparent\"/>\n<text font-family=\"arial\" font-size=\"10.00\" text-anchor=\"middle\" x=\"73\" y=\"-15\">`neuro_subject`.`#line__allele`</text>\n</g>\n<!-- `neuro_subject`.`subject__source` -->\n<g class=\"node\" id=\"node8\">\n<title>`neuro_subject`.`subject__source`</title>\n<polygon fill=\"transparent\" points=\"795,-27 631,-27 631,-8 795,-8 795,-27\" stroke=\"transparent\"/>\n<text font-family=\"arial\" font-size=\"10.00\" text-anchor=\"middle\" x=\"713\" y=\"-15\">`neuro_subject`.`subject__source`</text>\n</g>\n<!-- subject.SubjectCullMethod -->\n<g class=\"node\" id=\"node9\">\n<title>subject.SubjectCullMethod</title>\n<g id=\"a_node9\"><a xlink:title=\"→ Subject\r------------------------------\rcull_method          \r\">\n<polygon fill=\"#00ff00\" fill-opacity=\"0.188235\" points=\"973,-35 813,-35 813,0 973,0 973,-35\" stroke=\"#00ff00\" stroke-opacity=\"0.188235\"/>\n<text fill=\"darkgreen\" font-family=\"arial\" font-size=\"12.00\" text-anchor=\"middle\" x=\"893\" y=\"-14.4\">subject.SubjectCullMethod</text>\n</a>\n</g>\n</g>\n<!-- subject.Line -->\n<g class=\"node\" id=\"node10\">\n<title>subject.Line</title>\n<g id=\"a_node10\"><a xlink:title=\"line                 \r------------------------------\rline_description=&quot;&quot;  \rtarget_phenotype=&quot;&quot;  \ris_active            \r\">\n<polygon fill=\"#000000\" fill-opacity=\"0.125490\" points=\"148.5,-106 79.5,-106 79.5,-71 148.5,-71 148.5,-106\" stroke=\"transparent\"/>\n<text font-family=\"arial\" font-size=\"10.00\" text-anchor=\"start\" text-decoration=\"underline\" x=\"87.5\" y=\"-87\">subject.Line</text>\n</a>\n</g>\n</g>\n<!-- subject.Line&#45;&gt;`neuro_subject`.`subject__line` -->\n<g class=\"edge\" id=\"edge2\">\n<title>subject.Line-&gt;`neuro_subject`.`subject__line`</title>\n<path d=\"M148.76,-79.58C206.12,-66.52 320.13,-40.56 379.34,-27.08\" fill=\"none\" stroke=\"#000000\" stroke-dasharray=\"5,2\" stroke-opacity=\"0.250980\" stroke-width=\"0.75\"/>\n</g>\n<!-- subject.Line&#45;&gt;`neuro_subject`.`#line__allele` -->\n<g class=\"edge\" id=\"edge1\">\n<title>subject.Line-&gt;`neuro_subject`.`#line__allele`</title>\n<path d=\"M104.08,-70.8C95.92,-57.08 84.7,-38.19 78.21,-27.27\" fill=\"none\" stroke=\"#000000\" stroke-opacity=\"0.250980\" stroke-width=\"0.75\"/>\n</g>\n<!-- subject.Strain -->\n<g class=\"node\" id=\"node11\">\n<title>subject.Strain</title>\n<g id=\"a_node11\"><a xlink:title=\"strain               \r------------------------------\rstrain_standard_name \rstrain_desc=&quot;&quot;       \r\">\n<polygon fill=\"#000000\" fill-opacity=\"0.125490\" points=\"1781.5,-106 1704.5,-106 1704.5,-71 1781.5,-71 1781.5,-106\" stroke=\"transparent\"/>\n<text font-family=\"arial\" font-size=\"10.00\" text-anchor=\"start\" text-decoration=\"underline\" x=\"1712.5\" y=\"-87\">subject.Strain</text>\n</a>\n</g>\n</g>\n<!-- subject.Strain&#45;&gt;`neuro_subject`.`subject__strain` -->\n<g class=\"edge\" id=\"edge3\">\n<title>subject.Strain-&gt;`neuro_subject`.`subject__strain`</title>\n<path d=\"M1743,-70.8C1743,-57.08 1743,-38.19 1743,-27.27\" fill=\"none\" stroke=\"#000000\" stroke-dasharray=\"5,2\" stroke-opacity=\"0.250980\" stroke-width=\"0.75\"/>\n</g>\n<!-- subject.SubjectDeath -->\n<g class=\"node\" id=\"node12\">\n<title>subject.SubjectDeath</title>\n<g id=\"a_node12\"><a xlink:title=\"→ Subject\r------------------------------\rdeath_date           \r\">\n<polygon fill=\"#00ff00\" fill-opacity=\"0.188235\" points=\"1122.5,-35 991.5,-35 991.5,0 1122.5,0 1122.5,-35\" stroke=\"#00ff00\" stroke-opacity=\"0.188235\"/>\n<text fill=\"darkgreen\" font-family=\"arial\" font-size=\"12.00\" text-anchor=\"middle\" x=\"1057\" y=\"-14.4\">subject.SubjectDeath</text>\n</a>\n</g>\n</g>\n<!-- subject.Zygosity -->\n<g class=\"node\" id=\"node13\">\n<title>subject.Zygosity</title>\n<g id=\"a_node13\"><a xlink:title=\"→ Subject\r→ subject.Allele\r------------------------------\rzygosity             \r\">\n<polygon fill=\"#00ff00\" fill-opacity=\"0.188235\" points=\"612.5,-35 509.5,-35 509.5,0 612.5,0 612.5,-35\" stroke=\"#00ff00\" stroke-opacity=\"0.188235\"/>\n<text fill=\"darkgreen\" font-family=\"arial\" font-size=\"12.00\" text-anchor=\"middle\" x=\"561\" y=\"-14.4\">subject.Zygosity</text>\n</a>\n</g>\n</g>\n<!-- subject.Allele -->\n<g class=\"node\" id=\"node14\">\n<title>subject.Allele</title>\n<g id=\"a_node14\"><a xlink:title=\"allele               \r------------------------------\rallele_standard_name=&quot;&quot; \r\">\n<polygon fill=\"#000000\" fill-opacity=\"0.125490\" points=\"281.5,-106 206.5,-106 206.5,-71 281.5,-71 281.5,-106\" stroke=\"transparent\"/>\n<text font-family=\"arial\" font-size=\"10.00\" text-anchor=\"start\" text-decoration=\"underline\" x=\"214.5\" y=\"-87\">subject.Allele</text>\n</a>\n</g>\n</g>\n<!-- subject.Allele&#45;&gt;`neuro_subject`.`#allele__source` -->\n<g class=\"edge\" id=\"edge4\">\n<title>subject.Allele-&gt;`neuro_subject`.`#allele__source`</title>\n<path d=\"M244,-70.8C244,-57.08 244,-38.19 244,-27.27\" fill=\"none\" stroke=\"#000000\" stroke-opacity=\"0.250980\" stroke-width=\"2\"/>\n</g>\n<!-- subject.Allele&#45;&gt;`neuro_subject`.`#line__allele` -->\n<g class=\"edge\" id=\"edge5\">\n<title>subject.Allele-&gt;`neuro_subject`.`#line__allele`</title>\n<path d=\"M206.47,-72.36C172.06,-58.47 122.33,-38.4 94.3,-27.09\" fill=\"none\" stroke=\"#000000\" stroke-opacity=\"0.250980\" stroke-width=\"0.75\"/>\n</g>\n<!-- subject.Allele&#45;&gt;subject.Zygosity -->\n<g class=\"edge\" id=\"edge6\">\n<title>subject.Allele-&gt;subject.Zygosity</title>\n<path d=\"M281.9,-80.49C332.01,-71.04 422.97,-53.3 500,-35 503.1,-34.26 506.27,-33.48 509.47,-32.68\" fill=\"none\" stroke=\"#000000\" stroke-opacity=\"0.250980\" stroke-width=\"0.75\"/>\n</g>\n<!-- Subject -->\n<g class=\"node\" id=\"node15\">\n<title>Subject</title>\n<g id=\"a_node15\"><a xlink:title=\"subject              \r------------------------------\rsex                  \rsubject_birth_date   \rsubject_description=&quot;&quot; \r\">\n<polygon fill=\"#00ff00\" fill-opacity=\"0.188235\" points=\"1085.5,-106 1028.5,-106 1028.5,-71 1085.5,-71 1085.5,-106\" stroke=\"#00ff00\" stroke-opacity=\"0.188235\"/>\n<text fill=\"darkgreen\" font-family=\"arial\" font-size=\"12.00\" text-anchor=\"start\" text-decoration=\"underline\" x=\"1036.5\" y=\"-86.4\">Subject</text>\n</a>\n</g>\n</g>\n<!-- Subject&#45;&gt;`neuro_subject`.`subject__line` -->\n<g class=\"edge\" id=\"edge8\">\n<title>Subject-&gt;`neuro_subject`.`subject__line`</title>\n<path d=\"M1028.47,-85.85C946.18,-80.85 701.35,-64.42 500,-35 485.46,-32.88 469.62,-29.89 455.71,-27.05\" fill=\"none\" stroke=\"#000000\" stroke-opacity=\"0.250980\" stroke-width=\"2\"/>\n</g>\n<!-- Subject&#45;&gt;`neuro_subject`.`subject__lab` -->\n<g class=\"edge\" id=\"edge7\">\n<title>Subject-&gt;`neuro_subject`.`subject__lab`</title>\n<path d=\"M1085.8,-74.84C1117.31,-60.99 1166.98,-39.16 1194.32,-27.15\" fill=\"none\" stroke=\"#000000\" stroke-opacity=\"0.250980\" stroke-width=\"0.75\"/>\n</g>\n<!-- Subject&#45;&gt;`neuro_subject`.`subject__user` -->\n<g class=\"edge\" id=\"edge12\">\n<title>Subject-&gt;`neuro_subject`.`subject__user`</title>\n<path d=\"M1085.56,-81.44C1143.56,-69.12 1275.31,-41.15 1341.89,-27.01\" fill=\"none\" stroke=\"#000000\" stroke-opacity=\"0.250980\" stroke-width=\"0.75\"/>\n</g>\n<!-- Subject&#45;&gt;`neuro_subject`.`subject__protocol` -->\n<g class=\"edge\" id=\"edge9\">\n<title>Subject-&gt;`neuro_subject`.`subject__protocol`</title>\n<path d=\"M1085.89,-84.27C1152.97,-76.66 1324.39,-56.63 1467,-35 1482.56,-32.64 1499.52,-29.76 1514.69,-27.07\" fill=\"none\" stroke=\"#000000\" stroke-opacity=\"0.250980\" stroke-width=\"0.75\"/>\n</g>\n<!-- Subject&#45;&gt;`neuro_subject`.`subject__strain` -->\n<g class=\"edge\" id=\"edge11\">\n<title>Subject-&gt;`neuro_subject`.`subject__strain`</title>\n<path d=\"M1085.69,-85.95C1171.96,-81.09 1436.48,-64.66 1654,-35 1669.57,-32.88 1686.56,-29.89 1701.48,-27.05\" fill=\"none\" stroke=\"#000000\" stroke-opacity=\"0.250980\" stroke-width=\"2\"/>\n</g>\n<!-- Subject&#45;&gt;`neuro_subject`.`subject__source` -->\n<g class=\"edge\" id=\"edge10\">\n<title>Subject-&gt;`neuro_subject`.`subject__source`</title>\n<path d=\"M1028.26,-81.74C967.71,-69.59 826.74,-41.31 755.63,-27.05\" fill=\"none\" stroke=\"#000000\" stroke-opacity=\"0.250980\" stroke-width=\"2\"/>\n</g>\n<!-- Subject&#45;&gt;subject.SubjectCullMethod -->\n<g class=\"edge\" id=\"edge13\">\n<title>Subject-&gt;subject.SubjectCullMethod</title>\n<path d=\"M1028.43,-75.48C1001.82,-64.28 961.91,-47.49 932.3,-35.03\" fill=\"none\" stroke=\"#000000\" stroke-opacity=\"0.250980\" stroke-width=\"2\"/>\n</g>\n<!-- Subject&#45;&gt;subject.SubjectDeath -->\n<g class=\"edge\" id=\"edge14\">\n<title>Subject-&gt;subject.SubjectDeath</title>\n<path d=\"M1057,-70.8C1057,-59.95 1057,-45.87 1057,-35.05\" fill=\"none\" stroke=\"#000000\" stroke-opacity=\"0.250980\" stroke-width=\"2\"/>\n</g>\n<!-- Subject&#45;&gt;subject.Zygosity -->\n<g class=\"edge\" id=\"edge15\">\n<title>Subject-&gt;subject.Zygosity</title>\n<path d=\"M1028.28,-85.47C958.29,-80.22 773.58,-64.49 622,-35 618.98,-34.41 615.9,-33.76 612.8,-33.06\" fill=\"none\" stroke=\"#000000\" stroke-opacity=\"0.250980\" stroke-width=\"0.75\"/>\n</g>\n</g>\n</svg>"
     },
     "metadata": {},
     "execution_count": 5
    }
   ],
   "source": [
    "dj.Diagram(subject)"
   ]
  },
  {
   "cell_type": "code",
   "execution_count": 6,
   "metadata": {},
   "outputs": [
    {
     "output_type": "execute_result",
     "data": {
      "text/plain": [
       "<datajoint.diagram.Diagram at 0x7fcd6950c210>"
      ],
      "image/svg+xml": "<svg height=\"114pt\" viewBox=\"0.00 0.00 320.00 114.00\" width=\"320pt\" xmlns=\"http://www.w3.org/2000/svg\" xmlns:xlink=\"http://www.w3.org/1999/xlink\">\n<g class=\"graph\" id=\"graph0\" transform=\"scale(1 1) rotate(0) translate(4 110)\">\n<polygon fill=\"white\" points=\"-4,4 -4,-110 316,-110 316,4 -4,4\" stroke=\"transparent\"/>\n<!-- Session -->\n<g class=\"node\" id=\"node1\">\n<title>Session</title>\n<g id=\"a_node1\"><a xlink:title=\"→ Subject\rsession_datetime     \r\">\n<polygon fill=\"#00ff00\" fill-opacity=\"0.188235\" points=\"188,-106 128,-106 128,-71 188,-71 188,-106\" stroke=\"#00ff00\" stroke-opacity=\"0.188235\"/>\n<text fill=\"darkgreen\" font-family=\"arial\" font-size=\"12.00\" text-anchor=\"start\" text-decoration=\"underline\" x=\"136\" y=\"-86.4\">Session</text>\n</a>\n</g>\n</g>\n<!-- session.SessionDirectory -->\n<g class=\"node\" id=\"node2\">\n<title>session.SessionDirectory</title>\n<g id=\"a_node2\"><a xlink:title=\"→ Session\r------------------------------\rsession_dir          \r\">\n<polygon fill=\"#00ff00\" fill-opacity=\"0.188235\" points=\"152,-35 0,-35 0,0 152,0 152,-35\" stroke=\"#00ff00\" stroke-opacity=\"0.188235\"/>\n<text fill=\"darkgreen\" font-family=\"arial\" font-size=\"12.00\" text-anchor=\"middle\" x=\"76\" y=\"-14.4\">session.SessionDirectory</text>\n</a>\n</g>\n</g>\n<!-- Session&#45;&gt;session.SessionDirectory -->\n<g class=\"edge\" id=\"edge1\">\n<title>Session-&gt;session.SessionDirectory</title>\n<path d=\"M138.15,-70.8C125.26,-59.95 108.52,-45.87 95.67,-35.05\" fill=\"none\" stroke=\"#000000\" stroke-opacity=\"0.250980\" stroke-width=\"2\"/>\n</g>\n<!-- session.ProjectSession -->\n<g class=\"node\" id=\"node3\">\n<title>session.ProjectSession</title>\n<g id=\"a_node3\"><a xlink:title=\"→ Project\r→ Session\r\">\n<polygon fill=\"#00ff00\" fill-opacity=\"0.188235\" points=\"312,-35 170,-35 170,0 312,0 312,-35\" stroke=\"#00ff00\" stroke-opacity=\"0.188235\"/>\n<text fill=\"darkgreen\" font-family=\"arial\" font-size=\"12.00\" text-anchor=\"middle\" x=\"241\" y=\"-14.4\">session.ProjectSession</text>\n</a>\n</g>\n</g>\n<!-- Session&#45;&gt;session.ProjectSession -->\n<g class=\"edge\" id=\"edge2\">\n<title>Session-&gt;session.ProjectSession</title>\n<path d=\"M178.09,-70.8C191.14,-59.95 208.08,-45.87 221.09,-35.05\" fill=\"none\" stroke=\"#000000\" stroke-opacity=\"0.250980\" stroke-width=\"0.75\"/>\n</g>\n</g>\n</svg>"
     },
     "metadata": {},
     "execution_count": 6
    }
   ],
   "source": [
    "dj.Diagram(session)"
   ]
  },
  {
   "cell_type": "code",
   "execution_count": 7,
   "metadata": {},
   "outputs": [
    {
     "output_type": "execute_result",
     "data": {
      "text/plain": [
       "<datajoint.diagram.Diagram at 0x7fcd692f07d0>"
      ],
      "image/svg+xml": "<svg height=\"240pt\" viewBox=\"0.00 0.00 386.00 240.00\" width=\"386pt\" xmlns=\"http://www.w3.org/2000/svg\" xmlns:xlink=\"http://www.w3.org/1999/xlink\">\n<g class=\"graph\" id=\"graph0\" transform=\"scale(1 1) rotate(0) translate(4 236)\">\n<polygon fill=\"white\" points=\"-4,4 -4,-236 382,-236 382,4 -4,4\" stroke=\"transparent\"/>\n<!-- `neuro_scan`.`_scan_info__field` -->\n<g class=\"node\" id=\"node1\">\n<title>`neuro_scan`.`_scan_info__field`</title>\n<polygon fill=\"transparent\" points=\"180.5,-19 22.5,-19 22.5,0 180.5,0 180.5,-19\" stroke=\"transparent\"/>\n<text font-family=\"arial\" font-size=\"10.00\" text-anchor=\"start\" text-decoration=\"underline\" x=\"30.5\" y=\"-8\">`neuro_scan`.`_scan_info__field`</text>\n</g>\n<!-- `neuro_scan`.`_scan_info__scan_file` -->\n<g class=\"node\" id=\"node2\">\n<title>`neuro_scan`.`_scan_info__scan_file`</title>\n<polygon fill=\"transparent\" points=\"378,-19 199,-19 199,0 378,0 378,-19\" stroke=\"transparent\"/>\n<text font-family=\"arial\" font-size=\"10.00\" text-anchor=\"start\" text-decoration=\"underline\" x=\"207\" y=\"-8\">`neuro_scan`.`_scan_info__scan_file`</text>\n</g>\n<!-- scan.ScanLocation -->\n<g class=\"node\" id=\"node3\">\n<title>scan.ScanLocation</title>\n<g id=\"a_node3\"><a xlink:title=\"→ scan.Scan\r------------------------------\r→ Location\r\">\n<polygon fill=\"#00ff00\" fill-opacity=\"0.188235\" points=\"119,-90 0,-90 0,-55 119,-55 119,-90\" stroke=\"#00ff00\" stroke-opacity=\"0.188235\"/>\n<text fill=\"darkgreen\" font-family=\"arial\" font-size=\"12.00\" text-anchor=\"middle\" x=\"59.5\" y=\"-69.4\">scan.ScanLocation</text>\n</a>\n</g>\n</g>\n<!-- scan.AcquisitionSoftware -->\n<g class=\"node\" id=\"node4\">\n<title>scan.AcquisitionSoftware</title>\n<g id=\"a_node4\"><a xlink:title=\"acq_software         \r\">\n<polygon fill=\"#000000\" fill-opacity=\"0.125490\" points=\"190.5,-232 62.5,-232 62.5,-197 190.5,-197 190.5,-232\" stroke=\"transparent\"/>\n<text font-family=\"arial\" font-size=\"10.00\" text-anchor=\"start\" text-decoration=\"underline\" x=\"70.5\" y=\"-213\">scan.AcquisitionSoftware</text>\n</a>\n</g>\n</g>\n<!-- scan.Scan -->\n<g class=\"node\" id=\"node7\">\n<title>scan.Scan</title>\n<g id=\"a_node7\"><a xlink:title=\"→ Session\rscan_id              \r------------------------------\r→ Equipment\r→ scan.AcquisitionSoftware\rscan_notes=&quot;&quot;        \r\">\n<polygon fill=\"#00ff00\" fill-opacity=\"0.188235\" points=\"163,-161 90,-161 90,-126 163,-126 163,-161\" stroke=\"#00ff00\" stroke-opacity=\"0.188235\"/>\n<text fill=\"darkgreen\" font-family=\"arial\" font-size=\"12.00\" text-anchor=\"start\" text-decoration=\"underline\" x=\"98\" y=\"-141.4\">scan.Scan</text>\n</a>\n</g>\n</g>\n<!-- scan.AcquisitionSoftware&#45;&gt;scan.Scan -->\n<g class=\"edge\" id=\"edge1\">\n<title>scan.AcquisitionSoftware-&gt;scan.Scan</title>\n<path d=\"M126.5,-196.8C126.5,-185.95 126.5,-171.87 126.5,-161.05\" fill=\"none\" stroke=\"#000000\" stroke-dasharray=\"5,2\" stroke-opacity=\"0.250980\" stroke-width=\"0.75\"/>\n</g>\n<!-- scan.Channel -->\n<g class=\"node\" id=\"node5\">\n<title>scan.Channel</title>\n<g id=\"a_node5\"><a xlink:title=\"channel              \r\">\n<polygon fill=\"#000000\" fill-opacity=\"0.125490\" points=\"286,-232 209,-232 209,-197 286,-197 286,-232\" stroke=\"transparent\"/>\n<text font-family=\"arial\" font-size=\"10.00\" text-anchor=\"start\" text-decoration=\"underline\" x=\"217\" y=\"-213\">scan.Channel</text>\n</a>\n</g>\n</g>\n<!-- scan.ScanInfo -->\n<g class=\"node\" id=\"node6\">\n<title>scan.ScanInfo</title>\n<g id=\"a_node6\"><a xlink:title=\"→ scan.Scan\r------------------------------\rnfields              \rnchannels            \rndepths              \rnframes              \rnrois                \rx=null               \ry=null               \rz=null               \rfps                  \r\">\n<ellipse cx=\"194.5\" cy=\"-72.5\" fill=\"#00007f\" fill-opacity=\"0.250980\" rx=\"57.5\" ry=\"17.5\" stroke=\"#00007f\" stroke-opacity=\"0.250980\"/>\n<text fill=\"#00007f\" fill-opacity=\"0.627451\" font-family=\"arial\" font-size=\"12.00\" text-anchor=\"middle\" x=\"194.5\" y=\"-69.4\">scan.ScanInfo</text>\n</a>\n</g>\n</g>\n<!-- scan.ScanInfo&#45;&gt;`neuro_scan`.`_scan_info__field` -->\n<g class=\"edge\" id=\"edge2\">\n<title>scan.ScanInfo-&gt;`neuro_scan`.`_scan_info__field`</title>\n<path d=\"M171.51,-56.42C153.55,-44.64 129.23,-28.69 114.49,-19.02\" fill=\"none\" stroke=\"#000000\" stroke-opacity=\"0.250980\" stroke-width=\"0.75\"/>\n</g>\n<!-- scan.ScanInfo&#45;&gt;`neuro_scan`.`_scan_info__scan_file` -->\n<g class=\"edge\" id=\"edge3\">\n<title>scan.ScanInfo-&gt;`neuro_scan`.`_scan_info__scan_file`</title>\n<path d=\"M217.74,-56.42C235.89,-44.64 260.48,-28.69 275.37,-19.02\" fill=\"none\" stroke=\"#000000\" stroke-opacity=\"0.250980\" stroke-width=\"0.75\"/>\n</g>\n<!-- scan.Scan&#45;&gt;scan.ScanLocation -->\n<g class=\"edge\" id=\"edge4\">\n<title>scan.Scan-&gt;scan.ScanLocation</title>\n<path d=\"M110.28,-125.8C99.75,-114.95 86.07,-100.87 75.57,-90.05\" fill=\"none\" stroke=\"#000000\" stroke-opacity=\"0.250980\" stroke-width=\"2\"/>\n</g>\n<!-- scan.Scan&#45;&gt;scan.ScanInfo -->\n<g class=\"edge\" id=\"edge5\">\n<title>scan.Scan-&gt;scan.ScanInfo</title>\n<path d=\"M142.96,-125.8C153.81,-114.79 167.94,-100.45 178.66,-89.57\" fill=\"none\" stroke=\"#000000\" stroke-opacity=\"0.250980\" stroke-width=\"2\"/>\n</g>\n</g>\n</svg>"
     },
     "metadata": {},
     "execution_count": 7
    }
   ],
   "source": [
    "dj.Diagram(scan)"
   ]
  },
  {
   "cell_type": "code",
   "execution_count": 8,
   "metadata": {},
   "outputs": [
    {
     "output_type": "execute_result",
     "data": {
      "text/plain": [
       "<datajoint.diagram.Diagram at 0x7fcd692cb090>"
      ],
      "image/svg+xml": "<svg height=\"577pt\" viewBox=\"0.00 0.00 1339.50 577.00\" width=\"1340pt\" xmlns=\"http://www.w3.org/2000/svg\" xmlns:xlink=\"http://www.w3.org/1999/xlink\">\n<g class=\"graph\" id=\"graph0\" transform=\"scale(1 1) rotate(0) translate(4 573)\">\n<polygon fill=\"white\" points=\"-4,4 -4,-573 1335.5,-573 1335.5,4 -4,4\" stroke=\"transparent\"/>\n<!-- `neuro_imaging`.`_motion_correction__non_rigid_motion_correction` -->\n<g class=\"node\" id=\"node1\">\n<title>`neuro_imaging`.`_motion_correction__non_rigid_motion_correction`</title>\n<polygon fill=\"transparent\" points=\"1331.5,-215 1022.5,-215 1022.5,-196 1331.5,-196 1331.5,-215\" stroke=\"transparent\"/>\n<text font-family=\"arial\" font-size=\"10.00\" text-anchor=\"middle\" x=\"1177\" y=\"-203\">`neuro_imaging`.`_motion_correction__non_rigid_motion_correction`</text>\n</g>\n<!-- `neuro_imaging`.`_motion_correction__block` -->\n<g class=\"node\" id=\"node5\">\n<title>`neuro_imaging`.`_motion_correction__block`</title>\n<polygon fill=\"transparent\" points=\"1080.5,-144 869.5,-144 869.5,-125 1080.5,-125 1080.5,-144\" stroke=\"transparent\"/>\n<text font-family=\"arial\" font-size=\"10.00\" text-anchor=\"start\" text-decoration=\"underline\" x=\"877.5\" y=\"-133\">`neuro_imaging`.`_motion_correction__block`</text>\n</g>\n<!-- `neuro_imaging`.`_motion_correction__non_rigid_motion_correction`&#45;&gt;`neuro_imaging`.`_motion_correction__block` -->\n<g class=\"edge\" id=\"edge1\">\n<title>`neuro_imaging`.`_motion_correction__non_rigid_motion_correction`-&gt;`neuro_imaging`.`_motion_correction__block`</title>\n<path d=\"M1151.82,-195.9C1113.01,-182.64 1038.99,-157.36 1000.17,-144.1\" fill=\"none\" stroke=\"#000000\" stroke-opacity=\"0.250980\" stroke-width=\"0.75\"/>\n</g>\n<!-- `neuro_imaging`.`__mask_classification__mask_type` -->\n<g class=\"node\" id=\"node2\">\n<title>`neuro_imaging`.`__mask_classification__mask_type`</title>\n<polygon fill=\"transparent\" points=\"323,-77.5 73,-77.5 73,-58.5 323,-58.5 323,-77.5\" stroke=\"transparent\"/>\n<text font-family=\"arial\" font-size=\"10.00\" text-anchor=\"middle\" x=\"198\" y=\"-65.5\">`neuro_imaging`.`__mask_classification__mask_type`</text>\n</g>\n<!-- `neuro_imaging`.`_motion_correction__summary` -->\n<g class=\"node\" id=\"node3\">\n<title>`neuro_imaging`.`_motion_correction__summary`</title>\n<polygon fill=\"transparent\" points=\"1004,-215 776,-215 776,-196 1004,-196 1004,-215\" stroke=\"transparent\"/>\n<text font-family=\"arial\" font-size=\"10.00\" text-anchor=\"middle\" x=\"890\" y=\"-203\">`neuro_imaging`.`_motion_correction__summary`</text>\n</g>\n<!-- `neuro_imaging`.`__fluorescence__trace` -->\n<g class=\"node\" id=\"node4\">\n<title>`neuro_imaging`.`__fluorescence__trace`</title>\n<polygon fill=\"transparent\" points=\"606.5,-77.5 413.5,-77.5 413.5,-58.5 606.5,-58.5 606.5,-77.5\" stroke=\"transparent\"/>\n<text font-family=\"arial\" font-size=\"10.00\" text-anchor=\"middle\" x=\"510\" y=\"-65.5\">`neuro_imaging`.`__fluorescence__trace`</text>\n</g>\n<!-- `neuro_imaging`.`__activity__trace` -->\n<g class=\"node\" id=\"node6\">\n<title>`neuro_imaging`.`__activity__trace`</title>\n<polygon fill=\"transparent\" points=\"676.5,-19 507.5,-19 507.5,0 676.5,0 676.5,-19\" stroke=\"transparent\"/>\n<text font-family=\"arial\" font-size=\"10.00\" text-anchor=\"middle\" x=\"592\" y=\"-7\">`neuro_imaging`.`__activity__trace`</text>\n</g>\n<!-- `neuro_imaging`.`__fluorescence__trace`&#45;&gt;`neuro_imaging`.`__activity__trace` -->\n<g class=\"edge\" id=\"edge2\">\n<title>`neuro_imaging`.`__fluorescence__trace`-&gt;`neuro_imaging`.`__activity__trace`</title>\n<path d=\"M522.45,-58.42C537.87,-47.8 563.96,-29.82 579.43,-19.16\" fill=\"none\" stroke=\"#000000\" stroke-opacity=\"0.250980\" stroke-width=\"0.75\"/>\n</g>\n<!-- `neuro_imaging`.`__segmentation__mask` -->\n<g class=\"node\" id=\"node7\">\n<title>`neuro_imaging`.`__segmentation__mask`</title>\n<polygon fill=\"transparent\" points=\"496,-144 298,-144 298,-125 496,-125 496,-144\" stroke=\"transparent\"/>\n<text font-family=\"arial\" font-size=\"10.00\" text-anchor=\"start\" text-decoration=\"underline\" x=\"306\" y=\"-133\">`neuro_imaging`.`__segmentation__mask`</text>\n</g>\n<!-- `neuro_imaging`.`__segmentation__mask`&#45;&gt;`neuro_imaging`.`__mask_classification__mask_type` -->\n<g class=\"edge\" id=\"edge4\">\n<title>`neuro_imaging`.`__segmentation__mask`-&gt;`neuro_imaging`.`__mask_classification__mask_type`</title>\n<path d=\"M370.57,-124.93C332.51,-112.6 262.66,-89.96 224.53,-77.6\" fill=\"none\" stroke=\"#000000\" stroke-opacity=\"0.250980\" stroke-width=\"0.75\"/>\n</g>\n<!-- `neuro_imaging`.`__segmentation__mask`&#45;&gt;`neuro_imaging`.`__fluorescence__trace` -->\n<g class=\"edge\" id=\"edge3\">\n<title>`neuro_imaging`.`__segmentation__mask`-&gt;`neuro_imaging`.`__fluorescence__trace`</title>\n<path d=\"M412.24,-124.8C433.93,-112.42 473.45,-89.86 495,-77.56\" fill=\"none\" stroke=\"#000000\" stroke-opacity=\"0.250980\" stroke-width=\"0.75\"/>\n</g>\n<!-- `neuro_imaging`.`_motion_correction__rigid_motion_correction` -->\n<g class=\"node\" id=\"node8\">\n<title>`neuro_imaging`.`_motion_correction__rigid_motion_correction`</title>\n<polygon fill=\"transparent\" points=\"758,-215 470,-215 470,-196 758,-196 758,-215\" stroke=\"transparent\"/>\n<text font-family=\"arial\" font-size=\"10.00\" text-anchor=\"middle\" x=\"614\" y=\"-203\">`neuro_imaging`.`_motion_correction__rigid_motion_correction`</text>\n</g>\n<!-- imaging.MaskClassificationMethod -->\n<g class=\"node\" id=\"node9\">\n<title>imaging.MaskClassificationMethod</title>\n<g id=\"a_node9\"><a xlink:title=\"mask_classification_method \r\">\n<polygon fill=\"#000000\" fill-opacity=\"0.125490\" points=\"282.5,-223 113.5,-223 113.5,-188 282.5,-188 282.5,-223\" stroke=\"transparent\"/>\n<text font-family=\"arial\" font-size=\"10.00\" text-anchor=\"start\" text-decoration=\"underline\" x=\"121.5\" y=\"-204\">imaging.MaskClassificationMethod</text>\n</a>\n</g>\n</g>\n<!-- imaging.MaskClassification -->\n<g class=\"node\" id=\"node20\">\n<title>imaging.MaskClassification</title>\n<g id=\"a_node20\"><a xlink:title=\"→ imaging.Segmentation\r→ imaging.MaskClassificationMethod\r\">\n<ellipse cx=\"198\" cy=\"-134.5\" fill=\"#ff0000\" fill-opacity=\"0.125490\" rx=\"13\" ry=\"13\" stroke=\"#ff0000\" stroke-opacity=\"0.125490\"/>\n<text fill=\"#7f0000\" fill-opacity=\"0.627451\" font-family=\"arial\" font-size=\"12.00\" text-anchor=\"middle\" x=\"198\" y=\"-131.4\">imaging.MaskClassification</text>\n</a>\n</g>\n</g>\n<!-- imaging.MaskClassificationMethod&#45;&gt;imaging.MaskClassification -->\n<g class=\"edge\" id=\"edge5\">\n<title>imaging.MaskClassificationMethod-&gt;imaging.MaskClassification</title>\n<path d=\"M198,-187.8C198,-175.35 198,-158.66 198,-147.51\" fill=\"none\" stroke=\"#000000\" stroke-opacity=\"0.250980\" stroke-width=\"0.75\"/>\n</g>\n<!-- imaging.Processing -->\n<g class=\"node\" id=\"node10\">\n<title>imaging.Processing</title>\n<g id=\"a_node10\"><a xlink:title=\"→ imaging.ProcessingTask\r------------------------------\rprocessing_time      \rpackage_version=&quot;&quot;   \r\">\n<ellipse cx=\"499\" cy=\"-343\" fill=\"#ff0000\" fill-opacity=\"0.125490\" rx=\"13\" ry=\"13\" stroke=\"#ff0000\" stroke-opacity=\"0.125490\"/>\n<text fill=\"#7f0000\" fill-opacity=\"0.627451\" font-family=\"arial\" font-size=\"12.00\" text-anchor=\"middle\" x=\"499\" y=\"-339.9\">imaging.Processing</text>\n</a>\n</g>\n</g>\n<!-- imaging.MotionCorrection -->\n<g class=\"node\" id=\"node16\">\n<title>imaging.MotionCorrection</title>\n<g id=\"a_node16\"><a xlink:title=\"→ imaging.Processing\r------------------------------\r→ scan.Channel.proj(motion_correct_channel=&quot;channel&quot;)\r\">\n<ellipse cx=\"614\" cy=\"-276.5\" fill=\"#00007f\" fill-opacity=\"0.250980\" rx=\"96\" ry=\"17.5\" stroke=\"#00007f\" stroke-opacity=\"0.250980\"/>\n<text fill=\"#00007f\" fill-opacity=\"0.627451\" font-family=\"arial\" font-size=\"12.00\" text-anchor=\"middle\" x=\"614\" y=\"-273.4\">imaging.MotionCorrection</text>\n</a>\n</g>\n</g>\n<!-- imaging.Processing&#45;&gt;imaging.MotionCorrection -->\n<g class=\"edge\" id=\"edge6\">\n<title>imaging.Processing-&gt;imaging.MotionCorrection</title>\n<path d=\"M510.03,-335.82C527.34,-326.1 561.45,-306.97 585.88,-293.27\" fill=\"none\" stroke=\"#000000\" stroke-opacity=\"0.250980\" stroke-width=\"2\"/>\n</g>\n<!-- imaging.Curation -->\n<g class=\"node\" id=\"node21\">\n<title>imaging.Curation</title>\n<g id=\"a_node21\"><a xlink:title=\"→ imaging.Processing\rcuration_id          \r------------------------------\rcuration_time        \rcuration_output_dir  \rmanual_curation      \rcuration_note=&quot;&quot;     \r\">\n<polygon fill=\"#00ff00\" fill-opacity=\"0.188235\" points=\"469,-294 361,-294 361,-259 469,-259 469,-294\" stroke=\"#00ff00\" stroke-opacity=\"0.188235\"/>\n<text fill=\"darkgreen\" font-family=\"arial\" font-size=\"12.00\" text-anchor=\"start\" text-decoration=\"underline\" x=\"369\" y=\"-274.4\">imaging.Curation</text>\n</a>\n</g>\n</g>\n<!-- imaging.Processing&#45;&gt;imaging.Curation -->\n<g class=\"edge\" id=\"edge7\">\n<title>imaging.Processing-&gt;imaging.Curation</title>\n<path d=\"M489.03,-334.35C476.17,-324.47 453.44,-307.01 436.54,-294.04\" fill=\"none\" stroke=\"#000000\" stroke-opacity=\"0.250980\" stroke-width=\"0.75\"/>\n</g>\n<!-- imaging.Activity -->\n<g class=\"node\" id=\"node11\">\n<title>imaging.Activity</title>\n<g id=\"a_node11\"><a xlink:title=\"→ imaging.Fluorescence\r→ imaging.ActivityExtractionMethod\r\">\n<ellipse cx=\"675\" cy=\"-68\" fill=\"#ff0000\" fill-opacity=\"0.125490\" rx=\"13\" ry=\"13\" stroke=\"#ff0000\" stroke-opacity=\"0.125490\"/>\n<text fill=\"#7f0000\" fill-opacity=\"0.627451\" font-family=\"arial\" font-size=\"12.00\" text-anchor=\"middle\" x=\"675\" y=\"-64.9\">imaging.Activity</text>\n</a>\n</g>\n</g>\n<!-- imaging.Activity&#45;&gt;`neuro_imaging`.`__activity__trace` -->\n<g class=\"edge\" id=\"edge8\">\n<title>imaging.Activity-&gt;`neuro_imaging`.`__activity__trace`</title>\n<path d=\"M664.49,-59.84C649.22,-49.45 620.95,-30.21 604.59,-19.07\" fill=\"none\" stroke=\"#000000\" stroke-opacity=\"0.250980\" stroke-width=\"0.75\"/>\n</g>\n<!-- imaging.ProcessingTask -->\n<g class=\"node\" id=\"node12\">\n<title>imaging.ProcessingTask</title>\n<g id=\"a_node12\"><a xlink:title=\"→ scan.Scan\r→ imaging.ProcessingParamSet\r------------------------------\rprocessing_output_dir \rtask_mode=&quot;load&quot;     \r\">\n<polygon fill=\"#00ff00\" fill-opacity=\"0.188235\" points=\"572.5,-427 425.5,-427 425.5,-392 572.5,-392 572.5,-427\" stroke=\"#00ff00\" stroke-opacity=\"0.188235\"/>\n<text fill=\"darkgreen\" font-family=\"arial\" font-size=\"12.00\" text-anchor=\"middle\" x=\"499\" y=\"-406.4\">imaging.ProcessingTask</text>\n</a>\n</g>\n</g>\n<!-- imaging.ProcessingTask&#45;&gt;imaging.Processing -->\n<g class=\"edge\" id=\"edge9\">\n<title>imaging.ProcessingTask-&gt;imaging.Processing</title>\n<path d=\"M499,-391.89C499,-380.69 499,-366.17 499,-356.07\" fill=\"none\" stroke=\"#000000\" stroke-opacity=\"0.250980\" stroke-width=\"2\"/>\n</g>\n<!-- imaging.MaskType -->\n<g class=\"node\" id=\"node13\">\n<title>imaging.MaskType</title>\n<g id=\"a_node13\"><a xlink:title=\"mask_type            \r\">\n<polygon fill=\"#000000\" fill-opacity=\"0.125490\" points=\"98,-152 0,-152 0,-117 98,-117 98,-152\" stroke=\"transparent\"/>\n<text font-family=\"arial\" font-size=\"10.00\" text-anchor=\"start\" text-decoration=\"underline\" x=\"8\" y=\"-133\">imaging.MaskType</text>\n</a>\n</g>\n</g>\n<!-- imaging.MaskType&#45;&gt;`neuro_imaging`.`__mask_classification__mask_type` -->\n<g class=\"edge\" id=\"edge10\">\n<title>imaging.MaskType-&gt;`neuro_imaging`.`__mask_classification__mask_type`</title>\n<path d=\"M87.37,-116.89C116.34,-104.35 154.93,-87.64 178.04,-77.64\" fill=\"none\" stroke=\"#000000\" stroke-dasharray=\"5,2\" stroke-opacity=\"0.250980\" stroke-width=\"0.75\"/>\n</g>\n<!-- imaging.ProcessingParamSet -->\n<g class=\"node\" id=\"node14\">\n<title>imaging.ProcessingParamSet</title>\n<g id=\"a_node14\"><a xlink:title=\"paramset_idx         \r------------------------------\r→ imaging.ProcessingMethod\rparamset_desc        \rparam_set_hash       \rparams               \rUNIQUE INDEX (param_set_hash)\r\">\n<polygon fill=\"#000000\" fill-opacity=\"0.125490\" points=\"572,-498 426,-498 426,-463 572,-463 572,-498\" stroke=\"transparent\"/>\n<text font-family=\"arial\" font-size=\"10.00\" text-anchor=\"start\" text-decoration=\"underline\" x=\"434\" y=\"-479\">imaging.ProcessingParamSet</text>\n</a>\n</g>\n</g>\n<!-- imaging.ProcessingParamSet&#45;&gt;imaging.ProcessingTask -->\n<g class=\"edge\" id=\"edge11\">\n<title>imaging.ProcessingParamSet-&gt;imaging.ProcessingTask</title>\n<path d=\"M499,-462.8C499,-451.95 499,-437.87 499,-427.05\" fill=\"none\" stroke=\"#000000\" stroke-opacity=\"0.250980\" stroke-width=\"0.75\"/>\n</g>\n<!-- imaging.ProcessingMethod -->\n<g class=\"node\" id=\"node15\">\n<title>imaging.ProcessingMethod</title>\n<g id=\"a_node15\"><a xlink:title=\"processing_method    \r------------------------------\rprocessing_method_desc \r\">\n<polygon fill=\"#000000\" fill-opacity=\"0.125490\" points=\"566,-569 432,-569 432,-534 566,-534 566,-569\" stroke=\"transparent\"/>\n<text font-family=\"arial\" font-size=\"10.00\" text-anchor=\"start\" text-decoration=\"underline\" x=\"440\" y=\"-550\">imaging.ProcessingMethod</text>\n</a>\n</g>\n</g>\n<!-- imaging.ProcessingMethod&#45;&gt;imaging.ProcessingParamSet -->\n<g class=\"edge\" id=\"edge12\">\n<title>imaging.ProcessingMethod-&gt;imaging.ProcessingParamSet</title>\n<path d=\"M499,-533.8C499,-522.95 499,-508.87 499,-498.05\" fill=\"none\" stroke=\"#000000\" stroke-dasharray=\"5,2\" stroke-opacity=\"0.250980\" stroke-width=\"0.75\"/>\n</g>\n<!-- imaging.MotionCorrection&#45;&gt;`neuro_imaging`.`_motion_correction__non_rigid_motion_correction` -->\n<g class=\"edge\" id=\"edge13\">\n<title>imaging.MotionCorrection-&gt;`neuro_imaging`.`_motion_correction__non_rigid_motion_correction`</title>\n<path d=\"M691.4,-266.01C801.56,-252.51 1001.91,-227.96 1107.54,-215.01\" fill=\"none\" stroke=\"#000000\" stroke-opacity=\"0.250980\" stroke-width=\"2\"/>\n</g>\n<!-- imaging.MotionCorrection&#45;&gt;`neuro_imaging`.`_motion_correction__summary` -->\n<g class=\"edge\" id=\"edge15\">\n<title>imaging.MotionCorrection-&gt;`neuro_imaging`.`_motion_correction__summary`</title>\n<path d=\"M668.2,-261.95C723.93,-248.02 809.01,-226.75 855.94,-215.01\" fill=\"none\" stroke=\"#000000\" stroke-opacity=\"0.250980\" stroke-width=\"0.75\"/>\n</g>\n<!-- imaging.MotionCorrection&#45;&gt;`neuro_imaging`.`_motion_correction__rigid_motion_correction` -->\n<g class=\"edge\" id=\"edge14\">\n<title>imaging.MotionCorrection-&gt;`neuro_imaging`.`_motion_correction__rigid_motion_correction`</title>\n<path d=\"M614,-258.8C614,-245.08 614,-226.19 614,-215.27\" fill=\"none\" stroke=\"#000000\" stroke-opacity=\"0.250980\" stroke-width=\"2\"/>\n</g>\n<!-- imaging.Segmentation -->\n<g class=\"node\" id=\"node17\">\n<title>imaging.Segmentation</title>\n<g id=\"a_node17\"><a xlink:title=\"→ imaging.MotionCorrection\r→ imaging.Curation\r\">\n<ellipse cx=\"383\" cy=\"-205.5\" fill=\"#ff0000\" fill-opacity=\"0.125490\" rx=\"13\" ry=\"13\" stroke=\"#ff0000\" stroke-opacity=\"0.125490\"/>\n<text fill=\"#7f0000\" fill-opacity=\"0.627451\" font-family=\"arial\" font-size=\"12.00\" text-anchor=\"middle\" x=\"383\" y=\"-202.4\">imaging.Segmentation</text>\n</a>\n</g>\n</g>\n<!-- imaging.MotionCorrection&#45;&gt;imaging.Segmentation -->\n<g class=\"edge\" id=\"edge16\">\n<title>imaging.MotionCorrection-&gt;imaging.Segmentation</title>\n<path d=\"M566.42,-261.29C512.27,-245.11 427.23,-219.71 395.49,-210.23\" fill=\"none\" stroke=\"#000000\" stroke-opacity=\"0.250980\" stroke-width=\"0.75\"/>\n</g>\n<!-- imaging.Segmentation&#45;&gt;`neuro_imaging`.`__segmentation__mask` -->\n<g class=\"edge\" id=\"edge17\">\n<title>imaging.Segmentation-&gt;`neuro_imaging`.`__segmentation__mask`</title>\n<path d=\"M385.44,-192.48C388.23,-178.74 392.73,-156.56 395.21,-144.32\" fill=\"none\" stroke=\"#000000\" stroke-opacity=\"0.250980\" stroke-width=\"0.75\"/>\n</g>\n<!-- imaging.Segmentation&#45;&gt;imaging.MaskClassification -->\n<g class=\"edge\" id=\"edge18\">\n<title>imaging.Segmentation-&gt;imaging.MaskClassification</title>\n<path d=\"M371.15,-200.08C337.81,-187.65 243.5,-152.47 209.99,-139.97\" fill=\"none\" stroke=\"#000000\" stroke-opacity=\"0.250980\" stroke-width=\"0.75\"/>\n</g>\n<!-- imaging.Fluorescence -->\n<g class=\"node\" id=\"node22\">\n<title>imaging.Fluorescence</title>\n<g id=\"a_node22\"><a xlink:title=\"→ imaging.Segmentation\r\">\n<ellipse cx=\"582\" cy=\"-134.5\" fill=\"#ff0000\" fill-opacity=\"0.125490\" rx=\"13\" ry=\"13\" stroke=\"#ff0000\" stroke-opacity=\"0.125490\"/>\n<text fill=\"#7f0000\" fill-opacity=\"0.627451\" font-family=\"arial\" font-size=\"12.00\" text-anchor=\"middle\" x=\"582\" y=\"-131.4\">imaging.Fluorescence</text>\n</a>\n</g>\n</g>\n<!-- imaging.Segmentation&#45;&gt;imaging.Fluorescence -->\n<g class=\"edge\" id=\"edge19\">\n<title>imaging.Segmentation-&gt;imaging.Fluorescence</title>\n<path d=\"M395.15,-200.29C430.76,-187.94 534.6,-151.93 570.01,-139.66\" fill=\"none\" stroke=\"#000000\" stroke-opacity=\"0.250980\" stroke-width=\"2\"/>\n</g>\n<!-- imaging.CellCompartment -->\n<g class=\"node\" id=\"node18\">\n<title>imaging.CellCompartment</title>\n<g id=\"a_node18\"><a xlink:title=\"cell_compartment     \r\">\n<polygon fill=\"#000000\" fill-opacity=\"0.125490\" points=\"714,-569 584,-569 584,-534 714,-534 714,-569\" stroke=\"transparent\"/>\n<text font-family=\"arial\" font-size=\"10.00\" text-anchor=\"start\" text-decoration=\"underline\" x=\"592\" y=\"-550\">imaging.CellCompartment</text>\n</a>\n</g>\n</g>\n<!-- imaging.ActivityExtractionMethod -->\n<g class=\"node\" id=\"node19\">\n<title>imaging.ActivityExtractionMethod</title>\n<g id=\"a_node19\"><a xlink:title=\"extraction_method    \r\">\n<polygon fill=\"#000000\" fill-opacity=\"0.125490\" points=\"1261.5,-152 1098.5,-152 1098.5,-117 1261.5,-117 1261.5,-152\" stroke=\"transparent\"/>\n<text font-family=\"arial\" font-size=\"10.00\" text-anchor=\"start\" text-decoration=\"underline\" x=\"1106.5\" y=\"-133\">imaging.ActivityExtractionMethod</text>\n</a>\n</g>\n</g>\n<!-- imaging.ActivityExtractionMethod&#45;&gt;imaging.Activity -->\n<g class=\"edge\" id=\"edge20\">\n<title>imaging.ActivityExtractionMethod-&gt;imaging.Activity</title>\n<path d=\"M1098.12,-118.25C1095.38,-117.82 1092.67,-117.4 1090,-117 932.19,-93.43 739.13,-74.92 687.95,-70.18\" fill=\"none\" stroke=\"#000000\" stroke-opacity=\"0.250980\" stroke-width=\"0.75\"/>\n</g>\n<!-- imaging.MaskClassification&#45;&gt;`neuro_imaging`.`__mask_classification__mask_type` -->\n<g class=\"edge\" id=\"edge21\">\n<title>imaging.MaskClassification-&gt;`neuro_imaging`.`__mask_classification__mask_type`</title>\n<path d=\"M198,-121.37C198,-108.67 198,-89.04 198,-77.77\" fill=\"none\" stroke=\"#000000\" stroke-opacity=\"0.250980\" stroke-width=\"0.75\"/>\n</g>\n<!-- imaging.Curation&#45;&gt;imaging.Segmentation -->\n<g class=\"edge\" id=\"edge22\">\n<title>imaging.Curation-&gt;imaging.Segmentation</title>\n<path d=\"M407.25,-258.8C401.33,-246.03 393.34,-228.8 388.18,-217.66\" fill=\"none\" stroke=\"#000000\" stroke-opacity=\"0.250980\" stroke-width=\"2\"/>\n</g>\n<!-- imaging.Fluorescence&#45;&gt;`neuro_imaging`.`__fluorescence__trace` -->\n<g class=\"edge\" id=\"edge23\">\n<title>imaging.Fluorescence-&gt;`neuro_imaging`.`__fluorescence__trace`</title>\n<path d=\"M572.59,-125.07C558.86,-112.77 533.5,-90.05 519.64,-77.64\" fill=\"none\" stroke=\"#000000\" stroke-opacity=\"0.250980\" stroke-width=\"0.75\"/>\n</g>\n<!-- imaging.Fluorescence&#45;&gt;imaging.Activity -->\n<g class=\"edge\" id=\"edge24\">\n<title>imaging.Fluorescence-&gt;imaging.Activity</title>\n<path d=\"M592.31,-126.35C610.18,-113.95 646.74,-88.6 664.65,-76.18\" fill=\"none\" stroke=\"#000000\" stroke-opacity=\"0.250980\" stroke-width=\"0.75\"/>\n</g>\n</g>\n</svg>"
     },
     "metadata": {},
     "execution_count": 8
    }
   ],
   "source": [
    "dj.Diagram(imaging)"
   ]
  },
  {
   "cell_type": "markdown",
   "metadata": {},
   "source": [
    "## Insert an entry into `subject.Subject`"
   ]
  },
  {
   "cell_type": "code",
   "execution_count": 9,
   "metadata": {},
   "outputs": [],
   "source": [
    "subject.Subject.insert1(dict(subject='subject1', \n",
    "                             sex='F', \n",
    "                             subject_birth_date='2019-01-01 00:00:01', \n",
    "                             subject_description='no description'))"
   ]
  },
  {
   "cell_type": "markdown",
   "metadata": {},
   "source": [
    "## Insert an entry into `lab.Equipment`"
   ]
  },
  {
   "cell_type": "code",
   "execution_count": 10,
   "metadata": {},
   "outputs": [],
   "source": [
    "Equipment.insert1(dict(scanner='Miniscope-DAQ-V3'))"
   ]
  },
  {
   "cell_type": "markdown",
   "metadata": {},
   "source": [
    "## Insert an entry into `session.Session`"
   ]
  },
  {
   "cell_type": "code",
   "execution_count": 11,
   "metadata": {},
   "outputs": [],
   "source": [
    "session.Session.insert1(dict(subject='subject1', \n",
    "                             session_datetime='2021-01-01 00:00:01'))"
   ]
  },
  {
   "cell_type": "markdown",
   "metadata": {},
   "source": [
    "## Insert an entry into `session.SessionDirectory`"
   ]
  },
  {
   "cell_type": "code",
   "execution_count": 12,
   "metadata": {},
   "outputs": [],
   "source": [
    "session.SessionDirectory.insert1(dict(subject='subject1', \n",
    "                                      session_datetime='2021-01-01 00:00:01', \n",
    "                                      session_dir='<imaging_root_data_dir>/subject1/session0'))"
   ]
  },
  {
   "cell_type": "markdown",
   "metadata": {},
   "source": [
    "## Insert an entry into `scan.Scan`"
   ]
  },
  {
   "cell_type": "code",
   "execution_count": null,
   "metadata": {},
   "outputs": [],
   "source": [
    "scan.Scan.insert1(dict(subject='subject1', \n",
    "                       session_datetime='2021-01-01 00:00:01', \n",
    "                       scan_id=0, \n",
    "                       scanner='Miniscope-DAQ-V3', \n",
    "                       acq_software='Miniscope-DAQ-V3',\n",
    "                       scan_notes=''))"
   ]
  },
  {
   "cell_type": "markdown",
   "metadata": {},
   "source": [
    "## Populate `scan.ScanInfo`\n",
    "\n",
    "+ This imported table stores information about the acquired image (e.g. image dimensions, file paths, etc.)."
   ]
  },
  {
   "cell_type": "code",
   "execution_count": null,
   "metadata": {},
   "outputs": [],
   "source": [
    "populate_settings = {'display_progress': True, 'reserve_jobs': False, 'suppress_errors': False}"
   ]
  },
  {
   "cell_type": "code",
   "execution_count": null,
   "metadata": {},
   "outputs": [],
   "source": [
    "scan.ScanInfo.populate(**populate_settings)"
   ]
  },
  {
   "cell_type": "markdown",
   "metadata": {
    "collapsed": false
   },
   "source": [
    "## Insert an entry into `imaging.ProcessingTask`\n",
    "\n",
    "+ This entry will trigger ingestion of the processed results (i.e. motion correction, segmentation, and traces)\n",
    "\n",
    "+ The `paramset_idx` is the parameter set stored in `imaging.ProcessingParamSet` that is used for the image processing.\n",
    "\n",
    "+ The `processing_output_dir` attribute contains the output directory of the processed results (relative the the imaging root data directory)."
   ]
  },
  {
   "cell_type": "code",
   "execution_count": 7,
   "metadata": {
    "collapsed": false,
    "pycharm": {
     "name": "#%%\n"
    }
   },
   "outputs": [],
   "source": [
    "imaging.ProcessingTask.insert1(dict(subject='subject1', \n",
    "                                    session_datetime='2021-01-01 00:00:01', \n",
    "                                    scan_id=0,\n",
    "                                    paramset_idx=0,\n",
    "                                    processing_output_dir='<imaging_root_data_dir>/subject1/session0/miniscope_analysis',\n",
    "                                    task_mode='load'))"
   ]
  },
  {
   "cell_type": "markdown",
   "metadata": {},
   "source": [
    "## Populate `imaging.Processing`\n",
    "\n",
    "+ For the `task_mode=load` specified above in `imaging.ProcessingTask`, this step ensures that the output directory contains the valid processed outputs.\n",
    "\n",
    "+ In the future, this step will provide for the option to `trigger` the analysis within this workflow (if the `task_mode=trigger`)."
   ]
  },
  {
   "cell_type": "code",
   "execution_count": null,
   "metadata": {},
   "outputs": [],
   "source": [
    "imaging.Processing.populate(**populate_settings)"
   ]
  },
  {
   "cell_type": "markdown",
   "metadata": {},
   "source": [
    "## Populate `imaging.MotionCorrection`\n",
    "\n",
    "+ This table contains the rigid or non-rigid motion correction data including the shifts and summary images.\n"
   ]
  },
  {
   "cell_type": "code",
   "execution_count": null,
   "metadata": {},
   "outputs": [],
   "source": [
    "imaging.MotionCorrection.populate(**populate_settings)"
   ]
  },
  {
   "cell_type": "markdown",
   "metadata": {
    "collapsed": false
   },
   "source": [
    "## Insert an entry into `imaging.Curation`\n",
    "\n",
    "+ The next step in the pipeline is the curation of segmentation results. If a manual curation was implemented, an entry needs to be manually inserted into the table Curation, which specifies the directory to the curated results in curation_output_dir. If we would like to process the processed outcome directly, an entry is also needed in Curation. A method create1_from_processing_task was provided to help this insertion. It copies the processing_output_dir in ProcessingTask to the field curation_output_dir in the table Curation with a new curation_id.\n",
    "\n",
    "+ In this example, we create/insert one `imaging.Curation` for each `imaging.ProcessingTask`, specifying the same output directory."
   ]
  },
  {
   "cell_type": "code",
   "execution_count": null,
   "metadata": {},
   "outputs": [],
   "source": [
    "imaging.Curation(dict(subject='subject1', \n",
    "                      session_datetime='2021-01-01 00:00:01', \n",
    "                      scan_id=0,\n",
    "                      paramset_idx=0,\n",
    "                      curation_id=0,\n",
    "                      curation_time='2021-01-01 00:00:01', \n",
    "                      curation_output_dir='<imaging_root_data_dir>/subject1/session0/miniscope_analysis',\n",
    "                      manual_curation=False,\n",
    "                      curation_note=''})"
   ]
  },
  {
   "cell_type": "markdown",
   "metadata": {},
   "source": [
    "## Populate `imaging.Segmentation`\n",
    "\n",
    "+ This table contains the mask coordinates, weights, and centers."
   ]
  },
  {
   "cell_type": "code",
   "execution_count": null,
   "metadata": {},
   "outputs": [],
   "source": [
    "imaging.Segmentation.populate(**populate_settings)"
   ]
  },
  {
   "cell_type": "markdown",
   "metadata": {},
   "source": [
    "## Populate `imaging.MaskClassification`\n",
    "\n",
    "+ This table is currently not implemented."
   ]
  },
  {
   "cell_type": "code",
   "execution_count": null,
   "metadata": {},
   "outputs": [],
   "source": [
    "imaging.MaskClassification.populate(**populate_settings)"
   ]
  },
  {
   "cell_type": "markdown",
   "metadata": {},
   "source": [
    "## Populate `imaging.Fluorescence`\n",
    "\n",
    "+ This table contains the fluorescence traces prior filtering and spike extraction"
   ]
  },
  {
   "cell_type": "code",
   "execution_count": null,
   "metadata": {},
   "outputs": [],
   "source": [
    "imaging.Fluorescence.populate(**populate_settings)"
   ]
  },
  {
   "cell_type": "markdown",
   "metadata": {},
   "source": [
    "## Populate `imaging.Activity`\n",
    "+ This table contains the inferred neural activity from the fluorescence traces."
   ]
  },
  {
   "cell_type": "code",
   "execution_count": null,
   "metadata": {},
   "outputs": [],
   "source": [
    "imaging.Activity.populate(**populate_settings)"
   ]
  },
  {
   "cell_type": "markdown",
   "metadata": {},
   "source": [
    "## Proceed to the `02explore.ipynb` Jupyter Notebook\n",
    "\n",
    "+ This notebook describes the steps to query, fetch, and visualize the imaging data."
   ]
  }
 ],
 "metadata": {
  "jupytext": {
   "formats": "ipynb,py"
  },
  "kernelspec": {
   "name": "python3",
   "display_name": "Python 3.7.10 64-bit ('workflow-miniscope': conda)",
   "metadata": {
    "interpreter": {
     "hash": "fb69438121b2de1073146525f02c3c959a56b9d2c1d6b0a62c34f01201323d1c"
    }
   }
  },
  "language_info": {
   "codemirror_mode": {
    "name": "ipython",
    "version": 3
   },
   "file_extension": ".py",
   "mimetype": "text/x-python",
   "name": "python",
   "nbconvert_exporter": "python",
   "pygments_lexer": "ipython3",
   "version": "3.7.10"
  }
 },
 "nbformat": 4,
 "nbformat_minor": 2
}