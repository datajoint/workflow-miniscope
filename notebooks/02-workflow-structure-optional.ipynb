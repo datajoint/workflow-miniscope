{
 "cells": [
  {
   "cell_type": "markdown",
   "metadata": {},
   "source": [
    "# Introduction to the workflow structure\n",
    "\n",
    "This notebook gives a brief overview of the workflow structure and introduces some useful DataJoint tools to facilitate the exploration.\n",
    "\n",
    "+ DataJoint needs to be pre-configured before running this notebook, if you haven't set up the configuration, refer to notebook [01-configure](01-configure.ipynb).\n",
    "\n",
    "+ If you are familiar with DataJoint and the workflow structure, proceed directly to the next notebook [03-process](03-process.ipynb) to run the workflow.\n",
    "\n",
    "+ For a more thorough introduction of DataJoint functions, please visit our general tutorial site - [DataJoint CodeBook](https://codebook.datajoint.io).\n",
    "\n",
    "To load the local configuration, we will change the directory to the package root."
   ]
  },
  {
   "cell_type": "code",
   "execution_count": null,
   "metadata": {},
   "outputs": [],
   "source": [
    "import os\n",
    "if os.path.basename(os.getcwd())=='notebooks': os.chdir('..')"
   ]
  },
  {
   "cell_type": "markdown",
   "metadata": {},
   "source": [
    "## Schemas and tables\n",
    "\n",
    "+ The current workflow is composed of multiple database schemas, each of them corresponds to a module within `workflow_miniscope.pipeline`"
   ]
  },
  {
   "cell_type": "code",
   "execution_count": null,
   "metadata": {},
   "outputs": [],
   "source": [
    "import datajoint as dj\n",
    "from workflow_miniscope.pipeline import lab, subject, session, miniscope"
   ]
  },
  {
   "cell_type": "markdown",
   "metadata": {},
   "source": [
    "+ Each module contains a schema object that enables interaction with the schema in the database."
   ]
  },
  {
   "cell_type": "code",
   "execution_count": null,
   "metadata": {
    "title": "Each module imported above corresponds to one schema inside the database. For example, `ephys` corresponds to `neuro_ephys` schema in the database."
   },
   "outputs": [],
   "source": [
    "miniscope.schema"
   ]
  },
  {
   "cell_type": "markdown",
   "metadata": {},
   "source": [
    "+ The table classes in the module corresponds to a table in the schema in the database."
   ]
  },
  {
   "cell_type": "code",
   "execution_count": null,
   "metadata": {
    "title": "Each datajoint table class inside the module corresponds to a table inside the schema. For example, the class `ephys.EphysRecording` correponds to the table `_ephys_recording` in the schema `neuro_ephys` in the database."
   },
   "outputs": [],
   "source": [
    "# preview columns and contents in a table\n",
    "miniscope.Processing()"
   ]
  },
  {
   "cell_type": "markdown",
   "metadata": {
    "lines_to_next_cell": 0,
    "title": "The first time importing the modules, empty schemas and tables will be created in the database."
   },
   "source": [
    "+ By importing the modules for the first time, the schemas and tables will be created inside the database.\n",
    "\n",
    "+ Once created, importing modules will not create schemas and tables again, but the existing schemas/tables can be accessed and manipulated by the modules."
   ]
  },
  {
   "cell_type": "markdown",
   "metadata": {
    "lines_to_next_cell": 0,
    "title": "The schemas and tables will not be re-created when importing modules if they have existed."
   },
   "source": [
    "## DataJoint tools to explore schemas and tables\n",
    "\n",
    "+ `dj.list_schemas()`: list all schemas a user has access to in the current database"
   ]
  },
  {
   "cell_type": "code",
   "execution_count": null,
   "metadata": {
    "title": "`dj.list_schemas()`: list all schemas a user could access."
   },
   "outputs": [],
   "source": [
    "dj.list_schemas()"
   ]
  },
  {
   "cell_type": "markdown",
   "metadata": {},
   "source": [
    "+ `dj.Diagram()`: plot tables and dependencies in a schema. "
   ]
  },
  {
   "cell_type": "code",
   "execution_count": null,
   "metadata": {
    "title": "`dj.Diagram()`: plot tables and dependencies"
   },
   "outputs": [],
   "source": [
    "# plot diagram for all tables in a schema\n",
    "dj.Diagram(miniscope)"
   ]
  },
  {
   "cell_type": "markdown",
   "metadata": {},
   "source": [
    "**Table tiers**: \n",
    "\n",
    "+ Manual table\n",
    "     + Visually represented with a green box.\n",
    "     + Manually inserted table\n",
    "     + Expect new entries daily, e.g. Subject, Recording.  \n",
    "+ Lookup table\n",
    "     + Visually represented with a gray box.\n",
    "     + Pre-inserted table\n",
    "     + Commonly used for general facts or parameters. e.g. Strain, ProcessingParamSet.  \n",
    "+ Imported table\n",
    "     + Visually represented with a blue oval.\n",
    "     + Auto-processing table\n",
    "     + Processing depends on the importing of external files. e.g. `Processing` requires output files from CaImAn.  \n",
    "+ Computed table\n",
    "     + Visually represented with a red circle.\n",
    "     + Auto-processing table\n",
    "     + Processing does not depend on files external to the database.     \n",
    "+ Part table\n",
    "     + Visually represented with plain text.\n",
    "     + As an appendix to the master table, all the part entries of a given master entry represent a intact set of the master entry. e.g. `Mask` of a `Segmentation`.\n",
    "\n",
    "**Dependencies**:  \n",
    "\n",
    "+ One-to-one primary\n",
    "     + Visually represented with a thick solid line.\n",
    "     + Share the exact same primary key, meaning the child table inherits all the primary key fields from the parent table as its own primary key.     \n",
    "+ One-to-many primary\n",
    "     + Visually represented with a thin solid line.\n",
    "     + Inherit the primary key from the parent table, but have additional field(s) as part of the primary key as well.\n",
    "+ Secondary dependency\n",
    "     + Visually represented with a dashed line.\n",
    "     + The child table inherits the primary key fields from parent table as its own secondary attribute."
   ]
  },
  {
   "cell_type": "code",
   "execution_count": null,
   "metadata": {
    "title": "`dj.Diagram()`: plot the diagram of the tables and dependencies. It could be used to plot tables in a schema or selected tables."
   },
   "outputs": [],
   "source": [
    "# plot diagram of tables in multiple schemas\n",
    "dj.Diagram(subject) + dj.Diagram(session) + dj.Diagram(miniscope)"
   ]
  },
  {
   "cell_type": "code",
   "execution_count": null,
   "metadata": {},
   "outputs": [],
   "source": [
    "# plot diagram of selected tables and schemas\n",
    "dj.Diagram(subject.Subject) + dj.Diagram(session.Session) + dj.Diagram(miniscope)"
   ]
  },
  {
   "cell_type": "markdown",
   "metadata": {
    "lines_to_next_cell": 0,
    "title": "`heading`:"
   },
   "source": [
    "+ `describe()`: show table definition with foreign key references."
   ]
  },
  {
   "cell_type": "code",
   "execution_count": null,
   "metadata": {},
   "outputs": [],
   "source": [
    "miniscope.Processing.describe();"
   ]
  },
  {
   "cell_type": "markdown",
   "metadata": {},
   "source": [
    "+ `heading`: show attribute definitions regardless of foreign key references"
   ]
  },
  {
   "cell_type": "code",
   "execution_count": null,
   "metadata": {
    "title": "`heading`: show table attributes regardless of foreign key references."
   },
   "outputs": [],
   "source": [
    "miniscope.Processing.heading"
   ]
  },
  {
   "cell_type": "markdown",
   "metadata": {
    "title": "ephys"
   },
   "source": [
    "# DataJoint Elements installed in `workflow-miniscope`\n",
    "\n",
    "+ [`lab`](https://github.com/datajoint/element-lab): lab management related information, such as Lab, User, Project, Protocol, Source."
   ]
  },
  {
   "cell_type": "code",
   "execution_count": null,
   "metadata": {},
   "outputs": [],
   "source": [
    "dj.Diagram(lab)"
   ]
  },
  {
   "cell_type": "markdown",
   "metadata": {},
   "source": [
    "+ [`subject`](https://github.com/datajoint/element-animal): general animal information, such as User, Genetic background."
   ]
  },
  {
   "cell_type": "code",
   "execution_count": null,
   "metadata": {},
   "outputs": [],
   "source": [
    "dj.Diagram(subject)"
   ]
  },
  {
   "cell_type": "code",
   "execution_count": null,
   "metadata": {
    "title": "[subject](https://github.com/datajoint/element-animal): contains the basic information of subject, including Strain, Line, Subject, Zygosity, and SubjectDeath information."
   },
   "outputs": [],
   "source": [
    "subject.Subject.describe();"
   ]
  },
  {
   "cell_type": "markdown",
   "metadata": {},
   "source": [
    "+ [`session`](https://github.com/datajoint/element-session): General information of experimental sessions."
   ]
  },
  {
   "cell_type": "code",
   "execution_count": null,
   "metadata": {},
   "outputs": [],
   "source": [
    "dj.Diagram(session)"
   ]
  },
  {
   "cell_type": "code",
   "execution_count": null,
   "metadata": {
    "title": "[session](https://github.com/datajoint/element-session): experimental session information"
   },
   "outputs": [],
   "source": [
    "session.Session.describe();"
   ]
  },
  {
   "cell_type": "markdown",
   "metadata": {},
   "source": [
    "+ [`miniscope`](https://github.com/datajoint/element-miniscope): miniscope raw recording and processed data"
   ]
  },
  {
   "cell_type": "code",
   "execution_count": null,
   "metadata": {
    "title": "[probe and ephys](https://github.com/datajoint/element-array-ephys): Neuropixel based probe and ephys tables"
   },
   "outputs": [],
   "source": [
    "dj.Diagram(miniscope)"
   ]
  },
  {
   "cell_type": "markdown",
   "metadata": {},
   "source": [
    "## Summary and next step\n",
    "\n",
    "+ This notebook introduced the overall structures of the schemas and tables in the workflow and relevant tools to explore the schema structure and table definitions.\n",
    "\n",
    "+ In the next notebook [03-process](03-process.ipynb), we will introduce the detailed steps to run through the workflow."
   ]
  }
 ],
 "metadata": {
  "jupytext": {
   "encoding": "# -*- coding: utf-8 -*-",
   "formats": "ipynb,scripts//py"
  },
  "kernelspec": {
   "display_name": "Python 3.7.9 64-bit ('workflow-calcium-imaging': conda)",
   "name": "python379jvsc74a57bd01a512f474e195e32ad84236879d3bb44800a92b431919ef0b10d543f5012a23c"
  },
  "language_info": {
   "codemirror_mode": {
    "name": "ipython",
    "version": 3
   },
   "file_extension": ".py",
   "mimetype": "text/x-python",
   "name": "python",
   "nbconvert_exporter": "python",
   "pygments_lexer": "ipython3",
   "version": "3.7.9"
  }
 },
 "nbformat": 4,
 "nbformat_minor": 4
}
