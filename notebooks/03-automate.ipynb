{
 "cells": [
  {
   "cell_type": "markdown",
   "metadata": {},
   "source": [
    "# [WIP] Automated workflow\n",
    "### Method for inserting entries\n",
    "\n",
    "Modify `user_data/subjects.csv` and `user_data/sessions.csv`, and run the following commands\n",
    "\n",
    "or with the `ingest` method and accompanying `csv` files."
   ]
  },
  {
   "cell_type": "markdown",
   "metadata": {},
   "source": []
  },
  {
   "cell_type": "code",
   "execution_count": 1,
   "metadata": {},
   "outputs": [
    {
     "output_type": "stream",
     "name": "stdout",
     "text": [
      "DataJoint verified plugin `datajoint_connection_hub` detected.\n",
      "Connecting dbadmin@djhub-hosting-ucla-001.clv9vocx3mqz.us-west-2.rds.amazonaws.com:3306\n"
     ]
    }
   ],
   "source": [
    "import os\n",
    "os.chdir('..')\n",
    "from workflow_miniscope.pipeline import *\n",
    "from workflow_miniscope.ingest import ingest_subjects, ingest_sessions"
   ]
  },
  {
   "cell_type": "code",
   "execution_count": 2,
   "metadata": {},
   "outputs": [
    {
     "output_type": "stream",
     "name": "stdout",
     "text": [
      "\n---- Insert 1 entry(s) into subject.Subject ----\n\n---- Successfully completed ingest_subjects ----\n"
     ]
    }
   ],
   "source": [
    "ingest_subjects()"
   ]
  },
  {
   "cell_type": "code",
   "execution_count": 3,
   "metadata": {},
   "outputs": [
    {
     "output_type": "error",
     "ename": "FileNotFoundError",
     "evalue": "Unable to identify scan files from the supported acquisition softwares (Miniscope-DAQ-V3) at: /Users/kabilar/Documents/Data/U24/imaging_sample_data/pingping_miniscope/session0",
     "traceback": [
      "\u001b[0;31m---------------------------------------------------------------------------\u001b[0m",
      "\u001b[0;31mFileNotFoundError\u001b[0m                         Traceback (most recent call last)",
      "\u001b[0;32m<ipython-input-3-bbd8c17d2606>\u001b[0m in \u001b[0;36m<module>\u001b[0;34m\u001b[0m\n\u001b[0;32m----> 1\u001b[0;31m \u001b[0mingest_sessions\u001b[0m\u001b[0;34m(\u001b[0m\u001b[0;34m)\u001b[0m\u001b[0;34m\u001b[0m\u001b[0;34m\u001b[0m\u001b[0m\n\u001b[0m",
      "\u001b[0;32m~/Documents/GitHub/workflow-miniscope/workflow_miniscope/ingest.py\u001b[0m in \u001b[0;36mingest_sessions\u001b[0;34m(session_csv_path)\u001b[0m\n\u001b[1;32m     40\u001b[0m                 \u001b[0;32mbreak\u001b[0m\u001b[0;34m\u001b[0m\u001b[0;34m\u001b[0m\u001b[0m\n\u001b[1;32m     41\u001b[0m         \u001b[0;32melse\u001b[0m\u001b[0;34m:\u001b[0m\u001b[0;34m\u001b[0m\u001b[0;34m\u001b[0m\u001b[0m\n\u001b[0;32m---> 42\u001b[0;31m             \u001b[0;32mraise\u001b[0m \u001b[0mFileNotFoundError\u001b[0m\u001b[0;34m(\u001b[0m\u001b[0;34mf'Unable to identify scan files from the supported acquisition softwares (Miniscope-DAQ-V3) at: {sess_dir}'\u001b[0m\u001b[0;34m)\u001b[0m\u001b[0;34m\u001b[0m\u001b[0;34m\u001b[0m\u001b[0m\n\u001b[0m\u001b[1;32m     43\u001b[0m \u001b[0;34m\u001b[0m\u001b[0m\n\u001b[1;32m     44\u001b[0m         \u001b[0;32mif\u001b[0m \u001b[0macq_software\u001b[0m \u001b[0;34m==\u001b[0m \u001b[0;34m'Miniscope-DAQ-V3'\u001b[0m\u001b[0;34m:\u001b[0m\u001b[0;34m\u001b[0m\u001b[0;34m\u001b[0m\u001b[0m\n",
      "\u001b[0;31mFileNotFoundError\u001b[0m: Unable to identify scan files from the supported acquisition softwares (Miniscope-DAQ-V3) at: /Users/kabilar/Documents/Data/U24/imaging_sample_data/pingping_miniscope/session0"
     ]
    }
   ],
   "source": [
    "ingest_sessions()"
   ]
  },
  {
   "cell_type": "code",
   "execution_count": null,
   "metadata": {},
   "outputs": [],
   "source": [
    "import pathlib\n",
    "from workflow_miniscope.paths import get_imaging_root_data_dir\n",
    "\n",
    "root_dir = pathlib.Path(get_imaging_root_data_dir())\n",
    "\n",
    "for scan_key in (scan.Scan & scan.ScanInfo - imaging.ProcessingTask).fetch('KEY'):\n",
    "    scan_file = root_dir / (scan.ScanInfo.ScanFile & scan_key).fetch('file_path')[0]\n",
    "    recording_dir = scan_file.parent\n",
    "\n",
    "    miniscope_analysis_dir = recording_dir / 'miniscope_analysis'\n",
    "    if miniscope_analysis_dir.exists():\n",
    "        imaging.ProcessingTask.insert1({**scan_key,\n",
    "                                        'paramset_idx': 0,\n",
    "                                        'processing_output_dir': miniscope_analysis_dir.as_posix()})"
   ]
  },
  {
   "cell_type": "code",
   "execution_count": null,
   "metadata": {},
   "outputs": [],
   "source": []
  },
  {
   "cell_type": "markdown",
   "metadata": {},
   "source": [
    "+ To this end, we make use of a convenient function `imaging.Curation().create1_from_processing_task()`"
   ]
  },
  {
   "cell_type": "code",
   "execution_count": null,
   "metadata": {},
   "outputs": [],
   "source": [
    "for key in (imaging.ProcessingTask - imaging.Curation).fetch('KEY'):\n",
    "    imaging.Curation().create1_from_processing_task(key)"
   ]
  },
  {
   "cell_type": "markdown",
   "metadata": {},
   "source": [
    "### Method for populating tables"
   ]
  },
  {
   "cell_type": "code",
   "execution_count": null,
   "metadata": {},
   "outputs": [],
   "source": [
    "from workflow_miniscope.populate import populate\n",
    "populate(display_progress=False)"
   ]
  }
 ],
 "metadata": {
  "jupytext": {
   "formats": "ipynb,py"
  },
  "language_info": {
   "codemirror_mode": {
    "name": "ipython",
    "version": 3
   },
   "file_extension": ".py",
   "mimetype": "text/x-python",
   "name": "python",
   "nbconvert_exporter": "python",
   "pygments_lexer": "ipython3",
   "version": "3.7.10"
  },
  "kernelspec": {
   "name": "python3",
   "display_name": "Python 3.7.10 64-bit ('workflow-miniscope': conda)",
   "metadata": {
    "interpreter": {
     "hash": "fb69438121b2de1073146525f02c3c959a56b9d2c1d6b0a62c34f01201323d1c"
    }
   }
  }
 },
 "nbformat": 4,
 "nbformat_minor": 2
}