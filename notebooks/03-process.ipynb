{
 "cells": [
  {
   "cell_type": "markdown",
   "metadata": {},
   "source": [
    "# Interactively run miniscope workflow\n",
    "\n",
    "+ This notebook walks you through the steps in detail to run the `workflow-miniscope`.  \n",
    "\n",
    "+ The workflow requires the data acquired from the UCLA Miniscope and Miniscope-DAQ software and processing with CaImAn.\n",
    "\n",
    "+ If you haven't configured the paths, refer to [01-configure](01-configure.ipynb).\n",
    "\n",
    "+ To overview the schema structures, refer to [02-workflow-structure](02-workflow-structure.ipynb).\n",
    "\n",
    "+ If you need a more automatic approach to run the workflow, refer to [04-automate](04-automate-optional.ipynb)."
   ]
  },
  {
   "cell_type": "markdown",
   "metadata": {},
   "source": [
    "Let's change the directory to the package root directory to load the local configuration (`dj_local_conf.json`)."
   ]
  },
  {
   "cell_type": "code",
   "execution_count": null,
   "metadata": {},
   "outputs": [],
   "source": [
    "import os\n",
    "if os.path.basename(os.getcwd())=='notebooks': os.chdir('..')\n",
    "import numpy as np\n",
    "import datajoint as dj"
   ]
  },
  {
   "cell_type": "markdown",
   "metadata": {},
   "source": [
    "## `Pipeline.py`\n",
    "\n",
    "+ This script `activates` the DataJoint `Elements` and declares other required tables."
   ]
  },
  {
   "cell_type": "code",
   "execution_count": null,
   "metadata": {},
   "outputs": [],
   "source": [
    "from workflow_miniscope.pipeline import *"
   ]
  },
  {
   "cell_type": "markdown",
   "metadata": {},
   "source": [
    "## Schema diagrams\n",
    "\n",
    "+ The following outputs are the diagrams of the schemas comprising this workflow.\n",
    "\n",
    "+ Please refer back to these diagrams to visualize the relationships of different tables."
   ]
  },
  {
   "cell_type": "code",
   "execution_count": null,
   "metadata": {},
   "outputs": [],
   "source": [
    "dj.Diagram(subject.Subject) + dj.Diagram(session.Session) + \\\n",
    "     dj.Diagram(AnatomicalLocation) + dj.Diagram(Equipment) +  dj.Diagram(miniscope) "
   ]
  },
  {
   "cell_type": "markdown",
   "metadata": {},
   "source": [
    "## Insert an entry into `subject.Subject`"
   ]
  },
  {
   "cell_type": "code",
   "execution_count": null,
   "metadata": {},
   "outputs": [],
   "source": [
    "subject.Subject.heading"
   ]
  },
  {
   "cell_type": "code",
   "execution_count": null,
   "metadata": {},
   "outputs": [],
   "source": [
    "subject.Subject.insert1(dict(subject='subject1', \n",
    "                             sex='F', \n",
    "                             subject_birth_date='2020-01-01', \n",
    "                             subject_description='UCLA Miniscope acquisition'))"
   ]
  },
  {
   "cell_type": "markdown",
   "metadata": {},
   "source": [
    "## Insert an entry into `lab.Equipment`"
   ]
  },
  {
   "cell_type": "code",
   "execution_count": null,
   "metadata": {},
   "outputs": [],
   "source": [
    "Equipment.insert1(dict(equipment='UCLA Miniscope',\n",
    "                       modality='miniscope',\n",
    "                       description=''))"
   ]
  },
  {
   "cell_type": "markdown",
   "metadata": {},
   "source": [
    "## Insert an entry into `session.Session`"
   ]
  },
  {
   "cell_type": "code",
   "execution_count": null,
   "metadata": {},
   "outputs": [],
   "source": [
    "session.Session.describe();"
   ]
  },
  {
   "cell_type": "code",
   "execution_count": null,
   "metadata": {},
   "outputs": [],
   "source": [
    "session.Session.heading"
   ]
  },
  {
   "cell_type": "code",
   "execution_count": null,
   "metadata": {},
   "outputs": [],
   "source": [
    "session_key = dict(subject='subject1', \n",
    "                   session_datetime='2021-01-01 00:00:01')"
   ]
  },
  {
   "cell_type": "code",
   "execution_count": null,
   "metadata": {},
   "outputs": [],
   "source": [
    "session.Session.insert1(session_key)"
   ]
  },
  {
   "cell_type": "code",
   "execution_count": null,
   "metadata": {},
   "outputs": [],
   "source": [
    "session.Session()"
   ]
  },
  {
   "cell_type": "markdown",
   "metadata": {},
   "source": [
    "## Insert an entry into `session.SessionDirectory`\n",
    "\n",
    "+ The `session_dir` is the relative path to the `miniscope_root_data_dir` for the given session, in POSIX format with `/`.\n",
    "\n",
    "+ Instead of a relative path, `session_dir` could be an absolute path but it is not recommended as the absolute path would have to match the `miniscope_root_data_dir` in `dj_local_conf.json`."
   ]
  },
  {
   "cell_type": "code",
   "execution_count": null,
   "metadata": {},
   "outputs": [],
   "source": [
    "session.SessionDirectory.describe();"
   ]
  },
  {
   "cell_type": "code",
   "execution_count": null,
   "metadata": {},
   "outputs": [],
   "source": [
    "session.SessionDirectory.heading"
   ]
  },
  {
   "cell_type": "code",
   "execution_count": null,
   "metadata": {},
   "outputs": [],
   "source": [
    "session.SessionDirectory.insert1(dict(**session_key, \n",
    "                                      session_dir='subject1/session1'))"
   ]
  },
  {
   "cell_type": "code",
   "execution_count": null,
   "metadata": {},
   "outputs": [],
   "source": [
    "session.SessionDirectory()"
   ]
  },
  {
   "cell_type": "markdown",
   "metadata": {},
   "source": [
    "## Insert an entry into `miniscope.Recording`"
   ]
  },
  {
   "cell_type": "code",
   "execution_count": null,
   "metadata": {},
   "outputs": [],
   "source": [
    "miniscope.Recording.heading"
   ]
  },
  {
   "cell_type": "code",
   "execution_count": null,
   "metadata": {},
   "outputs": [],
   "source": [
    "recording_key = dict(**session_key,\n",
    "                     recording_id=0)"
   ]
  },
  {
   "cell_type": "code",
   "execution_count": null,
   "metadata": {},
   "outputs": [],
   "source": [
    "miniscope.Recording.insert1(dict(**recording_key, \n",
    "                                 equipment='UCLA Miniscope', \n",
    "                                 acquisition_software='Miniscope-DAQ-V4',\n",
    "                                 recording_directory='subject1/session1',\n",
    "                                 recording_notes='No notes for this session.'))"
   ]
  },
  {
   "cell_type": "code",
   "execution_count": null,
   "metadata": {},
   "outputs": [],
   "source": [
    "miniscope.Recording()"
   ]
  },
  {
   "cell_type": "markdown",
   "metadata": {},
   "source": [
    "## Populate `miniscope.RecordingInfo`\n",
    "\n",
    "+ This imported table stores information about the acquired image (e.g. image dimensions, file paths, etc.).\n",
    "+ `populate` automatically calls `make` for every key for which the auto-populated table is missing data.\n",
    "+ `populate_settings` passes arguments to the `populate` method.\n",
    "+ `display_progress=True` reports the progress bar"
   ]
  },
  {
   "cell_type": "code",
   "execution_count": null,
   "metadata": {},
   "outputs": [],
   "source": [
    "miniscope.RecordingInfo.describe();"
   ]
  },
  {
   "cell_type": "code",
   "execution_count": null,
   "metadata": {},
   "outputs": [],
   "source": [
    "miniscope.RecordingInfo.heading"
   ]
  },
  {
   "cell_type": "code",
   "execution_count": null,
   "metadata": {},
   "outputs": [],
   "source": [
    "populate_settings = {'display_progress': True}"
   ]
  },
  {
   "cell_type": "code",
   "execution_count": null,
   "metadata": {},
   "outputs": [],
   "source": [
    "miniscope.RecordingInfo.populate(**populate_settings)"
   ]
  },
  {
   "cell_type": "code",
   "execution_count": null,
   "metadata": {},
   "outputs": [],
   "source": [
    "miniscope.RecordingInfo()"
   ]
  },
  {
   "cell_type": "markdown",
   "metadata": {},
   "source": [
    "## Insert a new entry into `miniscope.ProcessingParamSet` for CaImAn\n",
    "\n",
    "+ Define and insert the parameters that will be used for the CaImAn processing.\n",
    "\n",
    "+ This step is not needed if you are using an existing ProcessingParamSet.\n",
    "\n",
    "### Define CaImAn parameters"
   ]
  },
  {
   "cell_type": "code",
   "execution_count": null,
   "metadata": {},
   "outputs": [],
   "source": [
    "params = dict(decay_time=0.4,\n",
    "              pw_rigid=False,\n",
    "              max_shifts= (5, 5),\n",
    "              gSig_filt=(3, 3),\n",
    "              strides=(48, 48),\n",
    "              overlaps=(24, 24),\n",
    "              max_deviation_rigid=3,\n",
    "              border_nan='copy',\n",
    "              method_init='corr_pnr',\n",
    "              K=None,\n",
    "              gSig=(3, 3),\n",
    "              gSiz=(13, 13),\n",
    "              merge_thr=0.7,\n",
    "              p=1,\n",
    "              tsub=2,\n",
    "              ssub=1,\n",
    "              rf=40,\n",
    "              stride=20,\n",
    "              only_init=True,\n",
    "              nb=0,\n",
    "              nb_patch=0,\n",
    "              method_deconvolution='oasis',\n",
    "              low_rank_background=None,\n",
    "              update_background_components=True,\n",
    "              min_corr=0.8,\n",
    "              min_pnr=10,\n",
    "              normalize_init=False,\n",
    "              center_psf=True,\n",
    "              ssub_B=2,\n",
    "              ring_size_factor=1.4,\n",
    "              del_duplicates=True,\n",
    "              border_pix=0,\n",
    "              min_SNR=3,\n",
    "              rval_thr=0.85,\n",
    "              use_cnn=False,\n",
    "            )"
   ]
  },
  {
   "cell_type": "markdown",
   "metadata": {},
   "source": [
    "### Insert CaImAn parameters\n",
    "\n",
    "+ A method of the class `ProcessingParamset` called `insert_new_params` is a helper function to insert the CaImAn parameters and ensures that the parameter set inserted is not duplicated."
   ]
  },
  {
   "cell_type": "code",
   "execution_count": null,
   "metadata": {},
   "outputs": [],
   "source": [
    "miniscope.ProcessingParamSet.insert_new_params(\n",
    "    processing_method='caiman', \n",
    "    paramset_id=0, \n",
    "    paramset_desc='Calcium imaging analysis with CaImAn using default parameters',\n",
    "    params=params)"
   ]
  },
  {
   "cell_type": "markdown",
   "metadata": {},
   "source": [
    "## Insert new ProcessingTask to trigger analysis and ingestion of motion correction and segmentation results\n",
    "\n",
    "+ Motion correction and segmentation are performed for each recording in CaImAn.\n",
    "\n",
    "+ If `task_mode=trigger`, this entry will trigger running analysis (i.e. motion correction, segmentation, and traces) within the `miniscope.Processing` table.\n",
    "\n",
    "+ If the `task_mode=load` this step ensures that the output directory contains the valid processed outputs.\n",
    "\n",
    "+ The `paramset_id` is the parameter set stored in `miniscope.ProcessingParamSet` that is used for the imaging processing.\n",
    "    \n",
    "+ The `processing_output_dir` stores the directory of the processing results (relative to the miniscope root data directory)."
   ]
  },
  {
   "cell_type": "code",
   "execution_count": null,
   "metadata": {},
   "outputs": [],
   "source": [
    "miniscope.ProcessingTask.insert1(dict(**recording_key,\n",
    "                                      paramset_id=0,\n",
    "                                      processing_output_dir='subject1/session1/caiman',\n",
    "                                      task_mode='trigger'))"
   ]
  },
  {
   "cell_type": "markdown",
   "metadata": {},
   "source": [
    "## Populate `miniscope.Processing`"
   ]
  },
  {
   "cell_type": "code",
   "execution_count": null,
   "metadata": {},
   "outputs": [],
   "source": [
    "miniscope.Processing.populate(**populate_settings)"
   ]
  },
  {
   "cell_type": "markdown",
   "metadata": {},
   "source": [
    "## Insert new Curation following the ProcessingTask\n",
    "\n",
    "+ The next step in the pipeline is the curation of motion correction and segmentation results.\n",
    "\n",
    "+ If a manual curation was implemented, an entry needs to be manually inserted into the table `miniscope.Curation`, which specifies the directory to the curated results in `curation_output_dir`. \n",
    "\n",
    "+ If we would like to use the processed outcome directly, an entry is also needed in `miniscope.Curation`. A method `create1_from_processing_task` was provided to help this insertion. It copies the `processing_output_dir` in `miniscope.ProcessingTask` to the field `curation_output_dir` in the table `miniscope.Curation` with a new `curation_id`.\n",
    "\n",
    "    + In this example, we create/insert one `miniscope.Curation` for each `miniscope.ProcessingTask`, specifying the same output directory.\n",
    "\n",
    "    + To this end, we could also make use of a convenient function `miniscope.Curation().create1_from_processing_task()`"
   ]
  },
  {
   "cell_type": "code",
   "execution_count": null,
   "metadata": {},
   "outputs": [],
   "source": [
    "miniscope.Curation.insert1(dict(**recording_key,\n",
    "                              paramset_id=0,\n",
    "                              curation_id=0,\n",
    "                              curation_time='2022-04-30 12:22:15', \n",
    "                              curation_output_dir='subject1/session1/caiman',\n",
    "                              manual_curation=False,\n",
    "                              curation_note=''))"
   ]
  },
  {
   "cell_type": "markdown",
   "metadata": {},
   "source": [
    "## Populate `miniscope.MotionCorrection`\n",
    "\n",
    "+ This table contains the rigid or non-rigid motion correction data including the shifts and summary images.\n"
   ]
  },
  {
   "cell_type": "code",
   "execution_count": null,
   "metadata": {},
   "outputs": [],
   "source": [
    "miniscope.MotionCorrection.populate(**populate_settings)"
   ]
  },
  {
   "cell_type": "markdown",
   "metadata": {},
   "source": [
    "## Populate `miniscope.Segmentation`\n",
    "\n",
    "+ This table contains the mask coordinates, weights, and centers.\n",
    "+ This table also inserts the data into `MaskClassification`, which is the classification of the segmented masks and the confidence of classification."
   ]
  },
  {
   "cell_type": "code",
   "execution_count": null,
   "metadata": {},
   "outputs": [],
   "source": [
    "miniscope.Segmentation.populate(**populate_settings)"
   ]
  },
  {
   "cell_type": "markdown",
   "metadata": {},
   "source": [
    "## Add another set of results from a new round of curation\n",
    "\n",
    "If you performed curation on an existing processed results (i.e. motion correction or segmentation) then:\n",
    "    \n",
    "+ Add an entry into `miniscope.Curation` with the directory of the curated results and a new `curation_id`.\n",
    "\n",
    "+ Populate the `miniscope.MotionCorrection` and `miniscope.Segmentation` tables again."
   ]
  },
  {
   "cell_type": "markdown",
   "metadata": {},
   "source": [
    "## Populate `miniscope.Fluorescence`\n",
    "\n",
    "+ This table contains the fluorescence traces prior to filtering and spike extraction."
   ]
  },
  {
   "cell_type": "code",
   "execution_count": null,
   "metadata": {},
   "outputs": [],
   "source": [
    "miniscope.Fluorescence.populate(**populate_settings)"
   ]
  },
  {
   "cell_type": "markdown",
   "metadata": {},
   "source": [
    "## Populate `miniscope.Activity`\n",
    "+ This table contains the inferred neural activity from the fluorescence traces."
   ]
  },
  {
   "cell_type": "code",
   "execution_count": null,
   "metadata": {},
   "outputs": [],
   "source": [
    "miniscope.Activity.populate(**populate_settings)"
   ]
  },
  {
   "cell_type": "markdown",
   "metadata": {},
   "source": [
    "## Next steps\n",
    "\n",
    "+ Proceed to the [05-explore](05-explore.ipynb) to learn how to  query, fetch, and visualize the imaging data."
   ]
  }
 ],
 "metadata": {
  "jupytext": {
   "formats": "ipynb,scripts//py"
  },
  "kernelspec": {
   "display_name": "Python 3.8.11 ('ele')",
   "language": "python",
   "name": "python3"
  },
  "language_info": {
   "codemirror_mode": {
    "name": "ipython",
    "version": 3
   },
   "file_extension": ".py",
   "mimetype": "text/x-python",
   "name": "python",
   "nbconvert_exporter": "python",
   "pygments_lexer": "ipython3",
   "version": "3.8.11"
  },
  "vscode": {
   "interpreter": {
    "hash": "61456c693db5d9aa6731701ec9a9b08ab88a172bee0780139a3679beb166da16"
   }
  }
 },
 "nbformat": 4,
 "nbformat_minor": 2
}
