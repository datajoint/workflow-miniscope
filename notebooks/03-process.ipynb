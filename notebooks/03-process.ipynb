{
 "cells": [
  {
   "cell_type": "markdown",
   "metadata": {},
   "source": [
    "# Interactively run miniscope workflow\n",
    "\n",
    "+ This notebook walks you through the steps in detail to run the `workflow-miniscope`.  \n",
    "\n",
    "+ The workflow requires the data acquired from the UCLA Miniscope and Miniscope-DAQ software and processing with CaImAn.\n",
    "\n",
    "+ If you haven't configured the paths, refer to [01-configure](01-configure.ipynb).\n",
    "\n",
    "+ To overview the schema structures, refer to [02-workflow-structure](02-workflow-structure.ipynb).\n",
    "\n",
    "+ If you need a more automatic approach to run the workflow, refer to [04-automate](04-automate-optional.ipynb)."
   ]
  },
  {
   "cell_type": "markdown",
   "metadata": {},
   "source": [
    "Let's change the directory to the package root directory to load the local configuration (`dj_local_conf.json`)."
   ]
  },
  {
   "cell_type": "code",
   "execution_count": 19,
   "metadata": {},
   "outputs": [],
   "source": [
    "import os\n",
    "if os.path.basename(os.getcwd())=='notebooks': os.chdir('..')\n",
    "import numpy as np"
   ]
  },
  {
   "cell_type": "markdown",
   "metadata": {},
   "source": [
    "## `Pipeline.py`\n",
    "\n",
    "+ This script `activates` the DataJoint `Elements` and declares other required tables."
   ]
  },
  {
   "cell_type": "code",
   "execution_count": 20,
   "metadata": {},
   "outputs": [],
   "source": [
    "import datajoint as dj\n",
    "from workflow_miniscope.pipeline import subject, session, miniscope, Equipment, \\\n",
    "                                        AnatomicalLocation"
   ]
  },
  {
   "cell_type": "markdown",
   "metadata": {},
   "source": [
    "## Schema diagrams\n",
    "\n",
    "+ The following outputs are the diagrams of the schemas comprising this workflow.\n",
    "\n",
    "+ Please refer back to these diagrams to visualize the relationships of different tables."
   ]
  },
  {
   "cell_type": "code",
   "execution_count": 21,
   "metadata": {},
   "outputs": [
    {
     "data": {
      "image/svg+xml": [
       "<svg xmlns=\"http://www.w3.org/2000/svg\" xmlns:xlink=\"http://www.w3.org/1999/xlink\" width=\"1457pt\" height=\"719pt\" viewBox=\"0.00 0.00 1456.50 719.00\">\n",
       "<g id=\"graph0\" class=\"graph\" transform=\"scale(1 1) rotate(0) translate(4 715)\">\n",
       "<polygon fill=\"white\" stroke=\"transparent\" points=\"-4,4 -4,-715 1452.5,-715 1452.5,4 -4,4\"/>\n",
       "<!-- 35 -->\n",
       "<g id=\"node1\" class=\"node\">\n",
       "<title>35</title>\n",
       "<ellipse fill=\"#ff8800\" fill-opacity=\"0.501961\" stroke=\"#ff8800\" stroke-opacity=\"0.501961\" cx=\"366.5\" cy=\"-205.5\" rx=\"2\" ry=\"2\"/>\n",
       "<text text-anchor=\"middle\" x=\"366.5\" y=\"-205.2\" font-family=\"arial\" font-size=\"1.00\" fill=\"#ff8800\" fill-opacity=\"0.501961\">35</text>\n",
       "</g>\n",
       "<!-- miniscope.Fluorescence.Trace -->\n",
       "<g id=\"node30\" class=\"node\">\n",
       "<title>miniscope.Fluorescence.Trace</title>\n",
       "<g id=\"a_node30\"><a xlink:title=\"→ miniscope.Fluorescence\r",
       "→ miniscope.Segmentation.Mask\r",
       "→ miniscope.Channel.proj(fluorescence_channel=&quot;channel&quot;)\r",
       "------------------------------\r",
       "fluorescence         \r",
       "neuropil_fluorescence=null \r",
       "\">\n",
       "<polygon fill=\"transparent\" stroke=\"transparent\" points=\"339.5,-77.5 189.5,-77.5 189.5,-58.5 339.5,-58.5 339.5,-77.5\"/>\n",
       "<text text-anchor=\"middle\" x=\"264.5\" y=\"-65.5\" font-family=\"arial\" font-size=\"10.00\">miniscope.Fluorescence.Trace</text>\n",
       "</a>\n",
       "</g>\n",
       "</g>\n",
       "<!-- 35&#45;&gt;miniscope.Fluorescence.Trace -->\n",
       "<g id=\"edge1\" class=\"edge\">\n",
       "<title>35-&gt;miniscope.Fluorescence.Trace</title>\n",
       "<path fill=\"none\" stroke=\"#000000\" stroke-width=\"0.75\" stroke-opacity=\"0.250980\" d=\"M366.57,-203.11C366.94,-194.33 367.89,-146.15 346.5,-117 332.45,-97.85 308.26,-85.05 289.78,-77.53\"/>\n",
       "</g>\n",
       "<!-- 34 -->\n",
       "<g id=\"node2\" class=\"node\">\n",
       "<title>34</title>\n",
       "<ellipse fill=\"#ff8800\" fill-opacity=\"0.501961\" stroke=\"#ff8800\" stroke-opacity=\"0.501961\" cx=\"402.5\" cy=\"-205.5\" rx=\"2\" ry=\"2\"/>\n",
       "<text text-anchor=\"middle\" x=\"402.5\" y=\"-205.2\" font-family=\"arial\" font-size=\"1.00\" fill=\"#ff8800\" fill-opacity=\"0.501961\">34</text>\n",
       "</g>\n",
       "<!-- miniscope.Segmentation.Mask -->\n",
       "<g id=\"node9\" class=\"node\">\n",
       "<title>miniscope.Segmentation.Mask</title>\n",
       "<g id=\"a_node9\"><a xlink:title=\"→ miniscope.Segmentation\r",
       "mask_id              \r",
       "------------------------------\r",
       "→ miniscope.Channel.proj(segmentation_channel=&quot;channel&quot;)\r",
       "mask_npix            \r",
       "mask_center_x=null   \r",
       "mask_center_y=null   \r",
       "mask_xpix=null       \r",
       "mask_ypix=null       \r",
       "mask_weights         \r",
       "\">\n",
       "<polygon fill=\"transparent\" stroke=\"transparent\" points=\"546,-144 395,-144 395,-125 546,-125 546,-144\"/>\n",
       "<text text-anchor=\"start\" x=\"403\" y=\"-133\" font-family=\"arial\" text-decoration=\"underline\" font-size=\"10.00\">miniscope.Segmentation.Mask</text>\n",
       "</a>\n",
       "</g>\n",
       "</g>\n",
       "<!-- 34&#45;&gt;miniscope.Segmentation.Mask -->\n",
       "<g id=\"edge2\" class=\"edge\">\n",
       "<title>34-&gt;miniscope.Segmentation.Mask</title>\n",
       "<path fill=\"none\" stroke=\"#000000\" stroke-width=\"0.75\" stroke-dasharray=\"5,2\" stroke-opacity=\"0.250980\" d=\"M403.46,-203.52C409.76,-197.14 445.36,-161.01 461.97,-144.16\"/>\n",
       "</g>\n",
       "<!-- 33 -->\n",
       "<g id=\"node3\" class=\"node\">\n",
       "<title>33</title>\n",
       "<ellipse fill=\"#ff8800\" fill-opacity=\"0.501961\" stroke=\"#ff8800\" stroke-opacity=\"0.501961\" cx=\"970.5\" cy=\"-205.5\" rx=\"2\" ry=\"2\"/>\n",
       "<text text-anchor=\"middle\" x=\"970.5\" y=\"-205.2\" font-family=\"arial\" font-size=\"1.00\" fill=\"#ff8800\" fill-opacity=\"0.501961\">33</text>\n",
       "</g>\n",
       "<!-- miniscope.MotionCorrection -->\n",
       "<g id=\"node13\" class=\"node\">\n",
       "<title>miniscope.MotionCorrection</title>\n",
       "<g id=\"a_node13\"><a xlink:title=\"→ miniscope.Curation\r",
       "------------------------------\r",
       "→ miniscope.Channel.proj(motion_correct_channel=&quot;channel&quot;)\r",
       "\">\n",
       "<ellipse fill=\"#00007f\" fill-opacity=\"0.250980\" stroke=\"#00007f\" stroke-opacity=\"0.250980\" cx=\"1082.5\" cy=\"-134.5\" rx=\"103.5\" ry=\"17.5\"/>\n",
       "<text text-anchor=\"middle\" x=\"1082.5\" y=\"-131.4\" font-family=\"arial\" font-size=\"12.00\" fill=\"#00007f\" fill-opacity=\"0.627451\">miniscope.MotionCorrection</text>\n",
       "</a>\n",
       "</g>\n",
       "</g>\n",
       "<!-- 33&#45;&gt;miniscope.MotionCorrection -->\n",
       "<g id=\"edge3\" class=\"edge\">\n",
       "<title>33-&gt;miniscope.MotionCorrection</title>\n",
       "<path fill=\"none\" stroke=\"#000000\" stroke-width=\"0.75\" stroke-dasharray=\"5,2\" stroke-opacity=\"0.250980\" d=\"M971.76,-203.73C979.95,-198.68 1026.35,-170.09 1056.44,-151.56\"/>\n",
       "</g>\n",
       "<!-- miniscope.Fluorescence -->\n",
       "<g id=\"node4\" class=\"node\">\n",
       "<title>miniscope.Fluorescence</title>\n",
       "<g id=\"a_node4\"><a xlink:title=\"→ miniscope.Segmentation\r",
       "\">\n",
       "<ellipse fill=\"#ff0000\" fill-opacity=\"0.125490\" stroke=\"#ff0000\" stroke-opacity=\"0.125490\" cx=\"264.5\" cy=\"-134.5\" rx=\"13\" ry=\"13\"/>\n",
       "<text text-anchor=\"middle\" x=\"264.5\" y=\"-131.4\" font-family=\"arial\" font-size=\"12.00\" fill=\"#7f0000\" fill-opacity=\"0.627451\">miniscope.Fluorescence</text>\n",
       "</a>\n",
       "</g>\n",
       "</g>\n",
       "<!-- miniscope.Activity -->\n",
       "<g id=\"node24\" class=\"node\">\n",
       "<title>miniscope.Activity</title>\n",
       "<g id=\"a_node24\"><a xlink:title=\"→ miniscope.Fluorescence\r",
       "→ miniscope.ActivityExtractionMethod\r",
       "\">\n",
       "<ellipse fill=\"#ff0000\" fill-opacity=\"0.125490\" stroke=\"#ff0000\" stroke-opacity=\"0.125490\" cx=\"114.5\" cy=\"-68\" rx=\"13\" ry=\"13\"/>\n",
       "<text text-anchor=\"middle\" x=\"114.5\" y=\"-64.9\" font-family=\"arial\" font-size=\"12.00\" fill=\"#7f0000\" fill-opacity=\"0.627451\">miniscope.Activity</text>\n",
       "</a>\n",
       "</g>\n",
       "</g>\n",
       "<!-- miniscope.Fluorescence&#45;&gt;miniscope.Activity -->\n",
       "<g id=\"edge4\" class=\"edge\">\n",
       "<title>miniscope.Fluorescence-&gt;miniscope.Activity</title>\n",
       "<path fill=\"none\" stroke=\"#000000\" stroke-width=\"0.75\" stroke-opacity=\"0.250980\" d=\"M252.73,-128.44C224.69,-116.38 154.2,-86.07 126.22,-74.04\"/>\n",
       "</g>\n",
       "<!-- miniscope.Fluorescence&#45;&gt;miniscope.Fluorescence.Trace -->\n",
       "<g id=\"edge5\" class=\"edge\">\n",
       "<title>miniscope.Fluorescence-&gt;miniscope.Fluorescence.Trace</title>\n",
       "<path fill=\"none\" stroke=\"#000000\" stroke-width=\"0.75\" stroke-opacity=\"0.250980\" d=\"M264.5,-121.37C264.5,-108.67 264.5,-89.04 264.5,-77.77\"/>\n",
       "</g>\n",
       "<!-- miniscope.Curation -->\n",
       "<g id=\"node5\" class=\"node\">\n",
       "<title>miniscope.Curation</title>\n",
       "<g id=\"a_node5\"><a xlink:title=\"→ miniscope.Processing\r",
       "curation_id          \r",
       "------------------------------\r",
       "curation_time        \r",
       "curation_output_dir  \r",
       "manual_curation      \r",
       "curation_note=&quot;&quot;     \r",
       "\">\n",
       "<polygon fill=\"#00ff00\" fill-opacity=\"0.188235\" stroke=\"#00ff00\" stroke-opacity=\"0.188235\" points=\"847.5,-294 727.5,-294 727.5,-259 847.5,-259 847.5,-294\"/>\n",
       "<text text-anchor=\"start\" x=\"735.5\" y=\"-274.4\" font-family=\"arial\" text-decoration=\"underline\" font-size=\"12.00\" fill=\"darkgreen\">miniscope.Curation</text>\n",
       "</a>\n",
       "</g>\n",
       "</g>\n",
       "<!-- miniscope.Curation&#45;&gt;miniscope.MotionCorrection -->\n",
       "<g id=\"edge6\" class=\"edge\">\n",
       "<title>miniscope.Curation-&gt;miniscope.MotionCorrection</title>\n",
       "<path fill=\"none\" stroke=\"#000000\" stroke-width=\"2\" stroke-opacity=\"0.250980\" d=\"M847.55,-267.76C889.08,-260.55 944.57,-247.15 988.5,-223 1021.91,-204.64 1052.63,-171.76 1069.34,-151.96\"/>\n",
       "</g>\n",
       "<!-- miniscope.Segmentation -->\n",
       "<g id=\"node29\" class=\"node\">\n",
       "<title>miniscope.Segmentation</title>\n",
       "<g id=\"a_node29\"><a xlink:title=\"→ miniscope.Curation\r",
       "\">\n",
       "<ellipse fill=\"#ff0000\" fill-opacity=\"0.125490\" stroke=\"#ff0000\" stroke-opacity=\"0.125490\" cx=\"504.5\" cy=\"-205.5\" rx=\"13\" ry=\"13\"/>\n",
       "<text text-anchor=\"middle\" x=\"504.5\" y=\"-202.4\" font-family=\"arial\" font-size=\"12.00\" fill=\"#7f0000\" fill-opacity=\"0.627451\">miniscope.Segmentation</text>\n",
       "</a>\n",
       "</g>\n",
       "</g>\n",
       "<!-- miniscope.Curation&#45;&gt;miniscope.Segmentation -->\n",
       "<g id=\"edge7\" class=\"edge\">\n",
       "<title>miniscope.Curation-&gt;miniscope.Segmentation</title>\n",
       "<path fill=\"none\" stroke=\"#000000\" stroke-width=\"2\" stroke-opacity=\"0.250980\" d=\"M727.48,-260.87C659.34,-244.25 552.95,-218.31 516.91,-209.53\"/>\n",
       "</g>\n",
       "<!-- miniscope.MotionCorrection.RigidMotionCorrection -->\n",
       "<g id=\"node6\" class=\"node\">\n",
       "<title>miniscope.MotionCorrection.RigidMotionCorrection</title>\n",
       "<g id=\"a_node6\"><a xlink:title=\"→ miniscope.MotionCorrection\r",
       "------------------------------\r",
       "outlier_frames=null  \r",
       "y_shifts             \r",
       "x_shifts             \r",
       "y_std                \r",
       "x_std                \r",
       "\">\n",
       "<polygon fill=\"transparent\" stroke=\"transparent\" points=\"972.5,-77.5 734.5,-77.5 734.5,-58.5 972.5,-58.5 972.5,-77.5\"/>\n",
       "<text text-anchor=\"middle\" x=\"853.5\" y=\"-65.5\" font-family=\"arial\" font-size=\"10.00\">miniscope.MotionCorrection.RigidMotionCorrection</text>\n",
       "</a>\n",
       "</g>\n",
       "</g>\n",
       "<!-- miniscope.ProcessingTask -->\n",
       "<g id=\"node7\" class=\"node\">\n",
       "<title>miniscope.ProcessingTask</title>\n",
       "<g id=\"a_node7\"><a xlink:title=\"→ miniscope.RecordingInfo\r",
       "→ miniscope.ProcessingParamSet\r",
       "------------------------------\r",
       "processing_output_dir \r",
       "task_mode=&quot;load&quot;     \r",
       "\">\n",
       "<polygon fill=\"#00ff00\" fill-opacity=\"0.188235\" stroke=\"#00ff00\" stroke-opacity=\"0.188235\" points=\"867,-427 708,-427 708,-392 867,-392 867,-427\"/>\n",
       "<text text-anchor=\"middle\" x=\"787.5\" y=\"-406.4\" font-family=\"arial\" font-size=\"12.00\" fill=\"darkgreen\">miniscope.ProcessingTask</text>\n",
       "</a>\n",
       "</g>\n",
       "</g>\n",
       "<!-- miniscope.Processing -->\n",
       "<g id=\"node26\" class=\"node\">\n",
       "<title>miniscope.Processing</title>\n",
       "<g id=\"a_node26\"><a xlink:title=\"→ miniscope.ProcessingTask\r",
       "------------------------------\r",
       "processing_time      \r",
       "package_version=&quot;&quot;   \r",
       "\">\n",
       "<ellipse fill=\"#ff0000\" fill-opacity=\"0.125490\" stroke=\"#ff0000\" stroke-opacity=\"0.125490\" cx=\"787.5\" cy=\"-343\" rx=\"13\" ry=\"13\"/>\n",
       "<text text-anchor=\"middle\" x=\"787.5\" y=\"-339.9\" font-family=\"arial\" font-size=\"12.00\" fill=\"#7f0000\" fill-opacity=\"0.627451\">miniscope.Processing</text>\n",
       "</a>\n",
       "</g>\n",
       "</g>\n",
       "<!-- miniscope.ProcessingTask&#45;&gt;miniscope.Processing -->\n",
       "<g id=\"edge8\" class=\"edge\">\n",
       "<title>miniscope.ProcessingTask-&gt;miniscope.Processing</title>\n",
       "<path fill=\"none\" stroke=\"#000000\" stroke-width=\"2\" stroke-opacity=\"0.250980\" d=\"M787.5,-391.89C787.5,-380.69 787.5,-366.17 787.5,-356.07\"/>\n",
       "</g>\n",
       "<!-- miniscope.MotionCorrection.Summary -->\n",
       "<g id=\"node8\" class=\"node\">\n",
       "<title>miniscope.MotionCorrection.Summary</title>\n",
       "<g id=\"a_node8\"><a xlink:title=\"→ miniscope.MotionCorrection\r",
       "------------------------------\r",
       "ref_image=null       \r",
       "average_image        \r",
       "correlation_image=null \r",
       "max_proj_image=null  \r",
       "\">\n",
       "<polygon fill=\"transparent\" stroke=\"transparent\" points=\"1174,-77.5 991,-77.5 991,-58.5 1174,-58.5 1174,-77.5\"/>\n",
       "<text text-anchor=\"middle\" x=\"1082.5\" y=\"-65.5\" font-family=\"arial\" font-size=\"10.00\">miniscope.MotionCorrection.Summary</text>\n",
       "</a>\n",
       "</g>\n",
       "</g>\n",
       "<!-- miniscope.MaskClassification.MaskType -->\n",
       "<g id=\"node20\" class=\"node\">\n",
       "<title>miniscope.MaskClassification.MaskType</title>\n",
       "<g id=\"a_node20\"><a xlink:title=\"→ miniscope.MaskClassification\r",
       "→ miniscope.Segmentation.Mask\r",
       "------------------------------\r",
       "→ miniscope.MaskType\r",
       "confidence=null      \r",
       "\">\n",
       "<polygon fill=\"transparent\" stroke=\"transparent\" points=\"716,-77.5 521,-77.5 521,-58.5 716,-58.5 716,-77.5\"/>\n",
       "<text text-anchor=\"middle\" x=\"618.5\" y=\"-65.5\" font-family=\"arial\" font-size=\"10.00\">miniscope.MaskClassification.MaskType</text>\n",
       "</a>\n",
       "</g>\n",
       "</g>\n",
       "<!-- miniscope.Segmentation.Mask&#45;&gt;miniscope.MaskClassification.MaskType -->\n",
       "<g id=\"edge9\" class=\"edge\">\n",
       "<title>miniscope.Segmentation.Mask-&gt;miniscope.MaskClassification.MaskType</title>\n",
       "<path fill=\"none\" stroke=\"#000000\" stroke-width=\"0.75\" stroke-opacity=\"0.250980\" d=\"M490.15,-124.93C518.46,-112.6 570.41,-89.96 598.77,-77.6\"/>\n",
       "</g>\n",
       "<!-- miniscope.Segmentation.Mask&#45;&gt;miniscope.Fluorescence.Trace -->\n",
       "<g id=\"edge10\" class=\"edge\">\n",
       "<title>miniscope.Segmentation.Mask-&gt;miniscope.Fluorescence.Trace</title>\n",
       "<path fill=\"none\" stroke=\"#000000\" stroke-width=\"0.75\" stroke-opacity=\"0.250980\" d=\"M443.14,-124.93C403.74,-112.6 331.43,-89.96 291.97,-77.6\"/>\n",
       "</g>\n",
       "<!-- miniscope.MaskType -->\n",
       "<g id=\"node10\" class=\"node\">\n",
       "<title>miniscope.MaskType</title>\n",
       "<g id=\"a_node10\"><a xlink:title=\"mask_type            \r",
       "\">\n",
       "<polygon fill=\"#000000\" fill-opacity=\"0.125490\" stroke=\"transparent\" points=\"673,-152 564,-152 564,-117 673,-117 673,-152\"/>\n",
       "<text text-anchor=\"start\" x=\"572\" y=\"-133\" font-family=\"arial\" text-decoration=\"underline\" font-size=\"10.00\">miniscope.MaskType</text>\n",
       "</a>\n",
       "</g>\n",
       "</g>\n",
       "<!-- miniscope.MaskType&#45;&gt;miniscope.MaskClassification.MaskType -->\n",
       "<g id=\"edge11\" class=\"edge\">\n",
       "<title>miniscope.MaskType-&gt;miniscope.MaskClassification.MaskType</title>\n",
       "<path fill=\"none\" stroke=\"#000000\" stroke-width=\"0.75\" stroke-dasharray=\"5,2\" stroke-opacity=\"0.250980\" d=\"M618.5,-116.89C618.5,-104.35 618.5,-87.64 618.5,-77.64\"/>\n",
       "</g>\n",
       "<!-- miniscope.MaskClassification -->\n",
       "<g id=\"node11\" class=\"node\">\n",
       "<title>miniscope.MaskClassification</title>\n",
       "<g id=\"a_node11\"><a xlink:title=\"→ miniscope.Segmentation\r",
       "→ miniscope.MaskClassificationMethod\r",
       "\">\n",
       "<ellipse fill=\"#ff0000\" fill-opacity=\"0.125490\" stroke=\"#ff0000\" stroke-opacity=\"0.125490\" cx=\"778.5\" cy=\"-134.5\" rx=\"13\" ry=\"13\"/>\n",
       "<text text-anchor=\"middle\" x=\"778.5\" y=\"-131.4\" font-family=\"arial\" font-size=\"12.00\" fill=\"#7f0000\" fill-opacity=\"0.627451\">miniscope.MaskClassification</text>\n",
       "</a>\n",
       "</g>\n",
       "</g>\n",
       "<!-- miniscope.MaskClassification&#45;&gt;miniscope.MaskClassification.MaskType -->\n",
       "<g id=\"edge12\" class=\"edge\">\n",
       "<title>miniscope.MaskClassification-&gt;miniscope.MaskClassification.MaskType</title>\n",
       "<path fill=\"none\" stroke=\"#000000\" stroke-width=\"0.75\" stroke-opacity=\"0.250980\" d=\"M766.73,-128.76C739.89,-117.93 673.8,-91.29 639.67,-77.53\"/>\n",
       "</g>\n",
       "<!-- subject.Subject -->\n",
       "<g id=\"node12\" class=\"node\">\n",
       "<title>subject.Subject</title>\n",
       "<g id=\"a_node12\"><a xlink:title=\"subject              \r",
       "------------------------------\r",
       "sex                  \r",
       "subject_birth_date   \r",
       "subject_description=&quot;&quot; \r",
       "\">\n",
       "<polygon fill=\"#00ff00\" fill-opacity=\"0.188235\" stroke=\"#00ff00\" stroke-opacity=\"0.188235\" points=\"1042.5,-711 944.5,-711 944.5,-676 1042.5,-676 1042.5,-711\"/>\n",
       "<text text-anchor=\"start\" x=\"952.5\" y=\"-691.4\" font-family=\"arial\" text-decoration=\"underline\" font-size=\"12.00\" fill=\"darkgreen\">subject.Subject</text>\n",
       "</a>\n",
       "</g>\n",
       "</g>\n",
       "<!-- session.Session -->\n",
       "<g id=\"node23\" class=\"node\">\n",
       "<title>session.Session</title>\n",
       "<g id=\"a_node23\"><a xlink:title=\"→ subject.Subject\r",
       "session_datetime     \r",
       "\">\n",
       "<polygon fill=\"#00ff00\" fill-opacity=\"0.188235\" stroke=\"#00ff00\" stroke-opacity=\"0.188235\" points=\"1045.5,-640 941.5,-640 941.5,-605 1045.5,-605 1045.5,-640\"/>\n",
       "<text text-anchor=\"start\" x=\"949.5\" y=\"-620.4\" font-family=\"arial\" text-decoration=\"underline\" font-size=\"12.00\" fill=\"darkgreen\">session.Session</text>\n",
       "</a>\n",
       "</g>\n",
       "</g>\n",
       "<!-- subject.Subject&#45;&gt;session.Session -->\n",
       "<g id=\"edge13\" class=\"edge\">\n",
       "<title>subject.Subject-&gt;session.Session</title>\n",
       "<path fill=\"none\" stroke=\"#000000\" stroke-width=\"0.75\" stroke-opacity=\"0.250980\" d=\"M993.5,-675.8C993.5,-664.95 993.5,-650.87 993.5,-640.05\"/>\n",
       "</g>\n",
       "<!-- miniscope.MotionCorrection&#45;&gt;miniscope.MotionCorrection.RigidMotionCorrection -->\n",
       "<g id=\"edge14\" class=\"edge\">\n",
       "<title>miniscope.MotionCorrection-&gt;miniscope.MotionCorrection.RigidMotionCorrection</title>\n",
       "<path fill=\"none\" stroke=\"#000000\" stroke-width=\"2\" stroke-opacity=\"0.250980\" d=\"M1031.68,-119.19C986.35,-106.42 921.5,-88.15 883.82,-77.54\"/>\n",
       "</g>\n",
       "<!-- miniscope.MotionCorrection&#45;&gt;miniscope.MotionCorrection.Summary -->\n",
       "<g id=\"edge15\" class=\"edge\">\n",
       "<title>miniscope.MotionCorrection-&gt;miniscope.MotionCorrection.Summary</title>\n",
       "<path fill=\"none\" stroke=\"#000000\" stroke-width=\"2\" stroke-opacity=\"0.250980\" d=\"M1082.5,-116.89C1082.5,-104.35 1082.5,-87.64 1082.5,-77.64\"/>\n",
       "</g>\n",
       "<!-- miniscope.MotionCorrection.NonRigidMotionCorrection -->\n",
       "<g id=\"node31\" class=\"node\">\n",
       "<title>miniscope.MotionCorrection.NonRigidMotionCorrection</title>\n",
       "<g id=\"a_node31\"><a xlink:title=\"→ miniscope.MotionCorrection\r",
       "------------------------------\r",
       "outlier_frames=null  \r",
       "block_height         \r",
       "block_width          \r",
       "block_count_y        \r",
       "block_count_x        \r",
       "\">\n",
       "<polygon fill=\"transparent\" stroke=\"transparent\" points=\"1448.5,-77.5 1192.5,-77.5 1192.5,-58.5 1448.5,-58.5 1448.5,-77.5\"/>\n",
       "<text text-anchor=\"middle\" x=\"1320.5\" y=\"-65.5\" font-family=\"arial\" font-size=\"10.00\">miniscope.MotionCorrection.NonRigidMotionCorrection</text>\n",
       "</a>\n",
       "</g>\n",
       "</g>\n",
       "<!-- miniscope.MotionCorrection&#45;&gt;miniscope.MotionCorrection.NonRigidMotionCorrection -->\n",
       "<g id=\"edge16\" class=\"edge\">\n",
       "<title>miniscope.MotionCorrection-&gt;miniscope.MotionCorrection.NonRigidMotionCorrection</title>\n",
       "<path fill=\"none\" stroke=\"#000000\" stroke-width=\"2\" stroke-opacity=\"0.250980\" d=\"M1134.73,-119.35C1181.8,-106.59 1249.48,-88.25 1288.83,-77.58\"/>\n",
       "</g>\n",
       "<!-- miniscope.MotionCorrection.Block -->\n",
       "<g id=\"node14\" class=\"node\">\n",
       "<title>miniscope.MotionCorrection.Block</title>\n",
       "<g id=\"a_node14\"><a xlink:title=\"→ miniscope.MotionCorrection.NonRigidMotionCorrection\r",
       "block_id             \r",
       "------------------------------\r",
       "block_y              \r",
       "block_x              \r",
       "y_shifts             \r",
       "x_shifts             \r",
       "y_std                \r",
       "x_std                \r",
       "\">\n",
       "<polygon fill=\"transparent\" stroke=\"transparent\" points=\"1403.5,-19 1237.5,-19 1237.5,0 1403.5,0 1403.5,-19\"/>\n",
       "<text text-anchor=\"start\" x=\"1245.5\" y=\"-8\" font-family=\"arial\" text-decoration=\"underline\" font-size=\"10.00\">miniscope.MotionCorrection.Block</text>\n",
       "</a>\n",
       "</g>\n",
       "</g>\n",
       "<!-- miniscope.ProcessingParamSet -->\n",
       "<g id=\"node15\" class=\"node\">\n",
       "<title>miniscope.ProcessingParamSet</title>\n",
       "<g id=\"a_node15\"><a xlink:title=\"paramset_id          \r",
       "------------------------------\r",
       "→ miniscope.ProcessingMethod\r",
       "paramset_desc        \r",
       "param_set_hash       \r",
       "params               \r",
       "UNIQUE INDEX (param_set_hash)\r",
       "\">\n",
       "<polygon fill=\"#000000\" fill-opacity=\"0.125490\" stroke=\"transparent\" points=\"855.5,-498 699.5,-498 699.5,-463 855.5,-463 855.5,-498\"/>\n",
       "<text text-anchor=\"start\" x=\"707.5\" y=\"-479\" font-family=\"arial\" text-decoration=\"underline\" font-size=\"10.00\">miniscope.ProcessingParamSet</text>\n",
       "</a>\n",
       "</g>\n",
       "</g>\n",
       "<!-- miniscope.ProcessingParamSet&#45;&gt;miniscope.ProcessingTask -->\n",
       "<g id=\"edge17\" class=\"edge\">\n",
       "<title>miniscope.ProcessingParamSet-&gt;miniscope.ProcessingTask</title>\n",
       "<path fill=\"none\" stroke=\"#000000\" stroke-width=\"0.75\" stroke-opacity=\"0.250980\" d=\"M779.92,-462.8C781.49,-451.95 783.53,-437.87 785.1,-427.05\"/>\n",
       "</g>\n",
       "<!-- miniscope.Channel -->\n",
       "<g id=\"node16\" class=\"node\">\n",
       "<title>miniscope.Channel</title>\n",
       "<g id=\"a_node16\"><a xlink:title=\"channel              \r",
       "\">\n",
       "<polygon fill=\"#000000\" fill-opacity=\"0.125490\" stroke=\"transparent\" points=\"452.5,-294 352.5,-294 352.5,-259 452.5,-259 452.5,-294\"/>\n",
       "<text text-anchor=\"start\" x=\"360.5\" y=\"-275\" font-family=\"arial\" text-decoration=\"underline\" font-size=\"10.00\">miniscope.Channel</text>\n",
       "</a>\n",
       "</g>\n",
       "</g>\n",
       "<!-- miniscope.Channel&#45;&gt;35 -->\n",
       "<g id=\"edge20\" class=\"edge\">\n",
       "<title>miniscope.Channel-&gt;35</title>\n",
       "<path fill=\"none\" stroke=\"#000000\" stroke-width=\"0.75\" stroke-opacity=\"0.250980\" d=\"M393.79,-258.8C384.46,-240.93 370.56,-214.29 367.24,-207.91\"/>\n",
       "</g>\n",
       "<!-- miniscope.Channel&#45;&gt;34 -->\n",
       "<g id=\"edge19\" class=\"edge\">\n",
       "<title>miniscope.Channel-&gt;34</title>\n",
       "<path fill=\"none\" stroke=\"#000000\" stroke-width=\"0.75\" stroke-dasharray=\"5,2\" stroke-opacity=\"0.250980\" d=\"M402.5,-258.8C402.5,-240.93 402.5,-214.29 402.5,-207.91\"/>\n",
       "</g>\n",
       "<!-- miniscope.Channel&#45;&gt;33 -->\n",
       "<g id=\"edge18\" class=\"edge\">\n",
       "<title>miniscope.Channel-&gt;33</title>\n",
       "<path fill=\"none\" stroke=\"#000000\" stroke-width=\"0.75\" stroke-dasharray=\"5,2\" stroke-opacity=\"0.250980\" d=\"M452.56,-271.06C539.31,-263.11 723.11,-245.2 877.5,-223 914.51,-217.68 959.36,-208.75 968.73,-206.86\"/>\n",
       "</g>\n",
       "<!-- miniscope.RecordingLocation -->\n",
       "<g id=\"node17\" class=\"node\">\n",
       "<title>miniscope.RecordingLocation</title>\n",
       "<g id=\"a_node17\"><a xlink:title=\"→ miniscope.Recording\r",
       "------------------------------\r",
       "→ AnatomicalLocation\r",
       "\">\n",
       "<polygon fill=\"#00ff00\" fill-opacity=\"0.188235\" stroke=\"#00ff00\" stroke-opacity=\"0.188235\" points=\"1253.5,-498 1077.5,-498 1077.5,-463 1253.5,-463 1253.5,-498\"/>\n",
       "<text text-anchor=\"middle\" x=\"1165.5\" y=\"-477.4\" font-family=\"arial\" font-size=\"12.00\" fill=\"darkgreen\">miniscope.RecordingLocation</text>\n",
       "</a>\n",
       "</g>\n",
       "</g>\n",
       "<!-- miniscope.AcquisitionSoftware -->\n",
       "<g id=\"node18\" class=\"node\">\n",
       "<title>miniscope.AcquisitionSoftware</title>\n",
       "<g id=\"a_node18\"><a xlink:title=\"acquisition_software \r",
       "\">\n",
       "<polygon fill=\"#000000\" fill-opacity=\"0.125490\" stroke=\"transparent\" points=\"923,-640 772,-640 772,-605 923,-605 923,-640\"/>\n",
       "<text text-anchor=\"start\" x=\"780\" y=\"-621\" font-family=\"arial\" text-decoration=\"underline\" font-size=\"10.00\">miniscope.AcquisitionSoftware</text>\n",
       "</a>\n",
       "</g>\n",
       "</g>\n",
       "<!-- miniscope.Recording -->\n",
       "<g id=\"node34\" class=\"node\">\n",
       "<title>miniscope.Recording</title>\n",
       "<g id=\"a_node34\"><a xlink:title=\"→ session.Session\r",
       "recording_id         \r",
       "------------------------------\r",
       "→ Equipment\r",
       "→ miniscope.AcquisitionSoftware\r",
       "recording_directory  \r",
       "recording_notes=&quot;&quot;   \r",
       "\">\n",
       "<polygon fill=\"#00ff00\" fill-opacity=\"0.188235\" stroke=\"#00ff00\" stroke-opacity=\"0.188235\" points=\"1058.5,-569 928.5,-569 928.5,-534 1058.5,-534 1058.5,-569\"/>\n",
       "<text text-anchor=\"start\" x=\"936.5\" y=\"-549.4\" font-family=\"arial\" text-decoration=\"underline\" font-size=\"12.00\" fill=\"darkgreen\">miniscope.Recording</text>\n",
       "</a>\n",
       "</g>\n",
       "</g>\n",
       "<!-- miniscope.AcquisitionSoftware&#45;&gt;miniscope.Recording -->\n",
       "<g id=\"edge21\" class=\"edge\">\n",
       "<title>miniscope.AcquisitionSoftware-&gt;miniscope.Recording</title>\n",
       "<path fill=\"none\" stroke=\"#000000\" stroke-width=\"0.75\" stroke-dasharray=\"5,2\" stroke-opacity=\"0.250980\" d=\"M882.47,-604.97C905.5,-594.09 935.54,-579.89 958.56,-569.01\"/>\n",
       "</g>\n",
       "<!-- miniscope.MaskClassificationMethod -->\n",
       "<g id=\"node19\" class=\"node\">\n",
       "<title>miniscope.MaskClassificationMethod</title>\n",
       "<g id=\"a_node19\"><a xlink:title=\"mask_classification_method \r",
       "\">\n",
       "<polygon fill=\"#000000\" fill-opacity=\"0.125490\" stroke=\"transparent\" points=\"868,-223 689,-223 689,-188 868,-188 868,-223\"/>\n",
       "<text text-anchor=\"start\" x=\"697\" y=\"-204\" font-family=\"arial\" text-decoration=\"underline\" font-size=\"10.00\">miniscope.MaskClassificationMethod</text>\n",
       "</a>\n",
       "</g>\n",
       "</g>\n",
       "<!-- miniscope.MaskClassificationMethod&#45;&gt;miniscope.MaskClassification -->\n",
       "<g id=\"edge22\" class=\"edge\">\n",
       "<title>miniscope.MaskClassificationMethod-&gt;miniscope.MaskClassification</title>\n",
       "<path fill=\"none\" stroke=\"#000000\" stroke-width=\"0.75\" stroke-opacity=\"0.250980\" d=\"M778.5,-187.8C778.5,-175.35 778.5,-158.66 778.5,-147.51\"/>\n",
       "</g>\n",
       "<!-- miniscope.ActivityExtractionMethod -->\n",
       "<g id=\"node21\" class=\"node\">\n",
       "<title>miniscope.ActivityExtractionMethod</title>\n",
       "<g id=\"a_node21\"><a xlink:title=\"extraction_method    \r",
       "\">\n",
       "<polygon fill=\"#000000\" fill-opacity=\"0.125490\" stroke=\"transparent\" points=\"173,-152 0,-152 0,-117 173,-117 173,-152\"/>\n",
       "<text text-anchor=\"start\" x=\"8\" y=\"-133\" font-family=\"arial\" text-decoration=\"underline\" font-size=\"10.00\">miniscope.ActivityExtractionMethod</text>\n",
       "</a>\n",
       "</g>\n",
       "</g>\n",
       "<!-- miniscope.ActivityExtractionMethod&#45;&gt;miniscope.Activity -->\n",
       "<g id=\"edge23\" class=\"edge\">\n",
       "<title>miniscope.ActivityExtractionMethod-&gt;miniscope.Activity</title>\n",
       "<path fill=\"none\" stroke=\"#000000\" stroke-width=\"0.75\" stroke-opacity=\"0.250980\" d=\"M93.71,-116.89C98.7,-105.39 105.21,-90.4 109.61,-80.27\"/>\n",
       "</g>\n",
       "<!-- miniscope.RecordingInfo.File -->\n",
       "<g id=\"node22\" class=\"node\">\n",
       "<title>miniscope.RecordingInfo.File</title>\n",
       "<g id=\"a_node22\"><a xlink:title=\"→ miniscope.RecordingInfo\r",
       "file_id              \r",
       "------------------------------\r",
       "file_path            \r",
       "\">\n",
       "<polygon fill=\"transparent\" stroke=\"transparent\" points=\"1038,-419 895,-419 895,-400 1038,-400 1038,-419\"/>\n",
       "<text text-anchor=\"start\" x=\"903\" y=\"-408\" font-family=\"arial\" text-decoration=\"underline\" font-size=\"10.00\">miniscope.RecordingInfo.File</text>\n",
       "</a>\n",
       "</g>\n",
       "</g>\n",
       "<!-- session.Session&#45;&gt;miniscope.Recording -->\n",
       "<g id=\"edge24\" class=\"edge\">\n",
       "<title>session.Session-&gt;miniscope.Recording</title>\n",
       "<path fill=\"none\" stroke=\"#000000\" stroke-width=\"0.75\" stroke-opacity=\"0.250980\" d=\"M993.5,-604.8C993.5,-593.95 993.5,-579.87 993.5,-569.05\"/>\n",
       "</g>\n",
       "<!-- miniscope.Activity.Trace -->\n",
       "<g id=\"node27\" class=\"node\">\n",
       "<title>miniscope.Activity.Trace</title>\n",
       "<g id=\"a_node27\"><a xlink:title=\"→ miniscope.Activity\r",
       "→ miniscope.Fluorescence.Trace\r",
       "------------------------------\r",
       "activity_trace       \r",
       "\">\n",
       "<polygon fill=\"transparent\" stroke=\"transparent\" points=\"176.5,-19 52.5,-19 52.5,0 176.5,0 176.5,-19\"/>\n",
       "<text text-anchor=\"middle\" x=\"114.5\" y=\"-7\" font-family=\"arial\" font-size=\"10.00\">miniscope.Activity.Trace</text>\n",
       "</a>\n",
       "</g>\n",
       "</g>\n",
       "<!-- miniscope.Activity&#45;&gt;miniscope.Activity.Trace -->\n",
       "<g id=\"edge25\" class=\"edge\">\n",
       "<title>miniscope.Activity-&gt;miniscope.Activity.Trace</title>\n",
       "<path fill=\"none\" stroke=\"#000000\" stroke-width=\"0.75\" stroke-opacity=\"0.250980\" d=\"M114.5,-54.74C114.5,-43.97 114.5,-28.56 114.5,-19.06\"/>\n",
       "</g>\n",
       "<!-- Equipment -->\n",
       "<g id=\"node25\" class=\"node\">\n",
       "<title>Equipment</title>\n",
       "<g id=\"a_node25\"><a xlink:title=\"equipment            \r",
       "------------------------------\r",
       "modality             \r",
       "description=null     \r",
       "\">\n",
       "<polygon fill=\"#00ff00\" fill-opacity=\"0.188235\" stroke=\"#00ff00\" stroke-opacity=\"0.188235\" points=\"1137.5,-640 1063.5,-640 1063.5,-605 1137.5,-605 1137.5,-640\"/>\n",
       "<text text-anchor=\"start\" x=\"1071.5\" y=\"-620.4\" font-family=\"arial\" text-decoration=\"underline\" font-size=\"12.00\" fill=\"darkgreen\">Equipment</text>\n",
       "</a>\n",
       "</g>\n",
       "</g>\n",
       "<!-- Equipment&#45;&gt;miniscope.Recording -->\n",
       "<g id=\"edge26\" class=\"edge\">\n",
       "<title>Equipment-&gt;miniscope.Recording</title>\n",
       "<path fill=\"none\" stroke=\"#000000\" stroke-width=\"0.75\" stroke-dasharray=\"5,2\" stroke-opacity=\"0.250980\" d=\"M1074.87,-604.97C1058.05,-594.13 1036.14,-580 1019.29,-569.13\"/>\n",
       "</g>\n",
       "<!-- miniscope.Processing&#45;&gt;miniscope.Curation -->\n",
       "<g id=\"edge27\" class=\"edge\">\n",
       "<title>miniscope.Processing-&gt;miniscope.Curation</title>\n",
       "<path fill=\"none\" stroke=\"#000000\" stroke-width=\"0.75\" stroke-opacity=\"0.250980\" d=\"M787.5,-329.87C787.5,-319.8 787.5,-305.37 787.5,-294.2\"/>\n",
       "</g>\n",
       "<!-- miniscope.RecordingInfo -->\n",
       "<g id=\"node28\" class=\"node\">\n",
       "<title>miniscope.RecordingInfo</title>\n",
       "<g id=\"a_node28\"><a xlink:title=\"→ miniscope.Recording\r",
       "------------------------------\r",
       "nchannels            \r",
       "nframes              \r",
       "px_height=null       \r",
       "px_width=null        \r",
       "um_height=null       \r",
       "um_width=null        \r",
       "fps                  \r",
       "gain=null            \r",
       "spatial_downsample=1 \r",
       "led_power            \r",
       "time_stamps          \r",
       "recording_datetime=null \r",
       "recording_duration=null \r",
       "\">\n",
       "<ellipse fill=\"#00007f\" fill-opacity=\"0.250980\" stroke=\"#00007f\" stroke-opacity=\"0.250980\" cx=\"966.5\" cy=\"-480.5\" rx=\"93.25\" ry=\"17.5\"/>\n",
       "<text text-anchor=\"middle\" x=\"966.5\" y=\"-477.4\" font-family=\"arial\" font-size=\"12.00\" fill=\"#00007f\" fill-opacity=\"0.627451\">miniscope.RecordingInfo</text>\n",
       "</a>\n",
       "</g>\n",
       "</g>\n",
       "<!-- miniscope.RecordingInfo&#45;&gt;miniscope.ProcessingTask -->\n",
       "<g id=\"edge28\" class=\"edge\">\n",
       "<title>miniscope.RecordingInfo-&gt;miniscope.ProcessingTask</title>\n",
       "<path fill=\"none\" stroke=\"#000000\" stroke-width=\"0.75\" stroke-opacity=\"0.250980\" d=\"M927.66,-464.53C898.97,-453.47 859.93,-438.42 830.34,-427.01\"/>\n",
       "</g>\n",
       "<!-- miniscope.RecordingInfo&#45;&gt;miniscope.RecordingInfo.File -->\n",
       "<g id=\"edge29\" class=\"edge\">\n",
       "<title>miniscope.RecordingInfo-&gt;miniscope.RecordingInfo.File</title>\n",
       "<path fill=\"none\" stroke=\"#000000\" stroke-width=\"0.75\" stroke-opacity=\"0.250980\" d=\"M966.5,-462.8C966.5,-449.08 966.5,-430.19 966.5,-419.27\"/>\n",
       "</g>\n",
       "<!-- miniscope.Segmentation&#45;&gt;miniscope.Fluorescence -->\n",
       "<g id=\"edge30\" class=\"edge\">\n",
       "<title>miniscope.Segmentation-&gt;miniscope.Fluorescence</title>\n",
       "<path fill=\"none\" stroke=\"#000000\" stroke-width=\"2\" stroke-opacity=\"0.250980\" d=\"M492.27,-200.98C451.1,-189.15 317.84,-150.84 276.71,-139.01\"/>\n",
       "</g>\n",
       "<!-- miniscope.Segmentation&#45;&gt;miniscope.Segmentation.Mask -->\n",
       "<g id=\"edge31\" class=\"edge\">\n",
       "<title>miniscope.Segmentation-&gt;miniscope.Segmentation.Mask</title>\n",
       "<path fill=\"none\" stroke=\"#000000\" stroke-width=\"0.75\" stroke-opacity=\"0.250980\" d=\"M499.04,-193.41C492.28,-179.7 480.92,-156.64 474.77,-144.16\"/>\n",
       "</g>\n",
       "<!-- miniscope.Segmentation&#45;&gt;miniscope.MaskClassification -->\n",
       "<g id=\"edge32\" class=\"edge\">\n",
       "<title>miniscope.Segmentation-&gt;miniscope.MaskClassification</title>\n",
       "<path fill=\"none\" stroke=\"#000000\" stroke-width=\"0.75\" stroke-opacity=\"0.250980\" d=\"M516.99,-201.36C562.63,-189.86 720.18,-150.19 765.94,-138.66\"/>\n",
       "</g>\n",
       "<!-- miniscope.Fluorescence.Trace&#45;&gt;miniscope.Activity.Trace -->\n",
       "<g id=\"edge33\" class=\"edge\">\n",
       "<title>miniscope.Fluorescence.Trace-&gt;miniscope.Activity.Trace</title>\n",
       "<path fill=\"none\" stroke=\"#000000\" stroke-width=\"0.75\" stroke-opacity=\"0.250980\" d=\"M241.72,-58.42C213.52,-47.8 165.79,-29.82 137.5,-19.16\"/>\n",
       "</g>\n",
       "<!-- miniscope.MotionCorrection.NonRigidMotionCorrection&#45;&gt;miniscope.MotionCorrection.Block -->\n",
       "<g id=\"edge34\" class=\"edge\">\n",
       "<title>miniscope.MotionCorrection.NonRigidMotionCorrection-&gt;miniscope.MotionCorrection.Block</title>\n",
       "<path fill=\"none\" stroke=\"#000000\" stroke-width=\"0.75\" stroke-opacity=\"0.250980\" d=\"M1320.5,-58.17C1320.5,-47.5 1320.5,-29.65 1320.5,-19.08\"/>\n",
       "</g>\n",
       "<!-- AnatomicalLocation -->\n",
       "<g id=\"node32\" class=\"node\">\n",
       "<title>AnatomicalLocation</title>\n",
       "<g id=\"a_node32\"><a xlink:title=\"recording_location_id \r",
       "------------------------------\r",
       "anatomical_description \r",
       "\">\n",
       "<polygon fill=\"#00ff00\" fill-opacity=\"0.188235\" stroke=\"#00ff00\" stroke-opacity=\"0.188235\" points=\"1226.5,-569 1104.5,-569 1104.5,-534 1226.5,-534 1226.5,-569\"/>\n",
       "<text text-anchor=\"start\" x=\"1112.5\" y=\"-549.4\" font-family=\"arial\" text-decoration=\"underline\" font-size=\"12.00\" fill=\"darkgreen\">AnatomicalLocation</text>\n",
       "</a>\n",
       "</g>\n",
       "</g>\n",
       "<!-- AnatomicalLocation&#45;&gt;miniscope.RecordingLocation -->\n",
       "<g id=\"edge35\" class=\"edge\">\n",
       "<title>AnatomicalLocation-&gt;miniscope.RecordingLocation</title>\n",
       "<path fill=\"none\" stroke=\"#000000\" stroke-width=\"0.75\" stroke-dasharray=\"5,2\" stroke-opacity=\"0.250980\" d=\"M1165.5,-533.8C1165.5,-522.95 1165.5,-508.87 1165.5,-498.05\"/>\n",
       "</g>\n",
       "<!-- miniscope.ProcessingMethod -->\n",
       "<g id=\"node33\" class=\"node\">\n",
       "<title>miniscope.ProcessingMethod</title>\n",
       "<g id=\"a_node33\"><a xlink:title=\"processing_method    \r",
       "------------------------------\r",
       "processing_method_desc=&quot;&quot; \r",
       "\">\n",
       "<polygon fill=\"#000000\" fill-opacity=\"0.125490\" stroke=\"transparent\" points=\"850,-569 705,-569 705,-534 850,-534 850,-569\"/>\n",
       "<text text-anchor=\"start\" x=\"713\" y=\"-550\" font-family=\"arial\" text-decoration=\"underline\" font-size=\"10.00\">miniscope.ProcessingMethod</text>\n",
       "</a>\n",
       "</g>\n",
       "</g>\n",
       "<!-- miniscope.ProcessingMethod&#45;&gt;miniscope.ProcessingParamSet -->\n",
       "<g id=\"edge36\" class=\"edge\">\n",
       "<title>miniscope.ProcessingMethod-&gt;miniscope.ProcessingParamSet</title>\n",
       "<path fill=\"none\" stroke=\"#000000\" stroke-width=\"0.75\" stroke-dasharray=\"5,2\" stroke-opacity=\"0.250980\" d=\"M777.5,-533.8C777.5,-522.95 777.5,-508.87 777.5,-498.05\"/>\n",
       "</g>\n",
       "<!-- miniscope.Recording&#45;&gt;miniscope.RecordingLocation -->\n",
       "<g id=\"edge37\" class=\"edge\">\n",
       "<title>miniscope.Recording-&gt;miniscope.RecordingLocation</title>\n",
       "<path fill=\"none\" stroke=\"#000000\" stroke-width=\"2\" stroke-opacity=\"0.250980\" d=\"M1034.7,-533.97C1061.83,-523.09 1097.22,-508.89 1124.34,-498.01\"/>\n",
       "</g>\n",
       "<!-- miniscope.Recording&#45;&gt;miniscope.RecordingInfo -->\n",
       "<g id=\"edge38\" class=\"edge\">\n",
       "<title>miniscope.Recording-&gt;miniscope.RecordingInfo</title>\n",
       "<path fill=\"none\" stroke=\"#000000\" stroke-width=\"2\" stroke-opacity=\"0.250980\" d=\"M986.96,-533.8C982.72,-522.95 977.21,-508.87 972.98,-498.05\"/>\n",
       "</g>\n",
       "</g>\n",
       "</svg>"
      ],
      "text/plain": [
       "<datajoint.diagram.Diagram at 0x7fca6993d460>"
      ]
     },
     "execution_count": 21,
     "metadata": {},
     "output_type": "execute_result"
    }
   ],
   "source": [
    "dj.Diagram(subject.Subject) + dj.Diagram(session.Session) + \\\n",
    "     dj.Diagram(AnatomicalLocation) + dj.Diagram(Equipment) +  dj.Diagram(miniscope) "
   ]
  },
  {
   "cell_type": "markdown",
   "metadata": {},
   "source": [
    "## Insert an entry into `subject.Subject`"
   ]
  },
  {
   "cell_type": "code",
   "execution_count": 22,
   "metadata": {},
   "outputs": [
    {
     "data": {
      "text/plain": [
       "# Animal Subject\n",
       "subject              : varchar(8)                   # \n",
       "---\n",
       "sex                  : enum('M','F','U')            # \n",
       "subject_birth_date   : date                         # \n",
       "subject_description=\"\" : varchar(1024)                # "
      ]
     },
     "execution_count": 22,
     "metadata": {},
     "output_type": "execute_result"
    }
   ],
   "source": [
    "subject.Subject.heading"
   ]
  },
  {
   "cell_type": "code",
   "execution_count": 23,
   "metadata": {},
   "outputs": [
    {
     "ename": "DuplicateError",
     "evalue": "(\"Duplicate entry 'subject1' for key 'subject.PRIMARY'\", 'To ignore duplicate entries in insert, set skip_duplicates=True')",
     "output_type": "error",
     "traceback": [
      "\u001b[0;31m---------------------------------------------------------------------------\u001b[0m",
      "\u001b[0;31mDuplicateError\u001b[0m                            Traceback (most recent call last)",
      "\u001b[0;32m/var/folders/_9/tzvq__ws5z9gv5s7jvkj570r0000gn/T/ipykernel_85042/3619248249.py\u001b[0m in \u001b[0;36m<module>\u001b[0;34m\u001b[0m\n\u001b[0;32m----> 1\u001b[0;31m subject.Subject.insert1(dict(subject='subject1', \n\u001b[0m\u001b[1;32m      2\u001b[0m                              \u001b[0msex\u001b[0m\u001b[0;34m=\u001b[0m\u001b[0;34m'F'\u001b[0m\u001b[0;34m,\u001b[0m\u001b[0;34m\u001b[0m\u001b[0;34m\u001b[0m\u001b[0m\n\u001b[1;32m      3\u001b[0m                              \u001b[0msubject_birth_date\u001b[0m\u001b[0;34m=\u001b[0m\u001b[0;34m'2020-01-01'\u001b[0m\u001b[0;34m,\u001b[0m\u001b[0;34m\u001b[0m\u001b[0;34m\u001b[0m\u001b[0m\n\u001b[1;32m      4\u001b[0m                              subject_description='UCLA Miniscope acquisition'))\n",
      "\u001b[0;32m~/miniconda3/envs/ele/lib/python3.8/site-packages/datajoint/table.py\u001b[0m in \u001b[0;36minsert1\u001b[0;34m(self, row, **kwargs)\u001b[0m\n\u001b[1;32m    323\u001b[0m         \u001b[0;32mas\u001b[0m \u001b[0mone\u001b[0m \u001b[0mrow\u001b[0m\u001b[0;34m.\u001b[0m\u001b[0;34m\u001b[0m\u001b[0;34m\u001b[0m\u001b[0m\n\u001b[1;32m    324\u001b[0m         \"\"\"\n\u001b[0;32m--> 325\u001b[0;31m         \u001b[0mself\u001b[0m\u001b[0;34m.\u001b[0m\u001b[0minsert\u001b[0m\u001b[0;34m(\u001b[0m\u001b[0;34m(\u001b[0m\u001b[0mrow\u001b[0m\u001b[0;34m,\u001b[0m\u001b[0;34m)\u001b[0m\u001b[0;34m,\u001b[0m \u001b[0;34m**\u001b[0m\u001b[0mkwargs\u001b[0m\u001b[0;34m)\u001b[0m\u001b[0;34m\u001b[0m\u001b[0;34m\u001b[0m\u001b[0m\n\u001b[0m\u001b[1;32m    326\u001b[0m \u001b[0;34m\u001b[0m\u001b[0m\n\u001b[1;32m    327\u001b[0m     def insert(\n",
      "\u001b[0;32m~/miniconda3/envs/ele/lib/python3.8/site-packages/datajoint/table.py\u001b[0m in \u001b[0;36minsert\u001b[0;34m(self, rows, replace, skip_duplicates, ignore_extra_fields, allow_direct_insert)\u001b[0m\n\u001b[1;32m    429\u001b[0m                 )\n\u001b[1;32m    430\u001b[0m             \u001b[0;32mexcept\u001b[0m \u001b[0mDuplicateError\u001b[0m \u001b[0;32mas\u001b[0m \u001b[0merr\u001b[0m\u001b[0;34m:\u001b[0m\u001b[0;34m\u001b[0m\u001b[0;34m\u001b[0m\u001b[0m\n\u001b[0;32m--> 431\u001b[0;31m                 raise err.suggest(\n\u001b[0m\u001b[1;32m    432\u001b[0m                     \u001b[0;34m\"To ignore duplicate entries in insert, set skip_duplicates=True\"\u001b[0m\u001b[0;34m\u001b[0m\u001b[0;34m\u001b[0m\u001b[0m\n\u001b[1;32m    433\u001b[0m                 )\n",
      "\u001b[0;31mDuplicateError\u001b[0m: (\"Duplicate entry 'subject1' for key 'subject.PRIMARY'\", 'To ignore duplicate entries in insert, set skip_duplicates=True')"
     ]
    }
   ],
   "source": [
    "subject.Subject.insert1(dict(subject='subject1', \n",
    "                             sex='F', \n",
    "                             subject_birth_date='2020-01-01', \n",
    "                             subject_description='UCLA Miniscope acquisition'))"
   ]
  },
  {
   "cell_type": "markdown",
   "metadata": {},
   "source": [
    "## Insert an entry into `lab.Equipment`"
   ]
  },
  {
   "cell_type": "code",
   "execution_count": 24,
   "metadata": {},
   "outputs": [
    {
     "ename": "DuplicateError",
     "evalue": "(\"Duplicate entry 'UCLA Miniscope' for key 'equipment.PRIMARY'\", 'To ignore duplicate entries in insert, set skip_duplicates=True')",
     "output_type": "error",
     "traceback": [
      "\u001b[0;31m---------------------------------------------------------------------------\u001b[0m",
      "\u001b[0;31mDuplicateError\u001b[0m                            Traceback (most recent call last)",
      "\u001b[0;32m/var/folders/_9/tzvq__ws5z9gv5s7jvkj570r0000gn/T/ipykernel_85042/1180684590.py\u001b[0m in \u001b[0;36m<module>\u001b[0;34m\u001b[0m\n\u001b[0;32m----> 1\u001b[0;31m Equipment.insert1(dict(equipment='UCLA Miniscope',\n\u001b[0m\u001b[1;32m      2\u001b[0m                        \u001b[0mmodality\u001b[0m\u001b[0;34m=\u001b[0m\u001b[0;34m'Miniscope'\u001b[0m\u001b[0;34m,\u001b[0m\u001b[0;34m\u001b[0m\u001b[0;34m\u001b[0m\u001b[0m\n\u001b[1;32m      3\u001b[0m                        description='V4, >1mm field of view, 1mm working distance'))\n",
      "\u001b[0;32m~/miniconda3/envs/ele/lib/python3.8/site-packages/datajoint/table.py\u001b[0m in \u001b[0;36minsert1\u001b[0;34m(self, row, **kwargs)\u001b[0m\n\u001b[1;32m    323\u001b[0m         \u001b[0;32mas\u001b[0m \u001b[0mone\u001b[0m \u001b[0mrow\u001b[0m\u001b[0;34m.\u001b[0m\u001b[0;34m\u001b[0m\u001b[0;34m\u001b[0m\u001b[0m\n\u001b[1;32m    324\u001b[0m         \"\"\"\n\u001b[0;32m--> 325\u001b[0;31m         \u001b[0mself\u001b[0m\u001b[0;34m.\u001b[0m\u001b[0minsert\u001b[0m\u001b[0;34m(\u001b[0m\u001b[0;34m(\u001b[0m\u001b[0mrow\u001b[0m\u001b[0;34m,\u001b[0m\u001b[0;34m)\u001b[0m\u001b[0;34m,\u001b[0m \u001b[0;34m**\u001b[0m\u001b[0mkwargs\u001b[0m\u001b[0;34m)\u001b[0m\u001b[0;34m\u001b[0m\u001b[0;34m\u001b[0m\u001b[0m\n\u001b[0m\u001b[1;32m    326\u001b[0m \u001b[0;34m\u001b[0m\u001b[0m\n\u001b[1;32m    327\u001b[0m     def insert(\n",
      "\u001b[0;32m~/miniconda3/envs/ele/lib/python3.8/site-packages/datajoint/table.py\u001b[0m in \u001b[0;36minsert\u001b[0;34m(self, rows, replace, skip_duplicates, ignore_extra_fields, allow_direct_insert)\u001b[0m\n\u001b[1;32m    429\u001b[0m                 )\n\u001b[1;32m    430\u001b[0m             \u001b[0;32mexcept\u001b[0m \u001b[0mDuplicateError\u001b[0m \u001b[0;32mas\u001b[0m \u001b[0merr\u001b[0m\u001b[0;34m:\u001b[0m\u001b[0;34m\u001b[0m\u001b[0;34m\u001b[0m\u001b[0m\n\u001b[0;32m--> 431\u001b[0;31m                 raise err.suggest(\n\u001b[0m\u001b[1;32m    432\u001b[0m                     \u001b[0;34m\"To ignore duplicate entries in insert, set skip_duplicates=True\"\u001b[0m\u001b[0;34m\u001b[0m\u001b[0;34m\u001b[0m\u001b[0m\n\u001b[1;32m    433\u001b[0m                 )\n",
      "\u001b[0;31mDuplicateError\u001b[0m: (\"Duplicate entry 'UCLA Miniscope' for key 'equipment.PRIMARY'\", 'To ignore duplicate entries in insert, set skip_duplicates=True')"
     ]
    }
   ],
   "source": [
    "Equipment.insert1(dict(equipment='UCLA Miniscope',\n",
    "                       modality='Miniscope',\n",
    "                       description='V4, >1mm field of view, 1mm working distance'))"
   ]
  },
  {
   "cell_type": "markdown",
   "metadata": {},
   "source": [
    "## Insert an entry into `session.Session`"
   ]
  },
  {
   "cell_type": "code",
   "execution_count": null,
   "metadata": {},
   "outputs": [],
   "source": [
    "session.Session.describe();"
   ]
  },
  {
   "cell_type": "code",
   "execution_count": null,
   "metadata": {},
   "outputs": [],
   "source": [
    "session.Session.heading"
   ]
  },
  {
   "cell_type": "code",
   "execution_count": 25,
   "metadata": {},
   "outputs": [],
   "source": [
    "session_key = dict(subject='subject1', \n",
    "                   session_datetime='2021-01-01 00:00:01')"
   ]
  },
  {
   "cell_type": "code",
   "execution_count": 26,
   "metadata": {},
   "outputs": [
    {
     "ename": "DuplicateError",
     "evalue": "(\"Duplicate entry 'subject1-2021-01-01 00:00:01' for key 'session.PRIMARY'\", 'To ignore duplicate entries in insert, set skip_duplicates=True')",
     "output_type": "error",
     "traceback": [
      "\u001b[0;31m---------------------------------------------------------------------------\u001b[0m",
      "\u001b[0;31mDuplicateError\u001b[0m                            Traceback (most recent call last)",
      "\u001b[0;32m/var/folders/_9/tzvq__ws5z9gv5s7jvkj570r0000gn/T/ipykernel_85042/2295572164.py\u001b[0m in \u001b[0;36m<module>\u001b[0;34m\u001b[0m\n\u001b[0;32m----> 1\u001b[0;31m \u001b[0msession\u001b[0m\u001b[0;34m.\u001b[0m\u001b[0mSession\u001b[0m\u001b[0;34m.\u001b[0m\u001b[0minsert1\u001b[0m\u001b[0;34m(\u001b[0m\u001b[0msession_key\u001b[0m\u001b[0;34m)\u001b[0m\u001b[0;34m\u001b[0m\u001b[0;34m\u001b[0m\u001b[0m\n\u001b[0m",
      "\u001b[0;32m~/miniconda3/envs/ele/lib/python3.8/site-packages/datajoint/table.py\u001b[0m in \u001b[0;36minsert1\u001b[0;34m(self, row, **kwargs)\u001b[0m\n\u001b[1;32m    323\u001b[0m         \u001b[0;32mas\u001b[0m \u001b[0mone\u001b[0m \u001b[0mrow\u001b[0m\u001b[0;34m.\u001b[0m\u001b[0;34m\u001b[0m\u001b[0;34m\u001b[0m\u001b[0m\n\u001b[1;32m    324\u001b[0m         \"\"\"\n\u001b[0;32m--> 325\u001b[0;31m         \u001b[0mself\u001b[0m\u001b[0;34m.\u001b[0m\u001b[0minsert\u001b[0m\u001b[0;34m(\u001b[0m\u001b[0;34m(\u001b[0m\u001b[0mrow\u001b[0m\u001b[0;34m,\u001b[0m\u001b[0;34m)\u001b[0m\u001b[0;34m,\u001b[0m \u001b[0;34m**\u001b[0m\u001b[0mkwargs\u001b[0m\u001b[0;34m)\u001b[0m\u001b[0;34m\u001b[0m\u001b[0;34m\u001b[0m\u001b[0m\n\u001b[0m\u001b[1;32m    326\u001b[0m \u001b[0;34m\u001b[0m\u001b[0m\n\u001b[1;32m    327\u001b[0m     def insert(\n",
      "\u001b[0;32m~/miniconda3/envs/ele/lib/python3.8/site-packages/datajoint/table.py\u001b[0m in \u001b[0;36minsert\u001b[0;34m(self, rows, replace, skip_duplicates, ignore_extra_fields, allow_direct_insert)\u001b[0m\n\u001b[1;32m    429\u001b[0m                 )\n\u001b[1;32m    430\u001b[0m             \u001b[0;32mexcept\u001b[0m \u001b[0mDuplicateError\u001b[0m \u001b[0;32mas\u001b[0m \u001b[0merr\u001b[0m\u001b[0;34m:\u001b[0m\u001b[0;34m\u001b[0m\u001b[0;34m\u001b[0m\u001b[0m\n\u001b[0;32m--> 431\u001b[0;31m                 raise err.suggest(\n\u001b[0m\u001b[1;32m    432\u001b[0m                     \u001b[0;34m\"To ignore duplicate entries in insert, set skip_duplicates=True\"\u001b[0m\u001b[0;34m\u001b[0m\u001b[0;34m\u001b[0m\u001b[0m\n\u001b[1;32m    433\u001b[0m                 )\n",
      "\u001b[0;31mDuplicateError\u001b[0m: (\"Duplicate entry 'subject1-2021-01-01 00:00:01' for key 'session.PRIMARY'\", 'To ignore duplicate entries in insert, set skip_duplicates=True')"
     ]
    }
   ],
   "source": [
    "session.Session.insert1(session_key)"
   ]
  },
  {
   "cell_type": "code",
   "execution_count": null,
   "metadata": {},
   "outputs": [],
   "source": [
    "session.Session()"
   ]
  },
  {
   "cell_type": "markdown",
   "metadata": {},
   "source": [
    "## Insert an entry into `session.SessionDirectory`\n",
    "\n",
    "+ The `session_dir` is the relative path to the `miniscope_root_data_dir` for the given session, in POSIX format with `/`.\n",
    "\n",
    "+ Instead of a relative path, `session_dir` could be an absolute path but it is not recommended as the absolute path would have to match the `miniscope_root_data_dir` in `dj_local_conf.json`."
   ]
  },
  {
   "cell_type": "code",
   "execution_count": null,
   "metadata": {},
   "outputs": [],
   "source": [
    "session.SessionDirectory.describe();"
   ]
  },
  {
   "cell_type": "code",
   "execution_count": null,
   "metadata": {},
   "outputs": [],
   "source": [
    "session.SessionDirectory.heading"
   ]
  },
  {
   "cell_type": "code",
   "execution_count": 27,
   "metadata": {},
   "outputs": [
    {
     "ename": "DuplicateError",
     "evalue": "(\"Duplicate entry 'subject1-2021-01-01 00:00:01' for key 'session_directory.PRIMARY'\", 'To ignore duplicate entries in insert, set skip_duplicates=True')",
     "output_type": "error",
     "traceback": [
      "\u001b[0;31m---------------------------------------------------------------------------\u001b[0m",
      "\u001b[0;31mDuplicateError\u001b[0m                            Traceback (most recent call last)",
      "\u001b[0;32m/var/folders/_9/tzvq__ws5z9gv5s7jvkj570r0000gn/T/ipykernel_85042/2283846610.py\u001b[0m in \u001b[0;36m<module>\u001b[0;34m\u001b[0m\n\u001b[0;32m----> 1\u001b[0;31m session.SessionDirectory.insert1(dict(**session_key, \n\u001b[0m\u001b[1;32m      2\u001b[0m                                       session_dir='subject1/session1'))\n",
      "\u001b[0;32m~/miniconda3/envs/ele/lib/python3.8/site-packages/datajoint/table.py\u001b[0m in \u001b[0;36minsert1\u001b[0;34m(self, row, **kwargs)\u001b[0m\n\u001b[1;32m    323\u001b[0m         \u001b[0;32mas\u001b[0m \u001b[0mone\u001b[0m \u001b[0mrow\u001b[0m\u001b[0;34m.\u001b[0m\u001b[0;34m\u001b[0m\u001b[0;34m\u001b[0m\u001b[0m\n\u001b[1;32m    324\u001b[0m         \"\"\"\n\u001b[0;32m--> 325\u001b[0;31m         \u001b[0mself\u001b[0m\u001b[0;34m.\u001b[0m\u001b[0minsert\u001b[0m\u001b[0;34m(\u001b[0m\u001b[0;34m(\u001b[0m\u001b[0mrow\u001b[0m\u001b[0;34m,\u001b[0m\u001b[0;34m)\u001b[0m\u001b[0;34m,\u001b[0m \u001b[0;34m**\u001b[0m\u001b[0mkwargs\u001b[0m\u001b[0;34m)\u001b[0m\u001b[0;34m\u001b[0m\u001b[0;34m\u001b[0m\u001b[0m\n\u001b[0m\u001b[1;32m    326\u001b[0m \u001b[0;34m\u001b[0m\u001b[0m\n\u001b[1;32m    327\u001b[0m     def insert(\n",
      "\u001b[0;32m~/miniconda3/envs/ele/lib/python3.8/site-packages/datajoint/table.py\u001b[0m in \u001b[0;36minsert\u001b[0;34m(self, rows, replace, skip_duplicates, ignore_extra_fields, allow_direct_insert)\u001b[0m\n\u001b[1;32m    429\u001b[0m                 )\n\u001b[1;32m    430\u001b[0m             \u001b[0;32mexcept\u001b[0m \u001b[0mDuplicateError\u001b[0m \u001b[0;32mas\u001b[0m \u001b[0merr\u001b[0m\u001b[0;34m:\u001b[0m\u001b[0;34m\u001b[0m\u001b[0;34m\u001b[0m\u001b[0m\n\u001b[0;32m--> 431\u001b[0;31m                 raise err.suggest(\n\u001b[0m\u001b[1;32m    432\u001b[0m                     \u001b[0;34m\"To ignore duplicate entries in insert, set skip_duplicates=True\"\u001b[0m\u001b[0;34m\u001b[0m\u001b[0;34m\u001b[0m\u001b[0m\n\u001b[1;32m    433\u001b[0m                 )\n",
      "\u001b[0;31mDuplicateError\u001b[0m: (\"Duplicate entry 'subject1-2021-01-01 00:00:01' for key 'session_directory.PRIMARY'\", 'To ignore duplicate entries in insert, set skip_duplicates=True')"
     ]
    }
   ],
   "source": [
    "session.SessionDirectory.insert1(dict(**session_key, \n",
    "                                      session_dir='subject1/session1'))"
   ]
  },
  {
   "cell_type": "code",
   "execution_count": 28,
   "metadata": {},
   "outputs": [
    {
     "data": {
      "text/html": [
       "\n",
       "    \n",
       "    <style type=\"text/css\">\n",
       "        .Relation{\n",
       "            border-collapse:collapse;\n",
       "        }\n",
       "        .Relation th{\n",
       "            background: #A0A0A0; color: #ffffff; padding:4px; border:#f0e0e0 1px solid;\n",
       "            font-weight: normal; font-family: monospace; font-size: 100%;\n",
       "        }\n",
       "        .Relation td{\n",
       "            padding:4px; border:#f0e0e0 1px solid; font-size:100%;\n",
       "        }\n",
       "        .Relation tr:nth-child(odd){\n",
       "            background: #ffffff;\n",
       "        }\n",
       "        .Relation tr:nth-child(even){\n",
       "            background: #f3f1ff;\n",
       "        }\n",
       "        /* Tooltip container */\n",
       "        .djtooltip {\n",
       "        }\n",
       "        /* Tooltip text */\n",
       "        .djtooltip .djtooltiptext {\n",
       "            visibility: hidden;\n",
       "            width: 120px;\n",
       "            background-color: black;\n",
       "            color: #fff;\n",
       "            text-align: center;\n",
       "            padding: 5px 0;\n",
       "            border-radius: 6px;\n",
       "            /* Position the tooltip text - see examples below! */\n",
       "            position: absolute;\n",
       "            z-index: 1;\n",
       "        }\n",
       "        #primary {\n",
       "            font-weight: bold;\n",
       "            color: black;\n",
       "        }\n",
       "        #nonprimary {\n",
       "            font-weight: normal;\n",
       "            color: white;\n",
       "        }\n",
       "\n",
       "        /* Show the tooltip text when you mouse over the tooltip container */\n",
       "        .djtooltip:hover .djtooltiptext {\n",
       "            visibility: visible;\n",
       "        }\n",
       "    </style>\n",
       "    \n",
       "    <b></b>\n",
       "        <div style=\"max-height:1000px;max-width:1500px;overflow:auto;\">\n",
       "        <table border=\"1\" class=\"Relation\">\n",
       "            <thead> <tr style=\"text-align: right;\"> <th> <div class=\"djtooltip\">\n",
       "                            <p id=\"primary\">subject</p>\n",
       "                            <span class=\"djtooltiptext\"></span>\n",
       "                        </div></th><th><div class=\"djtooltip\">\n",
       "                            <p id=\"primary\">session_datetime</p>\n",
       "                            <span class=\"djtooltiptext\"></span>\n",
       "                        </div></th><th><div class=\"djtooltip\">\n",
       "                            <p id=\"nonprimary\">session_dir</p>\n",
       "                            <span class=\"djtooltiptext\">Path to the data directory for a session</span>\n",
       "                        </div> </th> </tr> </thead>\n",
       "            <tbody> <tr> <td>subject1</td>\n",
       "<td>2021-01-01 00:00:01</td>\n",
       "<td>subject1/session1</td></tr><tr><td>subject1</td>\n",
       "<td>2022-04-27 12:13:01</td>\n",
       "<td>subject1/session1</td></tr><tr><td>subject6</td>\n",
       "<td>2021-06-01 13:33:33</td>\n",
       "<td>from_top_tracking/</td></tr><tr><td>subject6</td>\n",
       "<td>2021-06-02 14:04:22</td>\n",
       "<td>from_top_tracking/</td> </tr> </tbody>\n",
       "        </table>\n",
       "        \n",
       "        <p>Total: 4</p></div>\n",
       "        "
      ],
      "text/plain": [
       "*subject     *session_datet session_dir   \n",
       "+----------+ +------------+ +------------+\n",
       "subject1     2021-01-01 00: subject1/sessi\n",
       "subject1     2022-04-27 12: subject1/sessi\n",
       "subject6     2021-06-01 13: from_top_track\n",
       "subject6     2021-06-02 14: from_top_track\n",
       " (Total: 4)"
      ]
     },
     "execution_count": 28,
     "metadata": {},
     "output_type": "execute_result"
    }
   ],
   "source": [
    "session.SessionDirectory()"
   ]
  },
  {
   "cell_type": "markdown",
   "metadata": {},
   "source": [
    "## Insert an entry into `miniscope.Recording`"
   ]
  },
  {
   "cell_type": "code",
   "execution_count": 29,
   "metadata": {},
   "outputs": [
    {
     "data": {
      "text/plain": [
       "# \n",
       "subject              : varchar(8)                   # \n",
       "session_datetime     : datetime                     # \n",
       "recording_id         : int                          # \n",
       "---\n",
       "equipment            : varchar(32)                  # \n",
       "acquisition_software : varchar(24)                  # \n",
       "recording_directory  : varchar(255)                 # relative to root data directory\n",
       "recording_notes=\"\"   : varchar(4095)                # free-notes"
      ]
     },
     "execution_count": 29,
     "metadata": {},
     "output_type": "execute_result"
    }
   ],
   "source": [
    "miniscope.Recording.heading"
   ]
  },
  {
   "cell_type": "code",
   "execution_count": 30,
   "metadata": {},
   "outputs": [],
   "source": [
    "recording_key = dict(**session_key,\n",
    "                     recording_id=0)"
   ]
  },
  {
   "cell_type": "code",
   "execution_count": 31,
   "metadata": {},
   "outputs": [],
   "source": [
    "miniscope.Recording.insert1(dict(**recording_key, \n",
    "                                 equipment='UCLA Miniscope', \n",
    "                                 acquisition_software='Miniscope-DAQ-V4',\n",
    "                                 recording_directory='subject1/session1',\n",
    "                                 recording_notes='No notes for this session.'))"
   ]
  },
  {
   "cell_type": "code",
   "execution_count": 32,
   "metadata": {},
   "outputs": [
    {
     "data": {
      "text/html": [
       "\n",
       "    \n",
       "    <style type=\"text/css\">\n",
       "        .Relation{\n",
       "            border-collapse:collapse;\n",
       "        }\n",
       "        .Relation th{\n",
       "            background: #A0A0A0; color: #ffffff; padding:4px; border:#f0e0e0 1px solid;\n",
       "            font-weight: normal; font-family: monospace; font-size: 100%;\n",
       "        }\n",
       "        .Relation td{\n",
       "            padding:4px; border:#f0e0e0 1px solid; font-size:100%;\n",
       "        }\n",
       "        .Relation tr:nth-child(odd){\n",
       "            background: #ffffff;\n",
       "        }\n",
       "        .Relation tr:nth-child(even){\n",
       "            background: #f3f1ff;\n",
       "        }\n",
       "        /* Tooltip container */\n",
       "        .djtooltip {\n",
       "        }\n",
       "        /* Tooltip text */\n",
       "        .djtooltip .djtooltiptext {\n",
       "            visibility: hidden;\n",
       "            width: 120px;\n",
       "            background-color: black;\n",
       "            color: #fff;\n",
       "            text-align: center;\n",
       "            padding: 5px 0;\n",
       "            border-radius: 6px;\n",
       "            /* Position the tooltip text - see examples below! */\n",
       "            position: absolute;\n",
       "            z-index: 1;\n",
       "        }\n",
       "        #primary {\n",
       "            font-weight: bold;\n",
       "            color: black;\n",
       "        }\n",
       "        #nonprimary {\n",
       "            font-weight: normal;\n",
       "            color: white;\n",
       "        }\n",
       "\n",
       "        /* Show the tooltip text when you mouse over the tooltip container */\n",
       "        .djtooltip:hover .djtooltiptext {\n",
       "            visibility: visible;\n",
       "        }\n",
       "    </style>\n",
       "    \n",
       "    <b></b>\n",
       "        <div style=\"max-height:1000px;max-width:1500px;overflow:auto;\">\n",
       "        <table border=\"1\" class=\"Relation\">\n",
       "            <thead> <tr style=\"text-align: right;\"> <th> <div class=\"djtooltip\">\n",
       "                            <p id=\"primary\">subject</p>\n",
       "                            <span class=\"djtooltiptext\"></span>\n",
       "                        </div></th><th><div class=\"djtooltip\">\n",
       "                            <p id=\"primary\">session_datetime</p>\n",
       "                            <span class=\"djtooltiptext\"></span>\n",
       "                        </div></th><th><div class=\"djtooltip\">\n",
       "                            <p id=\"primary\">recording_id</p>\n",
       "                            <span class=\"djtooltiptext\"></span>\n",
       "                        </div></th><th><div class=\"djtooltip\">\n",
       "                            <p id=\"nonprimary\">equipment</p>\n",
       "                            <span class=\"djtooltiptext\"></span>\n",
       "                        </div></th><th><div class=\"djtooltip\">\n",
       "                            <p id=\"nonprimary\">acquisition_software</p>\n",
       "                            <span class=\"djtooltiptext\"></span>\n",
       "                        </div></th><th><div class=\"djtooltip\">\n",
       "                            <p id=\"nonprimary\">recording_directory</p>\n",
       "                            <span class=\"djtooltiptext\">relative to root data directory</span>\n",
       "                        </div></th><th><div class=\"djtooltip\">\n",
       "                            <p id=\"nonprimary\">recording_notes</p>\n",
       "                            <span class=\"djtooltiptext\">free-notes</span>\n",
       "                        </div> </th> </tr> </thead>\n",
       "            <tbody> <tr> <td>subject1</td>\n",
       "<td>2021-01-01 00:00:01</td>\n",
       "<td>0</td>\n",
       "<td>UCLA Miniscope</td>\n",
       "<td>Miniscope-DAQ-V4</td>\n",
       "<td>subject1/session1</td>\n",
       "<td>No notes for this session.</td></tr><tr><td>subject1</td>\n",
       "<td>2022-04-27 12:13:01</td>\n",
       "<td>0</td>\n",
       "<td>Miniscope_V4_BNO</td>\n",
       "<td>Miniscope-DAQ-V4</td>\n",
       "<td>subject1/session1</td>\n",
       "<td></td> </tr> </tbody>\n",
       "        </table>\n",
       "        \n",
       "        <p>Total: 2</p></div>\n",
       "        "
      ],
      "text/plain": [
       "*subject     *session_datet *recording_id  equipment      acquisition_so recording_dire recording_note\n",
       "+----------+ +------------+ +------------+ +------------+ +------------+ +------------+ +------------+\n",
       "subject1     2021-01-01 00: 0              UCLA Miniscope Miniscope-DAQ- subject1/sessi No notes for t\n",
       "subject1     2022-04-27 12: 0              Miniscope_V4_B Miniscope-DAQ- subject1/sessi               \n",
       " (Total: 2)"
      ]
     },
     "execution_count": 32,
     "metadata": {},
     "output_type": "execute_result"
    }
   ],
   "source": [
    "miniscope.Recording()"
   ]
  },
  {
   "cell_type": "markdown",
   "metadata": {},
   "source": [
    "## Populate `miniscope.RecordingInfo`\n",
    "\n",
    "+ This imported table stores information about the acquired image (e.g. image dimensions, file paths, etc.).\n",
    "+ `populate` automatically calls `make` for every key for which the auto-populated table is missing data.\n",
    "+ `populate_settings` passes arguments to the `populate` method.\n",
    "+ `display_progress=True` reports the progress bar"
   ]
  },
  {
   "cell_type": "code",
   "execution_count": 33,
   "metadata": {},
   "outputs": [
    {
     "name": "stdout",
     "output_type": "stream",
     "text": [
      "# Store metadata about recording\n",
      "-> miniscope.Recording\n",
      "---\n",
      "nchannels            : tinyint                      # number of channels\n",
      "nframes              : int                          # number of recorded frames\n",
      "px_height=null       : smallint                     # height in pixels\n",
      "px_width=null        : smallint                     # width in pixels\n",
      "um_height=null       : float                        # height in microns\n",
      "um_width=null        : float                        # width in microns\n",
      "fps                  : float                        # (Hz) frames per second\n",
      "gain=null            : float                        # recording gain\n",
      "spatial_downsample=1 : tinyint                      # e.g. 1, 2, 4, 8. 1 for no downsampling\n",
      "led_power            : float                        # LED power used in the given recording\n",
      "time_stamps          : longblob                     # time stamps of each frame\n",
      "recording_datetime=null : datetime                     # datetime of the recording\n",
      "recording_duration=null : float                        # (seconds) duration of the recording\n",
      "\n"
     ]
    }
   ],
   "source": [
    "miniscope.RecordingInfo.describe();"
   ]
  },
  {
   "cell_type": "code",
   "execution_count": 34,
   "metadata": {},
   "outputs": [
    {
     "data": {
      "text/plain": [
       "# Store metadata about recording\n",
       "subject              : varchar(8)                   # \n",
       "session_datetime     : datetime                     # \n",
       "recording_id         : int                          # \n",
       "---\n",
       "nchannels            : tinyint                      # number of channels\n",
       "nframes              : int                          # number of recorded frames\n",
       "px_height=null       : smallint                     # height in pixels\n",
       "px_width=null        : smallint                     # width in pixels\n",
       "um_height=null       : float                        # height in microns\n",
       "um_width=null        : float                        # width in microns\n",
       "fps                  : float                        # (Hz) frames per second\n",
       "gain=null            : float                        # recording gain\n",
       "spatial_downsample=1 : tinyint                      # e.g. 1, 2, 4, 8. 1 for no downsampling\n",
       "led_power            : float                        # LED power used in the given recording\n",
       "time_stamps          : longblob                     # time stamps of each frame\n",
       "recording_datetime=null : datetime                     # datetime of the recording\n",
       "recording_duration=null : float                        # (seconds) duration of the recording"
      ]
     },
     "execution_count": 34,
     "metadata": {},
     "output_type": "execute_result"
    }
   ],
   "source": [
    "miniscope.RecordingInfo.heading"
   ]
  },
  {
   "cell_type": "code",
   "execution_count": 35,
   "metadata": {},
   "outputs": [],
   "source": [
    "populate_settings = {'display_progress': True}"
   ]
  },
  {
   "cell_type": "code",
   "execution_count": 36,
   "metadata": {},
   "outputs": [
    {
     "name": "stderr",
     "output_type": "stream",
     "text": [
      "RecordingInfo: 100%|█████████████████████████████████████████████████████████████| 1/1 [00:01<00:00,  1.43s/it]\n"
     ]
    }
   ],
   "source": [
    "miniscope.RecordingInfo.populate(**populate_settings)"
   ]
  },
  {
   "cell_type": "code",
   "execution_count": 37,
   "metadata": {},
   "outputs": [
    {
     "data": {
      "text/html": [
       "\n",
       "    \n",
       "    <style type=\"text/css\">\n",
       "        .Relation{\n",
       "            border-collapse:collapse;\n",
       "        }\n",
       "        .Relation th{\n",
       "            background: #A0A0A0; color: #ffffff; padding:4px; border:#f0e0e0 1px solid;\n",
       "            font-weight: normal; font-family: monospace; font-size: 100%;\n",
       "        }\n",
       "        .Relation td{\n",
       "            padding:4px; border:#f0e0e0 1px solid; font-size:100%;\n",
       "        }\n",
       "        .Relation tr:nth-child(odd){\n",
       "            background: #ffffff;\n",
       "        }\n",
       "        .Relation tr:nth-child(even){\n",
       "            background: #f3f1ff;\n",
       "        }\n",
       "        /* Tooltip container */\n",
       "        .djtooltip {\n",
       "        }\n",
       "        /* Tooltip text */\n",
       "        .djtooltip .djtooltiptext {\n",
       "            visibility: hidden;\n",
       "            width: 120px;\n",
       "            background-color: black;\n",
       "            color: #fff;\n",
       "            text-align: center;\n",
       "            padding: 5px 0;\n",
       "            border-radius: 6px;\n",
       "            /* Position the tooltip text - see examples below! */\n",
       "            position: absolute;\n",
       "            z-index: 1;\n",
       "        }\n",
       "        #primary {\n",
       "            font-weight: bold;\n",
       "            color: black;\n",
       "        }\n",
       "        #nonprimary {\n",
       "            font-weight: normal;\n",
       "            color: white;\n",
       "        }\n",
       "\n",
       "        /* Show the tooltip text when you mouse over the tooltip container */\n",
       "        .djtooltip:hover .djtooltiptext {\n",
       "            visibility: visible;\n",
       "        }\n",
       "    </style>\n",
       "    \n",
       "    <b>Store metadata about recording</b>\n",
       "        <div style=\"max-height:1000px;max-width:1500px;overflow:auto;\">\n",
       "        <table border=\"1\" class=\"Relation\">\n",
       "            <thead> <tr style=\"text-align: right;\"> <th> <div class=\"djtooltip\">\n",
       "                            <p id=\"primary\">subject</p>\n",
       "                            <span class=\"djtooltiptext\"></span>\n",
       "                        </div></th><th><div class=\"djtooltip\">\n",
       "                            <p id=\"primary\">session_datetime</p>\n",
       "                            <span class=\"djtooltiptext\"></span>\n",
       "                        </div></th><th><div class=\"djtooltip\">\n",
       "                            <p id=\"primary\">recording_id</p>\n",
       "                            <span class=\"djtooltiptext\"></span>\n",
       "                        </div></th><th><div class=\"djtooltip\">\n",
       "                            <p id=\"nonprimary\">nchannels</p>\n",
       "                            <span class=\"djtooltiptext\">number of channels</span>\n",
       "                        </div></th><th><div class=\"djtooltip\">\n",
       "                            <p id=\"nonprimary\">nframes</p>\n",
       "                            <span class=\"djtooltiptext\">number of recorded frames</span>\n",
       "                        </div></th><th><div class=\"djtooltip\">\n",
       "                            <p id=\"nonprimary\">px_height</p>\n",
       "                            <span class=\"djtooltiptext\">height in pixels</span>\n",
       "                        </div></th><th><div class=\"djtooltip\">\n",
       "                            <p id=\"nonprimary\">px_width</p>\n",
       "                            <span class=\"djtooltiptext\">width in pixels</span>\n",
       "                        </div></th><th><div class=\"djtooltip\">\n",
       "                            <p id=\"nonprimary\">um_height</p>\n",
       "                            <span class=\"djtooltiptext\">height in microns</span>\n",
       "                        </div></th><th><div class=\"djtooltip\">\n",
       "                            <p id=\"nonprimary\">um_width</p>\n",
       "                            <span class=\"djtooltiptext\">width in microns</span>\n",
       "                        </div></th><th><div class=\"djtooltip\">\n",
       "                            <p id=\"nonprimary\">fps</p>\n",
       "                            <span class=\"djtooltiptext\">(Hz) frames per second</span>\n",
       "                        </div></th><th><div class=\"djtooltip\">\n",
       "                            <p id=\"nonprimary\">gain</p>\n",
       "                            <span class=\"djtooltiptext\">recording gain</span>\n",
       "                        </div></th><th><div class=\"djtooltip\">\n",
       "                            <p id=\"nonprimary\">spatial_downsample</p>\n",
       "                            <span class=\"djtooltiptext\">e.g. 1, 2, 4, 8. 1 for no downsampling</span>\n",
       "                        </div></th><th><div class=\"djtooltip\">\n",
       "                            <p id=\"nonprimary\">led_power</p>\n",
       "                            <span class=\"djtooltiptext\">LED power used in the given recording</span>\n",
       "                        </div></th><th><div class=\"djtooltip\">\n",
       "                            <p id=\"nonprimary\">time_stamps</p>\n",
       "                            <span class=\"djtooltiptext\">time stamps of each frame</span>\n",
       "                        </div></th><th><div class=\"djtooltip\">\n",
       "                            <p id=\"nonprimary\">recording_datetime</p>\n",
       "                            <span class=\"djtooltiptext\">datetime of the recording</span>\n",
       "                        </div></th><th><div class=\"djtooltip\">\n",
       "                            <p id=\"nonprimary\">recording_duration</p>\n",
       "                            <span class=\"djtooltiptext\">(seconds) duration of the recording</span>\n",
       "                        </div> </th> </tr> </thead>\n",
       "            <tbody> <tr> <td>subject1</td>\n",
       "<td>2021-01-01 00:00:01</td>\n",
       "<td>0</td>\n",
       "<td>1</td>\n",
       "<td>111770</td>\n",
       "<td>600</td>\n",
       "<td>600</td>\n",
       "<td>nan</td>\n",
       "<td>nan</td>\n",
       "<td>20.0</td>\n",
       "<td>2.0</td>\n",
       "<td>1</td>\n",
       "<td>5.0</td>\n",
       "<td>=BLOB=</td>\n",
       "<td>None</td>\n",
       "<td>5588.5</td></tr><tr><td>subject1</td>\n",
       "<td>2022-04-27 12:13:01</td>\n",
       "<td>0</td>\n",
       "<td>1</td>\n",
       "<td>111770</td>\n",
       "<td>600</td>\n",
       "<td>600</td>\n",
       "<td>nan</td>\n",
       "<td>nan</td>\n",
       "<td>20.0</td>\n",
       "<td>2.0</td>\n",
       "<td>1</td>\n",
       "<td>5.0</td>\n",
       "<td>=BLOB=</td>\n",
       "<td>None</td>\n",
       "<td>5588.5</td> </tr> </tbody>\n",
       "        </table>\n",
       "        \n",
       "        <p>Total: 2</p></div>\n",
       "        "
      ],
      "text/plain": [
       "*subject     *session_datet *recording_id  nchannels     nframes     px_height     px_width     um_height     um_width     fps      gain     spatial_downsa led_power     time_stamp recording_date recording_dura\n",
       "+----------+ +------------+ +------------+ +-----------+ +---------+ +-----------+ +----------+ +-----------+ +----------+ +------+ +------+ +------------+ +-----------+ +--------+ +------------+ +------------+\n",
       "subject1     2021-01-01 00: 0              1             111770      600           600          nan           nan          20.0     2.0      1              5.0           =BLOB=     None           5588.5        \n",
       "subject1     2022-04-27 12: 0              1             111770      600           600          nan           nan          20.0     2.0      1              5.0           =BLOB=     None           5588.5        \n",
       " (Total: 2)"
      ]
     },
     "execution_count": 37,
     "metadata": {},
     "output_type": "execute_result"
    }
   ],
   "source": [
    "miniscope.RecordingInfo()"
   ]
  },
  {
   "cell_type": "markdown",
   "metadata": {},
   "source": [
    "## Insert a new entry into `miniscope.ProcessingParamSet` for CaImAn\n",
    "\n",
    "+ Define and insert the parameters that will be used for the CaImAn processing.\n",
    "\n",
    "+ This step is not needed if you are using an existing ProcessingParamSet.\n",
    "\n",
    "### Define CaImAn parameters"
   ]
  },
  {
   "cell_type": "code",
   "execution_count": 38,
   "metadata": {},
   "outputs": [],
   "source": [
    "params = dict(decay_time=0.4,\n",
    "              pw_rigid=False,\n",
    "              max_shifts= (5, 5),\n",
    "              gSig_filt=(3, 3),\n",
    "              strides=(48, 48),\n",
    "              overlaps=(24, 24),\n",
    "              max_deviation_rigid=3,\n",
    "              border_nan='copy',\n",
    "              method_init='corr_pnr',\n",
    "              K=None,\n",
    "              gSig=(3, 3),\n",
    "              gSiz=(13, 13),\n",
    "              merge_thr=0.7,\n",
    "              p=1,\n",
    "              tsub=2,\n",
    "              ssub=1,\n",
    "              rf=40,\n",
    "              stride=20,\n",
    "              only_init=True,\n",
    "              nb=0,\n",
    "              nb_patch=0,\n",
    "              method_deconvolution='oasis',\n",
    "              low_rank_background=None,\n",
    "              update_background_components=True,\n",
    "              min_corr=0.8,\n",
    "              min_pnr=10,\n",
    "              normalize_init=False,\n",
    "              center_psf=True,\n",
    "              ssub_B=2,\n",
    "              ring_size_factor=1.4,\n",
    "              del_duplicates=True,\n",
    "              border_pix=0,\n",
    "              min_SNR=3,\n",
    "              rval_thr=0.85,\n",
    "              use_cnn=False,\n",
    "            )"
   ]
  },
  {
   "cell_type": "markdown",
   "metadata": {},
   "source": [
    "### Insert CaImAn parameters\n",
    "\n",
    "+ A method of the class `ProcessingParamset` called `insert_new_params` is a helper function to insert the CaImAn parameters and ensures that the parameter set inserted is not duplicated."
   ]
  },
  {
   "cell_type": "code",
   "execution_count": 39,
   "metadata": {},
   "outputs": [],
   "source": [
    "miniscope.ProcessingParamSet.insert_new_params(\n",
    "    processing_method='caiman', \n",
    "    paramset_id=0, \n",
    "    paramset_desc='Calcium imaging analysis with CaImAn using default parameters',\n",
    "    params=params)"
   ]
  },
  {
   "cell_type": "markdown",
   "metadata": {},
   "source": [
    "## Insert new ProcessingTask to trigger analysis and ingestion of motion correction and segmentation results\n",
    "\n",
    "+ Motion correction and segmentation are performed for each recording in CaImAn.\n",
    "\n",
    "+ If `task_mode=trigger`, this entry will trigger running analysis (i.e. motion correction, segmentation, and traces) within the `miniscope.Processing` table.\n",
    "\n",
    "+ If the `task_mode=load` this step ensures that the output directory contains the valid processed outputs.\n",
    "\n",
    "+ The `paramset_id` is the parameter set stored in `miniscope.ProcessingParamSet` that is used for the imaging processing.\n",
    "    \n",
    "+ The `processing_output_dir` stores the directory of the processing results (relative to the miniscope root data directory)."
   ]
  },
  {
   "cell_type": "code",
   "execution_count": 40,
   "metadata": {},
   "outputs": [],
   "source": [
    "miniscope.ProcessingTask.insert1(dict(**recording_key,\n",
    "                                      paramset_id=0,\n",
    "                                      processing_output_dir='subject1/session1/caiman',\n",
    "                                      task_mode='load'))"
   ]
  },
  {
   "cell_type": "markdown",
   "metadata": {},
   "source": [
    "## Populate `miniscope.Processing`"
   ]
  },
  {
   "cell_type": "code",
   "execution_count": 41,
   "metadata": {},
   "outputs": [
    {
     "name": "stderr",
     "output_type": "stream",
     "text": [
      "Processing:   0%|                                                                        | 0/1 [00:25<?, ?it/s]\n"
     ]
    },
    {
     "ename": "AttributeError",
     "evalue": "'bytes' object has no attribute 'items'",
     "output_type": "error",
     "traceback": [
      "\u001b[0;31m---------------------------------------------------------------------------\u001b[0m",
      "\u001b[0;31mAttributeError\u001b[0m                            Traceback (most recent call last)",
      "\u001b[0;32m/var/folders/_9/tzvq__ws5z9gv5s7jvkj570r0000gn/T/ipykernel_85042/3959916919.py\u001b[0m in \u001b[0;36m<module>\u001b[0;34m\u001b[0m\n\u001b[0;32m----> 1\u001b[0;31m \u001b[0mminiscope\u001b[0m\u001b[0;34m.\u001b[0m\u001b[0mProcessing\u001b[0m\u001b[0;34m.\u001b[0m\u001b[0mpopulate\u001b[0m\u001b[0;34m(\u001b[0m\u001b[0;34m**\u001b[0m\u001b[0mpopulate_settings\u001b[0m\u001b[0;34m)\u001b[0m\u001b[0;34m\u001b[0m\u001b[0;34m\u001b[0m\u001b[0m\n\u001b[0m",
      "\u001b[0;32m~/miniconda3/envs/ele/lib/python3.8/site-packages/datajoint/autopopulate.py\u001b[0m in \u001b[0;36mpopulate\u001b[0;34m(self, suppress_errors, return_exception_objects, reserve_jobs, order, limit, max_calls, display_progress, processes, make_kwargs, *restrictions)\u001b[0m\n\u001b[1;32m    227\u001b[0m                 \u001b[0mtqdm\u001b[0m\u001b[0;34m(\u001b[0m\u001b[0mkeys\u001b[0m\u001b[0;34m,\u001b[0m \u001b[0mdesc\u001b[0m\u001b[0;34m=\u001b[0m\u001b[0mself\u001b[0m\u001b[0;34m.\u001b[0m\u001b[0m__class__\u001b[0m\u001b[0;34m.\u001b[0m\u001b[0m__name__\u001b[0m\u001b[0;34m)\u001b[0m \u001b[0;32mif\u001b[0m \u001b[0mdisplay_progress\u001b[0m \u001b[0;32melse\u001b[0m \u001b[0mkeys\u001b[0m\u001b[0;34m\u001b[0m\u001b[0;34m\u001b[0m\u001b[0m\n\u001b[1;32m    228\u001b[0m             ):\n\u001b[0;32m--> 229\u001b[0;31m                 \u001b[0merror\u001b[0m \u001b[0;34m=\u001b[0m \u001b[0mself\u001b[0m\u001b[0;34m.\u001b[0m\u001b[0m_populate1\u001b[0m\u001b[0;34m(\u001b[0m\u001b[0mkey\u001b[0m\u001b[0;34m,\u001b[0m \u001b[0mjobs\u001b[0m\u001b[0;34m,\u001b[0m \u001b[0;34m**\u001b[0m\u001b[0mpopulate_kwargs\u001b[0m\u001b[0;34m)\u001b[0m\u001b[0;34m\u001b[0m\u001b[0;34m\u001b[0m\u001b[0m\n\u001b[0m\u001b[1;32m    230\u001b[0m                 \u001b[0;32mif\u001b[0m \u001b[0merror\u001b[0m \u001b[0;32mis\u001b[0m \u001b[0;32mnot\u001b[0m \u001b[0;32mNone\u001b[0m\u001b[0;34m:\u001b[0m\u001b[0;34m\u001b[0m\u001b[0;34m\u001b[0m\u001b[0m\n\u001b[1;32m    231\u001b[0m                     \u001b[0merror_list\u001b[0m\u001b[0;34m.\u001b[0m\u001b[0mappend\u001b[0m\u001b[0;34m(\u001b[0m\u001b[0merror\u001b[0m\u001b[0;34m)\u001b[0m\u001b[0;34m\u001b[0m\u001b[0;34m\u001b[0m\u001b[0m\n",
      "\u001b[0;32m~/miniconda3/envs/ele/lib/python3.8/site-packages/datajoint/autopopulate.py\u001b[0m in \u001b[0;36m_populate1\u001b[0;34m(self, key, jobs, suppress_errors, return_exception_objects, make_kwargs)\u001b[0m\n\u001b[1;32m    279\u001b[0m                 \u001b[0mself\u001b[0m\u001b[0;34m.\u001b[0m\u001b[0m__class__\u001b[0m\u001b[0;34m.\u001b[0m\u001b[0m_allow_insert\u001b[0m \u001b[0;34m=\u001b[0m \u001b[0;32mTrue\u001b[0m\u001b[0;34m\u001b[0m\u001b[0;34m\u001b[0m\u001b[0m\n\u001b[1;32m    280\u001b[0m                 \u001b[0;32mtry\u001b[0m\u001b[0;34m:\u001b[0m\u001b[0;34m\u001b[0m\u001b[0;34m\u001b[0m\u001b[0m\n\u001b[0;32m--> 281\u001b[0;31m                     \u001b[0mmake\u001b[0m\u001b[0;34m(\u001b[0m\u001b[0mdict\u001b[0m\u001b[0;34m(\u001b[0m\u001b[0mkey\u001b[0m\u001b[0;34m)\u001b[0m\u001b[0;34m,\u001b[0m \u001b[0;34m**\u001b[0m\u001b[0;34m(\u001b[0m\u001b[0mmake_kwargs\u001b[0m \u001b[0;32mor\u001b[0m \u001b[0;34m{\u001b[0m\u001b[0;34m}\u001b[0m\u001b[0;34m)\u001b[0m\u001b[0;34m)\u001b[0m\u001b[0;34m\u001b[0m\u001b[0;34m\u001b[0m\u001b[0m\n\u001b[0m\u001b[1;32m    282\u001b[0m                 \u001b[0;32mexcept\u001b[0m \u001b[0;34m(\u001b[0m\u001b[0mKeyboardInterrupt\u001b[0m\u001b[0;34m,\u001b[0m \u001b[0mSystemExit\u001b[0m\u001b[0;34m,\u001b[0m \u001b[0mException\u001b[0m\u001b[0;34m)\u001b[0m \u001b[0;32mas\u001b[0m \u001b[0merror\u001b[0m\u001b[0;34m:\u001b[0m\u001b[0;34m\u001b[0m\u001b[0;34m\u001b[0m\u001b[0m\n\u001b[1;32m    283\u001b[0m                     \u001b[0;32mtry\u001b[0m\u001b[0;34m:\u001b[0m\u001b[0;34m\u001b[0m\u001b[0;34m\u001b[0m\u001b[0m\n",
      "\u001b[0;32m~/Documents/dev/element-miniscope/element_miniscope/miniscope.py\u001b[0m in \u001b[0;36mmake\u001b[0;34m(self, key)\u001b[0m\n\u001b[1;32m    398\u001b[0m \u001b[0;34m\u001b[0m\u001b[0m\n\u001b[1;32m    399\u001b[0m         \u001b[0;32mif\u001b[0m \u001b[0mtask_mode\u001b[0m \u001b[0;34m==\u001b[0m \u001b[0;34m\"load\"\u001b[0m\u001b[0;34m:\u001b[0m\u001b[0;34m\u001b[0m\u001b[0;34m\u001b[0m\u001b[0m\n\u001b[0;32m--> 400\u001b[0;31m             \u001b[0mmethod\u001b[0m\u001b[0;34m,\u001b[0m \u001b[0mloaded_result\u001b[0m \u001b[0;34m=\u001b[0m \u001b[0mget_loader_result\u001b[0m\u001b[0;34m(\u001b[0m\u001b[0mkey\u001b[0m\u001b[0;34m,\u001b[0m \u001b[0mProcessingTask\u001b[0m\u001b[0;34m)\u001b[0m\u001b[0;34m\u001b[0m\u001b[0;34m\u001b[0m\u001b[0m\n\u001b[0m\u001b[1;32m    401\u001b[0m             \u001b[0;32mif\u001b[0m \u001b[0mmethod\u001b[0m \u001b[0;34m==\u001b[0m \u001b[0;34m\"caiman\"\u001b[0m\u001b[0;34m:\u001b[0m\u001b[0;34m\u001b[0m\u001b[0;34m\u001b[0m\u001b[0m\n\u001b[1;32m    402\u001b[0m                 \u001b[0mloaded_caiman\u001b[0m \u001b[0;34m=\u001b[0m \u001b[0mloaded_result\u001b[0m\u001b[0;34m\u001b[0m\u001b[0;34m\u001b[0m\u001b[0m\n",
      "\u001b[0;32m~/Documents/dev/element-miniscope/element_miniscope/miniscope.py\u001b[0m in \u001b[0;36mget_loader_result\u001b[0;34m(key, table)\u001b[0m\n\u001b[1;32m    963\u001b[0m         \u001b[0;32mfrom\u001b[0m \u001b[0melement_interface\u001b[0m \u001b[0;32mimport\u001b[0m \u001b[0mcaiman_loader\u001b[0m\u001b[0;34m\u001b[0m\u001b[0;34m\u001b[0m\u001b[0m\n\u001b[1;32m    964\u001b[0m \u001b[0;34m\u001b[0m\u001b[0m\n\u001b[0;32m--> 965\u001b[0;31m         \u001b[0mloaded_output\u001b[0m \u001b[0;34m=\u001b[0m \u001b[0mcaiman_loader\u001b[0m\u001b[0;34m.\u001b[0m\u001b[0mCaImAn\u001b[0m\u001b[0;34m(\u001b[0m\u001b[0moutput_dir\u001b[0m\u001b[0;34m)\u001b[0m\u001b[0;34m\u001b[0m\u001b[0;34m\u001b[0m\u001b[0m\n\u001b[0m\u001b[1;32m    966\u001b[0m     \u001b[0;32melse\u001b[0m\u001b[0;34m:\u001b[0m\u001b[0;34m\u001b[0m\u001b[0;34m\u001b[0m\u001b[0m\n\u001b[1;32m    967\u001b[0m         \u001b[0;32mraise\u001b[0m \u001b[0mNotImplementedError\u001b[0m\u001b[0;34m(\u001b[0m\u001b[0;34m\"Unknown/unimplemented method: {}\"\u001b[0m\u001b[0;34m.\u001b[0m\u001b[0mformat\u001b[0m\u001b[0;34m(\u001b[0m\u001b[0mmethod\u001b[0m\u001b[0;34m)\u001b[0m\u001b[0;34m)\u001b[0m\u001b[0;34m\u001b[0m\u001b[0;34m\u001b[0m\u001b[0m\n",
      "\u001b[0;32m~/miniconda3/envs/ele/lib/python3.8/site-packages/element_interface/caiman_loader.py\u001b[0m in \u001b[0;36m__init__\u001b[0;34m(self, caiman_dir)\u001b[0m\n\u001b[1;32m     48\u001b[0m \u001b[0;34m\u001b[0m\u001b[0m\n\u001b[1;32m     49\u001b[0m         \u001b[0;31m# ---- Initialize CaImAn's results ----\u001b[0m\u001b[0;34m\u001b[0m\u001b[0;34m\u001b[0m\u001b[0;34m\u001b[0m\u001b[0m\n\u001b[0;32m---> 50\u001b[0;31m         \u001b[0mself\u001b[0m\u001b[0;34m.\u001b[0m\u001b[0mcnmf\u001b[0m \u001b[0;34m=\u001b[0m \u001b[0mcm\u001b[0m\u001b[0;34m.\u001b[0m\u001b[0msource_extraction\u001b[0m\u001b[0;34m.\u001b[0m\u001b[0mcnmf\u001b[0m\u001b[0;34m.\u001b[0m\u001b[0mcnmf\u001b[0m\u001b[0;34m.\u001b[0m\u001b[0mload_CNMF\u001b[0m\u001b[0;34m(\u001b[0m\u001b[0mself\u001b[0m\u001b[0;34m.\u001b[0m\u001b[0mcaiman_fp\u001b[0m\u001b[0;34m)\u001b[0m\u001b[0;34m\u001b[0m\u001b[0;34m\u001b[0m\u001b[0m\n\u001b[0m\u001b[1;32m     51\u001b[0m         \u001b[0mself\u001b[0m\u001b[0;34m.\u001b[0m\u001b[0mparams\u001b[0m \u001b[0;34m=\u001b[0m \u001b[0mself\u001b[0m\u001b[0;34m.\u001b[0m\u001b[0mcnmf\u001b[0m\u001b[0;34m.\u001b[0m\u001b[0mparams\u001b[0m\u001b[0;34m\u001b[0m\u001b[0;34m\u001b[0m\u001b[0m\n\u001b[1;32m     52\u001b[0m \u001b[0;34m\u001b[0m\u001b[0m\n",
      "\u001b[0;32m~/miniconda3/envs/ele/lib/python3.8/site-packages/caiman/source_extraction/cnmf/cnmf.py\u001b[0m in \u001b[0;36mload_CNMF\u001b[0;34m(filename, n_processes, dview)\u001b[0m\n\u001b[1;32m   1020\u001b[0m                         \u001b[0;32mif\u001b[0m \u001b[0mvv\u001b[0m \u001b[0;32mis\u001b[0m \u001b[0;32mnot\u001b[0m \u001b[0;32mNone\u001b[0m\u001b[0;34m:\u001b[0m\u001b[0;34m\u001b[0m\u001b[0;34m\u001b[0m\u001b[0m\n\u001b[1;32m   1021\u001b[0m                             \u001b[0mdiscarded_components\u001b[0m \u001b[0;34m=\u001b[0m \u001b[0mEstimates\u001b[0m\u001b[0;34m(\u001b[0m\u001b[0;34m)\u001b[0m\u001b[0;34m\u001b[0m\u001b[0;34m\u001b[0m\u001b[0m\n\u001b[0;32m-> 1022\u001b[0;31m                             \u001b[0;32mfor\u001b[0m \u001b[0mkk__\u001b[0m\u001b[0;34m,\u001b[0m \u001b[0mvv__\u001b[0m \u001b[0;32min\u001b[0m \u001b[0mvv\u001b[0m\u001b[0;34m.\u001b[0m\u001b[0mitems\u001b[0m\u001b[0;34m(\u001b[0m\u001b[0;34m)\u001b[0m\u001b[0;34m:\u001b[0m\u001b[0;34m\u001b[0m\u001b[0;34m\u001b[0m\u001b[0m\n\u001b[0m\u001b[1;32m   1023\u001b[0m                                 \u001b[0msetattr\u001b[0m\u001b[0;34m(\u001b[0m\u001b[0mdiscarded_components\u001b[0m\u001b[0;34m,\u001b[0m \u001b[0mkk__\u001b[0m\u001b[0;34m,\u001b[0m \u001b[0mvv__\u001b[0m\u001b[0;34m)\u001b[0m\u001b[0;34m\u001b[0m\u001b[0;34m\u001b[0m\u001b[0m\n\u001b[1;32m   1024\u001b[0m                             \u001b[0msetattr\u001b[0m\u001b[0;34m(\u001b[0m\u001b[0mestims\u001b[0m\u001b[0;34m,\u001b[0m \u001b[0mkk\u001b[0m\u001b[0;34m,\u001b[0m \u001b[0mdiscarded_components\u001b[0m\u001b[0;34m)\u001b[0m\u001b[0;34m\u001b[0m\u001b[0;34m\u001b[0m\u001b[0m\n",
      "\u001b[0;31mAttributeError\u001b[0m: 'bytes' object has no attribute 'items'"
     ]
    }
   ],
   "source": [
    "miniscope.Processing.populate(**populate_settings)"
   ]
  },
  {
   "cell_type": "code",
   "execution_count": 51,
   "metadata": {},
   "outputs": [
    {
     "name": "stdout",
     "output_type": "stream",
     "text": [
      "> \u001b[0;32m/Users/cb/miniconda3/envs/ele/lib/python3.8/site-packages/datajoint/connection.py\u001b[0m(294)\u001b[0;36m_execute_query\u001b[0;34m()\u001b[0m\n",
      "\u001b[0;32m    292 \u001b[0;31m                \u001b[0mcursor\u001b[0m\u001b[0;34m.\u001b[0m\u001b[0mexecute\u001b[0m\u001b[0;34m(\u001b[0m\u001b[0mquery\u001b[0m\u001b[0;34m,\u001b[0m \u001b[0margs\u001b[0m\u001b[0;34m)\u001b[0m\u001b[0;34m\u001b[0m\u001b[0;34m\u001b[0m\u001b[0m\n",
      "\u001b[0m\u001b[0;32m    293 \u001b[0;31m        \u001b[0;32mexcept\u001b[0m \u001b[0mclient\u001b[0m\u001b[0;34m.\u001b[0m\u001b[0merr\u001b[0m\u001b[0;34m.\u001b[0m\u001b[0mError\u001b[0m \u001b[0;32mas\u001b[0m \u001b[0merr\u001b[0m\u001b[0;34m:\u001b[0m\u001b[0;34m\u001b[0m\u001b[0;34m\u001b[0m\u001b[0m\n",
      "\u001b[0m\u001b[0;32m--> 294 \u001b[0;31m            \u001b[0;32mraise\u001b[0m \u001b[0mtranslate_query_error\u001b[0m\u001b[0;34m(\u001b[0m\u001b[0merr\u001b[0m\u001b[0;34m,\u001b[0m \u001b[0mquery\u001b[0m\u001b[0;34m)\u001b[0m\u001b[0;34m\u001b[0m\u001b[0;34m\u001b[0m\u001b[0m\n",
      "\u001b[0m\u001b[0;32m    295 \u001b[0;31m\u001b[0;34m\u001b[0m\u001b[0m\n",
      "\u001b[0m\u001b[0;32m    296 \u001b[0;31m    def query(\n",
      "\u001b[0m\n"
     ]
    },
    {
     "name": "stdin",
     "output_type": "stream",
     "text": [
      "ipdb>  u\n"
     ]
    },
    {
     "name": "stdout",
     "output_type": "stream",
     "text": [
      "> \u001b[0;32m/Users/cb/miniconda3/envs/ele/lib/python3.8/site-packages/datajoint/connection.py\u001b[0m(337)\u001b[0;36mquery\u001b[0;34m()\u001b[0m\n",
      "\u001b[0;32m    335 \u001b[0;31m        \u001b[0mcursor\u001b[0m \u001b[0;34m=\u001b[0m \u001b[0mself\u001b[0m\u001b[0;34m.\u001b[0m\u001b[0m_conn\u001b[0m\u001b[0;34m.\u001b[0m\u001b[0mcursor\u001b[0m\u001b[0;34m(\u001b[0m\u001b[0mcursor\u001b[0m\u001b[0;34m=\u001b[0m\u001b[0mcursor_class\u001b[0m\u001b[0;34m)\u001b[0m\u001b[0;34m\u001b[0m\u001b[0;34m\u001b[0m\u001b[0m\n",
      "\u001b[0m\u001b[0;32m    336 \u001b[0;31m        \u001b[0;32mtry\u001b[0m\u001b[0;34m:\u001b[0m\u001b[0;34m\u001b[0m\u001b[0;34m\u001b[0m\u001b[0m\n",
      "\u001b[0m\u001b[0;32m--> 337 \u001b[0;31m            \u001b[0mself\u001b[0m\u001b[0;34m.\u001b[0m\u001b[0m_execute_query\u001b[0m\u001b[0;34m(\u001b[0m\u001b[0mcursor\u001b[0m\u001b[0;34m,\u001b[0m \u001b[0mquery\u001b[0m\u001b[0;34m,\u001b[0m \u001b[0margs\u001b[0m\u001b[0;34m,\u001b[0m \u001b[0msuppress_warnings\u001b[0m\u001b[0;34m)\u001b[0m\u001b[0;34m\u001b[0m\u001b[0;34m\u001b[0m\u001b[0m\n",
      "\u001b[0m\u001b[0;32m    338 \u001b[0;31m        \u001b[0;32mexcept\u001b[0m \u001b[0merrors\u001b[0m\u001b[0;34m.\u001b[0m\u001b[0mLostConnectionError\u001b[0m\u001b[0;34m:\u001b[0m\u001b[0;34m\u001b[0m\u001b[0;34m\u001b[0m\u001b[0m\n",
      "\u001b[0m\u001b[0;32m    339 \u001b[0;31m            \u001b[0;32mif\u001b[0m \u001b[0;32mnot\u001b[0m \u001b[0mreconnect\u001b[0m\u001b[0;34m:\u001b[0m\u001b[0;34m\u001b[0m\u001b[0;34m\u001b[0m\u001b[0m\n",
      "\u001b[0m\n"
     ]
    },
    {
     "name": "stdin",
     "output_type": "stream",
     "text": [
      "ipdb>  \n"
     ]
    },
    {
     "name": "stdout",
     "output_type": "stream",
     "text": [
      "> \u001b[0;32m/Users/cb/miniconda3/envs/ele/lib/python3.8/site-packages/datajoint/table.py\u001b[0m(418)\u001b[0;36minsert\u001b[0;34m()\u001b[0m\n",
      "\u001b[0;32m    416 \u001b[0;31m                    ),\n",
      "\u001b[0m\u001b[0;32m    417 \u001b[0;31m                )\n",
      "\u001b[0m\u001b[0;32m--> 418 \u001b[0;31m                self.connection.query(\n",
      "\u001b[0m\u001b[0;32m    419 \u001b[0;31m                    \u001b[0mquery\u001b[0m\u001b[0;34m,\u001b[0m\u001b[0;34m\u001b[0m\u001b[0;34m\u001b[0m\u001b[0m\n",
      "\u001b[0m\u001b[0;32m    420 \u001b[0;31m                    args=list(\n",
      "\u001b[0m\n"
     ]
    },
    {
     "name": "stdin",
     "output_type": "stream",
     "text": [
      "ipdb>  \n"
     ]
    },
    {
     "name": "stdout",
     "output_type": "stream",
     "text": [
      "> \u001b[0;32m/Users/cb/miniconda3/envs/ele/lib/python3.8/site-packages/datajoint/table.py\u001b[0m(325)\u001b[0;36minsert1\u001b[0;34m()\u001b[0m\n",
      "\u001b[0;32m    323 \u001b[0;31m        \u001b[0;32mas\u001b[0m \u001b[0mone\u001b[0m \u001b[0mrow\u001b[0m\u001b[0;34m.\u001b[0m\u001b[0;34m\u001b[0m\u001b[0;34m\u001b[0m\u001b[0m\n",
      "\u001b[0m\u001b[0;32m    324 \u001b[0;31m        \"\"\"\n",
      "\u001b[0m\u001b[0;32m--> 325 \u001b[0;31m        \u001b[0mself\u001b[0m\u001b[0;34m.\u001b[0m\u001b[0minsert\u001b[0m\u001b[0;34m(\u001b[0m\u001b[0;34m(\u001b[0m\u001b[0mrow\u001b[0m\u001b[0;34m,\u001b[0m\u001b[0;34m)\u001b[0m\u001b[0;34m,\u001b[0m \u001b[0;34m**\u001b[0m\u001b[0mkwargs\u001b[0m\u001b[0;34m)\u001b[0m\u001b[0;34m\u001b[0m\u001b[0;34m\u001b[0m\u001b[0m\n",
      "\u001b[0m\u001b[0;32m    326 \u001b[0;31m\u001b[0;34m\u001b[0m\u001b[0m\n",
      "\u001b[0m\u001b[0;32m    327 \u001b[0;31m    def insert(\n",
      "\u001b[0m\n"
     ]
    },
    {
     "name": "stdin",
     "output_type": "stream",
     "text": [
      "ipdb>  row\n"
     ]
    },
    {
     "name": "stdout",
     "output_type": "stream",
     "text": [
      "{'subject': 'subject1', 'session_datetime': '2021-01-01 00:00:01', 'recording_id': 0, 'paramset_id': 0, 'curation_id': 0, 'curation_time': '2022-04-30 12:22:15', 'curation_output_dir': 'subject1/session1/caiman', 'manual_curation': False, 'curation_note': ''}\n"
     ]
    },
    {
     "name": "stdin",
     "output_type": "stream",
     "text": [
      "ipdb>  u\n"
     ]
    },
    {
     "name": "stdout",
     "output_type": "stream",
     "text": [
      "> \u001b[0;32m/var/folders/_9/tzvq__ws5z9gv5s7jvkj570r0000gn/T/ipykernel_85042/2083672964.py\u001b[0m(1)\u001b[0;36m<module>\u001b[0;34m()\u001b[0m\n",
      "\u001b[0;32m----> 1 \u001b[0;31mminiscope.Curation.insert1(dict(**recording_key,\n",
      "\u001b[0m\u001b[0;32m      2 \u001b[0;31m                              \u001b[0mparamset_id\u001b[0m\u001b[0;34m=\u001b[0m\u001b[0;36m0\u001b[0m\u001b[0;34m,\u001b[0m\u001b[0;34m\u001b[0m\u001b[0;34m\u001b[0m\u001b[0m\n",
      "\u001b[0m\u001b[0;32m      3 \u001b[0;31m                              \u001b[0mcuration_id\u001b[0m\u001b[0;34m=\u001b[0m\u001b[0;36m0\u001b[0m\u001b[0;34m,\u001b[0m\u001b[0;34m\u001b[0m\u001b[0;34m\u001b[0m\u001b[0m\n",
      "\u001b[0m\u001b[0;32m      4 \u001b[0;31m                              \u001b[0mcuration_time\u001b[0m\u001b[0;34m=\u001b[0m\u001b[0;34m'2022-04-30 12:22:15'\u001b[0m\u001b[0;34m,\u001b[0m\u001b[0;34m\u001b[0m\u001b[0;34m\u001b[0m\u001b[0m\n",
      "\u001b[0m\u001b[0;32m      5 \u001b[0;31m                              \u001b[0mcuration_output_dir\u001b[0m\u001b[0;34m=\u001b[0m\u001b[0;34m'subject1/session1/caiman'\u001b[0m\u001b[0;34m,\u001b[0m\u001b[0;34m\u001b[0m\u001b[0;34m\u001b[0m\u001b[0m\n",
      "\u001b[0m\n"
     ]
    },
    {
     "name": "stdin",
     "output_type": "stream",
     "text": [
      "ipdb>  d\n"
     ]
    },
    {
     "name": "stdout",
     "output_type": "stream",
     "text": [
      "> \u001b[0;32m/Users/cb/miniconda3/envs/ele/lib/python3.8/site-packages/datajoint/table.py\u001b[0m(325)\u001b[0;36minsert1\u001b[0;34m()\u001b[0m\n",
      "\u001b[0;32m    323 \u001b[0;31m        \u001b[0;32mas\u001b[0m \u001b[0mone\u001b[0m \u001b[0mrow\u001b[0m\u001b[0;34m.\u001b[0m\u001b[0;34m\u001b[0m\u001b[0;34m\u001b[0m\u001b[0m\n",
      "\u001b[0m\u001b[0;32m    324 \u001b[0;31m        \"\"\"\n",
      "\u001b[0m\u001b[0;32m--> 325 \u001b[0;31m        \u001b[0mself\u001b[0m\u001b[0;34m.\u001b[0m\u001b[0minsert\u001b[0m\u001b[0;34m(\u001b[0m\u001b[0;34m(\u001b[0m\u001b[0mrow\u001b[0m\u001b[0;34m,\u001b[0m\u001b[0;34m)\u001b[0m\u001b[0;34m,\u001b[0m \u001b[0;34m**\u001b[0m\u001b[0mkwargs\u001b[0m\u001b[0;34m)\u001b[0m\u001b[0;34m\u001b[0m\u001b[0;34m\u001b[0m\u001b[0m\n",
      "\u001b[0m\u001b[0;32m    326 \u001b[0;31m\u001b[0;34m\u001b[0m\u001b[0m\n",
      "\u001b[0m\u001b[0;32m    327 \u001b[0;31m    def insert(\n",
      "\u001b[0m\n"
     ]
    },
    {
     "name": "stdin",
     "output_type": "stream",
     "text": [
      "ipdb>  \n"
     ]
    },
    {
     "name": "stdout",
     "output_type": "stream",
     "text": [
      "> \u001b[0;32m/Users/cb/miniconda3/envs/ele/lib/python3.8/site-packages/datajoint/table.py\u001b[0m(418)\u001b[0;36minsert\u001b[0;34m()\u001b[0m\n",
      "\u001b[0;32m    416 \u001b[0;31m                    ),\n",
      "\u001b[0m\u001b[0;32m    417 \u001b[0;31m                )\n",
      "\u001b[0m\u001b[0;32m--> 418 \u001b[0;31m                self.connection.query(\n",
      "\u001b[0m\u001b[0;32m    419 \u001b[0;31m                    \u001b[0mquery\u001b[0m\u001b[0;34m,\u001b[0m\u001b[0;34m\u001b[0m\u001b[0;34m\u001b[0m\u001b[0m\n",
      "\u001b[0m\u001b[0;32m    420 \u001b[0;31m                    args=list(\n",
      "\u001b[0m\n"
     ]
    },
    {
     "name": "stdin",
     "output_type": "stream",
     "text": [
      "ipdb>  \n"
     ]
    },
    {
     "name": "stdout",
     "output_type": "stream",
     "text": [
      "> \u001b[0;32m/Users/cb/miniconda3/envs/ele/lib/python3.8/site-packages/datajoint/connection.py\u001b[0m(337)\u001b[0;36mquery\u001b[0;34m()\u001b[0m\n",
      "\u001b[0;32m    335 \u001b[0;31m        \u001b[0mcursor\u001b[0m \u001b[0;34m=\u001b[0m \u001b[0mself\u001b[0m\u001b[0;34m.\u001b[0m\u001b[0m_conn\u001b[0m\u001b[0;34m.\u001b[0m\u001b[0mcursor\u001b[0m\u001b[0;34m(\u001b[0m\u001b[0mcursor\u001b[0m\u001b[0;34m=\u001b[0m\u001b[0mcursor_class\u001b[0m\u001b[0;34m)\u001b[0m\u001b[0;34m\u001b[0m\u001b[0;34m\u001b[0m\u001b[0m\n",
      "\u001b[0m\u001b[0;32m    336 \u001b[0;31m        \u001b[0;32mtry\u001b[0m\u001b[0;34m:\u001b[0m\u001b[0;34m\u001b[0m\u001b[0;34m\u001b[0m\u001b[0m\n",
      "\u001b[0m\u001b[0;32m--> 337 \u001b[0;31m            \u001b[0mself\u001b[0m\u001b[0;34m.\u001b[0m\u001b[0m_execute_query\u001b[0m\u001b[0;34m(\u001b[0m\u001b[0mcursor\u001b[0m\u001b[0;34m,\u001b[0m \u001b[0mquery\u001b[0m\u001b[0;34m,\u001b[0m \u001b[0margs\u001b[0m\u001b[0;34m,\u001b[0m \u001b[0msuppress_warnings\u001b[0m\u001b[0;34m)\u001b[0m\u001b[0;34m\u001b[0m\u001b[0;34m\u001b[0m\u001b[0m\n",
      "\u001b[0m\u001b[0;32m    338 \u001b[0;31m        \u001b[0;32mexcept\u001b[0m \u001b[0merrors\u001b[0m\u001b[0;34m.\u001b[0m\u001b[0mLostConnectionError\u001b[0m\u001b[0;34m:\u001b[0m\u001b[0;34m\u001b[0m\u001b[0;34m\u001b[0m\u001b[0m\n",
      "\u001b[0m\u001b[0;32m    339 \u001b[0;31m            \u001b[0;32mif\u001b[0m \u001b[0;32mnot\u001b[0m \u001b[0mreconnect\u001b[0m\u001b[0;34m:\u001b[0m\u001b[0;34m\u001b[0m\u001b[0;34m\u001b[0m\u001b[0m\n",
      "\u001b[0m\n"
     ]
    },
    {
     "name": "stdin",
     "output_type": "stream",
     "text": [
      "ipdb>  \n"
     ]
    },
    {
     "name": "stdout",
     "output_type": "stream",
     "text": [
      "> \u001b[0;32m/Users/cb/miniconda3/envs/ele/lib/python3.8/site-packages/datajoint/connection.py\u001b[0m(294)\u001b[0;36m_execute_query\u001b[0;34m()\u001b[0m\n",
      "\u001b[0;32m    292 \u001b[0;31m                \u001b[0mcursor\u001b[0m\u001b[0;34m.\u001b[0m\u001b[0mexecute\u001b[0m\u001b[0;34m(\u001b[0m\u001b[0mquery\u001b[0m\u001b[0;34m,\u001b[0m \u001b[0margs\u001b[0m\u001b[0;34m)\u001b[0m\u001b[0;34m\u001b[0m\u001b[0;34m\u001b[0m\u001b[0m\n",
      "\u001b[0m\u001b[0;32m    293 \u001b[0;31m        \u001b[0;32mexcept\u001b[0m \u001b[0mclient\u001b[0m\u001b[0;34m.\u001b[0m\u001b[0merr\u001b[0m\u001b[0;34m.\u001b[0m\u001b[0mError\u001b[0m \u001b[0;32mas\u001b[0m \u001b[0merr\u001b[0m\u001b[0;34m:\u001b[0m\u001b[0;34m\u001b[0m\u001b[0;34m\u001b[0m\u001b[0m\n",
      "\u001b[0m\u001b[0;32m--> 294 \u001b[0;31m            \u001b[0;32mraise\u001b[0m \u001b[0mtranslate_query_error\u001b[0m\u001b[0;34m(\u001b[0m\u001b[0merr\u001b[0m\u001b[0;34m,\u001b[0m \u001b[0mquery\u001b[0m\u001b[0;34m)\u001b[0m\u001b[0;34m\u001b[0m\u001b[0;34m\u001b[0m\u001b[0m\n",
      "\u001b[0m\u001b[0;32m    295 \u001b[0;31m\u001b[0;34m\u001b[0m\u001b[0m\n",
      "\u001b[0m\u001b[0;32m    296 \u001b[0;31m    def query(\n",
      "\u001b[0m\n"
     ]
    },
    {
     "name": "stdin",
     "output_type": "stream",
     "text": [
      "ipdb>  \n"
     ]
    },
    {
     "name": "stdout",
     "output_type": "stream",
     "text": [
      "*** Newest frame\n"
     ]
    },
    {
     "name": "stdin",
     "output_type": "stream",
     "text": [
      "ipdb>  u\n"
     ]
    },
    {
     "name": "stdout",
     "output_type": "stream",
     "text": [
      "> \u001b[0;32m/Users/cb/miniconda3/envs/ele/lib/python3.8/site-packages/datajoint/connection.py\u001b[0m(337)\u001b[0;36mquery\u001b[0;34m()\u001b[0m\n",
      "\u001b[0;32m    335 \u001b[0;31m        \u001b[0mcursor\u001b[0m \u001b[0;34m=\u001b[0m \u001b[0mself\u001b[0m\u001b[0;34m.\u001b[0m\u001b[0m_conn\u001b[0m\u001b[0;34m.\u001b[0m\u001b[0mcursor\u001b[0m\u001b[0;34m(\u001b[0m\u001b[0mcursor\u001b[0m\u001b[0;34m=\u001b[0m\u001b[0mcursor_class\u001b[0m\u001b[0;34m)\u001b[0m\u001b[0;34m\u001b[0m\u001b[0;34m\u001b[0m\u001b[0m\n",
      "\u001b[0m\u001b[0;32m    336 \u001b[0;31m        \u001b[0;32mtry\u001b[0m\u001b[0;34m:\u001b[0m\u001b[0;34m\u001b[0m\u001b[0;34m\u001b[0m\u001b[0m\n",
      "\u001b[0m\u001b[0;32m--> 337 \u001b[0;31m            \u001b[0mself\u001b[0m\u001b[0;34m.\u001b[0m\u001b[0m_execute_query\u001b[0m\u001b[0;34m(\u001b[0m\u001b[0mcursor\u001b[0m\u001b[0;34m,\u001b[0m \u001b[0mquery\u001b[0m\u001b[0;34m,\u001b[0m \u001b[0margs\u001b[0m\u001b[0;34m,\u001b[0m \u001b[0msuppress_warnings\u001b[0m\u001b[0;34m)\u001b[0m\u001b[0;34m\u001b[0m\u001b[0;34m\u001b[0m\u001b[0m\n",
      "\u001b[0m\u001b[0;32m    338 \u001b[0;31m        \u001b[0;32mexcept\u001b[0m \u001b[0merrors\u001b[0m\u001b[0;34m.\u001b[0m\u001b[0mLostConnectionError\u001b[0m\u001b[0;34m:\u001b[0m\u001b[0;34m\u001b[0m\u001b[0;34m\u001b[0m\u001b[0m\n",
      "\u001b[0m\u001b[0;32m    339 \u001b[0;31m            \u001b[0;32mif\u001b[0m \u001b[0;32mnot\u001b[0m \u001b[0mreconnect\u001b[0m\u001b[0;34m:\u001b[0m\u001b[0;34m\u001b[0m\u001b[0;34m\u001b[0m\u001b[0m\n",
      "\u001b[0m\n"
     ]
    },
    {
     "name": "stdin",
     "output_type": "stream",
     "text": [
      "ipdb>  \n"
     ]
    },
    {
     "name": "stdout",
     "output_type": "stream",
     "text": [
      "> \u001b[0;32m/Users/cb/miniconda3/envs/ele/lib/python3.8/site-packages/datajoint/table.py\u001b[0m(418)\u001b[0;36minsert\u001b[0;34m()\u001b[0m\n",
      "\u001b[0;32m    416 \u001b[0;31m                    ),\n",
      "\u001b[0m\u001b[0;32m    417 \u001b[0;31m                )\n",
      "\u001b[0m\u001b[0;32m--> 418 \u001b[0;31m                self.connection.query(\n",
      "\u001b[0m\u001b[0;32m    419 \u001b[0;31m                    \u001b[0mquery\u001b[0m\u001b[0;34m,\u001b[0m\u001b[0;34m\u001b[0m\u001b[0;34m\u001b[0m\u001b[0m\n",
      "\u001b[0m\u001b[0;32m    420 \u001b[0;31m                    args=list(\n",
      "\u001b[0m\n"
     ]
    },
    {
     "name": "stdin",
     "output_type": "stream",
     "text": [
      "ipdb>  \n"
     ]
    },
    {
     "name": "stdout",
     "output_type": "stream",
     "text": [
      "> \u001b[0;32m/Users/cb/miniconda3/envs/ele/lib/python3.8/site-packages/datajoint/table.py\u001b[0m(325)\u001b[0;36minsert1\u001b[0;34m()\u001b[0m\n",
      "\u001b[0;32m    323 \u001b[0;31m        \u001b[0;32mas\u001b[0m \u001b[0mone\u001b[0m \u001b[0mrow\u001b[0m\u001b[0;34m.\u001b[0m\u001b[0;34m\u001b[0m\u001b[0;34m\u001b[0m\u001b[0m\n",
      "\u001b[0m\u001b[0;32m    324 \u001b[0;31m        \"\"\"\n",
      "\u001b[0m\u001b[0;32m--> 325 \u001b[0;31m        \u001b[0mself\u001b[0m\u001b[0;34m.\u001b[0m\u001b[0minsert\u001b[0m\u001b[0;34m(\u001b[0m\u001b[0;34m(\u001b[0m\u001b[0mrow\u001b[0m\u001b[0;34m,\u001b[0m\u001b[0;34m)\u001b[0m\u001b[0;34m,\u001b[0m \u001b[0;34m**\u001b[0m\u001b[0mkwargs\u001b[0m\u001b[0;34m)\u001b[0m\u001b[0;34m\u001b[0m\u001b[0;34m\u001b[0m\u001b[0m\n",
      "\u001b[0m\u001b[0;32m    326 \u001b[0;31m\u001b[0;34m\u001b[0m\u001b[0m\n",
      "\u001b[0m\u001b[0;32m    327 \u001b[0;31m    def insert(\n",
      "\u001b[0m\n"
     ]
    },
    {
     "name": "stdin",
     "output_type": "stream",
     "text": [
      "ipdb>  \n"
     ]
    },
    {
     "name": "stdout",
     "output_type": "stream",
     "text": [
      "> \u001b[0;32m/var/folders/_9/tzvq__ws5z9gv5s7jvkj570r0000gn/T/ipykernel_85042/2083672964.py\u001b[0m(1)\u001b[0;36m<module>\u001b[0;34m()\u001b[0m\n",
      "\u001b[0;32m----> 1 \u001b[0;31mminiscope.Curation.insert1(dict(**recording_key,\n",
      "\u001b[0m\u001b[0;32m      2 \u001b[0;31m                              \u001b[0mparamset_id\u001b[0m\u001b[0;34m=\u001b[0m\u001b[0;36m0\u001b[0m\u001b[0;34m,\u001b[0m\u001b[0;34m\u001b[0m\u001b[0;34m\u001b[0m\u001b[0m\n",
      "\u001b[0m\u001b[0;32m      3 \u001b[0;31m                              \u001b[0mcuration_id\u001b[0m\u001b[0;34m=\u001b[0m\u001b[0;36m0\u001b[0m\u001b[0;34m,\u001b[0m\u001b[0;34m\u001b[0m\u001b[0;34m\u001b[0m\u001b[0m\n",
      "\u001b[0m\u001b[0;32m      4 \u001b[0;31m                              \u001b[0mcuration_time\u001b[0m\u001b[0;34m=\u001b[0m\u001b[0;34m'2022-04-30 12:22:15'\u001b[0m\u001b[0;34m,\u001b[0m\u001b[0;34m\u001b[0m\u001b[0;34m\u001b[0m\u001b[0m\n",
      "\u001b[0m\u001b[0;32m      5 \u001b[0;31m                              \u001b[0mcuration_output_dir\u001b[0m\u001b[0;34m=\u001b[0m\u001b[0;34m'subject1/session1/caiman'\u001b[0m\u001b[0;34m,\u001b[0m\u001b[0;34m\u001b[0m\u001b[0;34m\u001b[0m\u001b[0m\n",
      "\u001b[0m\n"
     ]
    },
    {
     "name": "stdin",
     "output_type": "stream",
     "text": [
      "ipdb>  \n"
     ]
    },
    {
     "name": "stdout",
     "output_type": "stream",
     "text": [
      "*** Oldest frame\n"
     ]
    },
    {
     "name": "stdin",
     "output_type": "stream",
     "text": [
      "ipdb>  quit\n"
     ]
    }
   ],
   "source": [
    "%debug"
   ]
  },
  {
   "cell_type": "markdown",
   "metadata": {},
   "source": [
    "## Insert new Curation following the ProcessingTask\n",
    "\n",
    "+ The next step in the pipeline is the curation of motion correction and segmentation results.\n",
    "\n",
    "+ If a manual curation was implemented, an entry needs to be manually inserted into the table `miniscope.Curation`, which specifies the directory to the curated results in `curation_output_dir`. \n",
    "\n",
    "+ If we would like to use the processed outcome directly, an entry is also needed in `miniscope.Curation`. A method `create1_from_processing_task` was provided to help this insertion. It copies the `processing_output_dir` in `miniscope.ProcessingTask` to the field `curation_output_dir` in the table `miniscope.Curation` with a new `curation_id`.\n",
    "\n",
    "    + In this example, we create/insert one `miniscope.Curation` for each `miniscope.ProcessingTask`, specifying the same output directory.\n",
    "\n",
    "    + To this end, we could also make use of a convenient function `miniscope.Curation().create1_from_processing_task()`"
   ]
  },
  {
   "cell_type": "code",
   "execution_count": 52,
   "metadata": {},
   "outputs": [],
   "source": [
    "miniscope.Curation.insert1(dict(**recording_key,\n",
    "                              paramset_id=0,\n",
    "                              curation_id=0,\n",
    "                              curation_time='2022-04-30 12:22:15', \n",
    "                              curation_output_dir='subject1/session1/caiman',\n",
    "                              manual_curation=False,\n",
    "                              curation_note=''))"
   ]
  },
  {
   "cell_type": "markdown",
   "metadata": {},
   "source": [
    "## Populate `miniscope.MotionCorrection`\n",
    "\n",
    "+ This table contains the rigid or non-rigid motion correction data including the shifts and summary images.\n"
   ]
  },
  {
   "cell_type": "code",
   "execution_count": 53,
   "metadata": {},
   "outputs": [
    {
     "name": "stderr",
     "output_type": "stream",
     "text": [
      "MotionCorrection:   0%|                                                                  | 0/1 [00:01<?, ?it/s]\n"
     ]
    },
    {
     "ename": "AttributeError",
     "evalue": "'bytes' object has no attribute 'items'",
     "output_type": "error",
     "traceback": [
      "\u001b[0;31m---------------------------------------------------------------------------\u001b[0m",
      "\u001b[0;31mAttributeError\u001b[0m                            Traceback (most recent call last)",
      "\u001b[0;32m/var/folders/_9/tzvq__ws5z9gv5s7jvkj570r0000gn/T/ipykernel_85042/3593737309.py\u001b[0m in \u001b[0;36m<module>\u001b[0;34m\u001b[0m\n\u001b[0;32m----> 1\u001b[0;31m \u001b[0mminiscope\u001b[0m\u001b[0;34m.\u001b[0m\u001b[0mMotionCorrection\u001b[0m\u001b[0;34m.\u001b[0m\u001b[0mpopulate\u001b[0m\u001b[0;34m(\u001b[0m\u001b[0;34m**\u001b[0m\u001b[0mpopulate_settings\u001b[0m\u001b[0;34m)\u001b[0m\u001b[0;34m\u001b[0m\u001b[0;34m\u001b[0m\u001b[0m\n\u001b[0m",
      "\u001b[0;32m~/miniconda3/envs/ele/lib/python3.8/site-packages/datajoint/autopopulate.py\u001b[0m in \u001b[0;36mpopulate\u001b[0;34m(self, suppress_errors, return_exception_objects, reserve_jobs, order, limit, max_calls, display_progress, processes, make_kwargs, *restrictions)\u001b[0m\n\u001b[1;32m    227\u001b[0m                 \u001b[0mtqdm\u001b[0m\u001b[0;34m(\u001b[0m\u001b[0mkeys\u001b[0m\u001b[0;34m,\u001b[0m \u001b[0mdesc\u001b[0m\u001b[0;34m=\u001b[0m\u001b[0mself\u001b[0m\u001b[0;34m.\u001b[0m\u001b[0m__class__\u001b[0m\u001b[0;34m.\u001b[0m\u001b[0m__name__\u001b[0m\u001b[0;34m)\u001b[0m \u001b[0;32mif\u001b[0m \u001b[0mdisplay_progress\u001b[0m \u001b[0;32melse\u001b[0m \u001b[0mkeys\u001b[0m\u001b[0;34m\u001b[0m\u001b[0;34m\u001b[0m\u001b[0m\n\u001b[1;32m    228\u001b[0m             ):\n\u001b[0;32m--> 229\u001b[0;31m                 \u001b[0merror\u001b[0m \u001b[0;34m=\u001b[0m \u001b[0mself\u001b[0m\u001b[0;34m.\u001b[0m\u001b[0m_populate1\u001b[0m\u001b[0;34m(\u001b[0m\u001b[0mkey\u001b[0m\u001b[0;34m,\u001b[0m \u001b[0mjobs\u001b[0m\u001b[0;34m,\u001b[0m \u001b[0;34m**\u001b[0m\u001b[0mpopulate_kwargs\u001b[0m\u001b[0;34m)\u001b[0m\u001b[0;34m\u001b[0m\u001b[0;34m\u001b[0m\u001b[0m\n\u001b[0m\u001b[1;32m    230\u001b[0m                 \u001b[0;32mif\u001b[0m \u001b[0merror\u001b[0m \u001b[0;32mis\u001b[0m \u001b[0;32mnot\u001b[0m \u001b[0;32mNone\u001b[0m\u001b[0;34m:\u001b[0m\u001b[0;34m\u001b[0m\u001b[0;34m\u001b[0m\u001b[0m\n\u001b[1;32m    231\u001b[0m                     \u001b[0merror_list\u001b[0m\u001b[0;34m.\u001b[0m\u001b[0mappend\u001b[0m\u001b[0;34m(\u001b[0m\u001b[0merror\u001b[0m\u001b[0;34m)\u001b[0m\u001b[0;34m\u001b[0m\u001b[0;34m\u001b[0m\u001b[0m\n",
      "\u001b[0;32m~/miniconda3/envs/ele/lib/python3.8/site-packages/datajoint/autopopulate.py\u001b[0m in \u001b[0;36m_populate1\u001b[0;34m(self, key, jobs, suppress_errors, return_exception_objects, make_kwargs)\u001b[0m\n\u001b[1;32m    279\u001b[0m                 \u001b[0mself\u001b[0m\u001b[0;34m.\u001b[0m\u001b[0m__class__\u001b[0m\u001b[0;34m.\u001b[0m\u001b[0m_allow_insert\u001b[0m \u001b[0;34m=\u001b[0m \u001b[0;32mTrue\u001b[0m\u001b[0;34m\u001b[0m\u001b[0;34m\u001b[0m\u001b[0m\n\u001b[1;32m    280\u001b[0m                 \u001b[0;32mtry\u001b[0m\u001b[0;34m:\u001b[0m\u001b[0;34m\u001b[0m\u001b[0;34m\u001b[0m\u001b[0m\n\u001b[0;32m--> 281\u001b[0;31m                     \u001b[0mmake\u001b[0m\u001b[0;34m(\u001b[0m\u001b[0mdict\u001b[0m\u001b[0;34m(\u001b[0m\u001b[0mkey\u001b[0m\u001b[0;34m)\u001b[0m\u001b[0;34m,\u001b[0m \u001b[0;34m**\u001b[0m\u001b[0;34m(\u001b[0m\u001b[0mmake_kwargs\u001b[0m \u001b[0;32mor\u001b[0m \u001b[0;34m{\u001b[0m\u001b[0;34m}\u001b[0m\u001b[0;34m)\u001b[0m\u001b[0;34m)\u001b[0m\u001b[0;34m\u001b[0m\u001b[0;34m\u001b[0m\u001b[0m\n\u001b[0m\u001b[1;32m    282\u001b[0m                 \u001b[0;32mexcept\u001b[0m \u001b[0;34m(\u001b[0m\u001b[0mKeyboardInterrupt\u001b[0m\u001b[0;34m,\u001b[0m \u001b[0mSystemExit\u001b[0m\u001b[0;34m,\u001b[0m \u001b[0mException\u001b[0m\u001b[0;34m)\u001b[0m \u001b[0;32mas\u001b[0m \u001b[0merror\u001b[0m\u001b[0;34m:\u001b[0m\u001b[0;34m\u001b[0m\u001b[0;34m\u001b[0m\u001b[0m\n\u001b[1;32m    283\u001b[0m                     \u001b[0;32mtry\u001b[0m\u001b[0;34m:\u001b[0m\u001b[0;34m\u001b[0m\u001b[0;34m\u001b[0m\u001b[0m\n",
      "\u001b[0;32m~/Documents/dev/element-miniscope/element_miniscope/miniscope.py\u001b[0m in \u001b[0;36mmake\u001b[0;34m(self, key)\u001b[0m\n\u001b[1;32m    592\u001b[0m \u001b[0;34m\u001b[0m\u001b[0m\n\u001b[1;32m    593\u001b[0m     \u001b[0;32mdef\u001b[0m \u001b[0mmake\u001b[0m\u001b[0;34m(\u001b[0m\u001b[0mself\u001b[0m\u001b[0;34m,\u001b[0m \u001b[0mkey\u001b[0m\u001b[0;34m)\u001b[0m\u001b[0;34m:\u001b[0m\u001b[0;34m\u001b[0m\u001b[0;34m\u001b[0m\u001b[0m\n\u001b[0;32m--> 594\u001b[0;31m         \u001b[0mmethod\u001b[0m\u001b[0;34m,\u001b[0m \u001b[0mloaded_result\u001b[0m \u001b[0;34m=\u001b[0m \u001b[0mget_loader_result\u001b[0m\u001b[0;34m(\u001b[0m\u001b[0mkey\u001b[0m\u001b[0;34m,\u001b[0m \u001b[0mProcessingTask\u001b[0m\u001b[0;34m)\u001b[0m\u001b[0;34m\u001b[0m\u001b[0;34m\u001b[0m\u001b[0m\n\u001b[0m\u001b[1;32m    595\u001b[0m \u001b[0;34m\u001b[0m\u001b[0m\n\u001b[1;32m    596\u001b[0m         \u001b[0;32mif\u001b[0m \u001b[0mmethod\u001b[0m \u001b[0;34m==\u001b[0m \u001b[0;34m\"caiman\"\u001b[0m\u001b[0;34m:\u001b[0m\u001b[0;34m\u001b[0m\u001b[0;34m\u001b[0m\u001b[0m\n",
      "\u001b[0;32m~/Documents/dev/element-miniscope/element_miniscope/miniscope.py\u001b[0m in \u001b[0;36mget_loader_result\u001b[0;34m(key, table)\u001b[0m\n\u001b[1;32m    963\u001b[0m         \u001b[0;32mfrom\u001b[0m \u001b[0melement_interface\u001b[0m \u001b[0;32mimport\u001b[0m \u001b[0mcaiman_loader\u001b[0m\u001b[0;34m\u001b[0m\u001b[0;34m\u001b[0m\u001b[0m\n\u001b[1;32m    964\u001b[0m \u001b[0;34m\u001b[0m\u001b[0m\n\u001b[0;32m--> 965\u001b[0;31m         \u001b[0mloaded_output\u001b[0m \u001b[0;34m=\u001b[0m \u001b[0mcaiman_loader\u001b[0m\u001b[0;34m.\u001b[0m\u001b[0mCaImAn\u001b[0m\u001b[0;34m(\u001b[0m\u001b[0moutput_dir\u001b[0m\u001b[0;34m)\u001b[0m\u001b[0;34m\u001b[0m\u001b[0;34m\u001b[0m\u001b[0m\n\u001b[0m\u001b[1;32m    966\u001b[0m     \u001b[0;32melse\u001b[0m\u001b[0;34m:\u001b[0m\u001b[0;34m\u001b[0m\u001b[0;34m\u001b[0m\u001b[0m\n\u001b[1;32m    967\u001b[0m         \u001b[0;32mraise\u001b[0m \u001b[0mNotImplementedError\u001b[0m\u001b[0;34m(\u001b[0m\u001b[0;34m\"Unknown/unimplemented method: {}\"\u001b[0m\u001b[0;34m.\u001b[0m\u001b[0mformat\u001b[0m\u001b[0;34m(\u001b[0m\u001b[0mmethod\u001b[0m\u001b[0;34m)\u001b[0m\u001b[0;34m)\u001b[0m\u001b[0;34m\u001b[0m\u001b[0;34m\u001b[0m\u001b[0m\n",
      "\u001b[0;32m~/miniconda3/envs/ele/lib/python3.8/site-packages/element_interface/caiman_loader.py\u001b[0m in \u001b[0;36m__init__\u001b[0;34m(self, caiman_dir)\u001b[0m\n\u001b[1;32m     48\u001b[0m \u001b[0;34m\u001b[0m\u001b[0m\n\u001b[1;32m     49\u001b[0m         \u001b[0;31m# ---- Initialize CaImAn's results ----\u001b[0m\u001b[0;34m\u001b[0m\u001b[0;34m\u001b[0m\u001b[0;34m\u001b[0m\u001b[0m\n\u001b[0;32m---> 50\u001b[0;31m         \u001b[0mself\u001b[0m\u001b[0;34m.\u001b[0m\u001b[0mcnmf\u001b[0m \u001b[0;34m=\u001b[0m \u001b[0mcm\u001b[0m\u001b[0;34m.\u001b[0m\u001b[0msource_extraction\u001b[0m\u001b[0;34m.\u001b[0m\u001b[0mcnmf\u001b[0m\u001b[0;34m.\u001b[0m\u001b[0mcnmf\u001b[0m\u001b[0;34m.\u001b[0m\u001b[0mload_CNMF\u001b[0m\u001b[0;34m(\u001b[0m\u001b[0mself\u001b[0m\u001b[0;34m.\u001b[0m\u001b[0mcaiman_fp\u001b[0m\u001b[0;34m)\u001b[0m\u001b[0;34m\u001b[0m\u001b[0;34m\u001b[0m\u001b[0m\n\u001b[0m\u001b[1;32m     51\u001b[0m         \u001b[0mself\u001b[0m\u001b[0;34m.\u001b[0m\u001b[0mparams\u001b[0m \u001b[0;34m=\u001b[0m \u001b[0mself\u001b[0m\u001b[0;34m.\u001b[0m\u001b[0mcnmf\u001b[0m\u001b[0;34m.\u001b[0m\u001b[0mparams\u001b[0m\u001b[0;34m\u001b[0m\u001b[0;34m\u001b[0m\u001b[0m\n\u001b[1;32m     52\u001b[0m \u001b[0;34m\u001b[0m\u001b[0m\n",
      "\u001b[0;32m~/miniconda3/envs/ele/lib/python3.8/site-packages/caiman/source_extraction/cnmf/cnmf.py\u001b[0m in \u001b[0;36mload_CNMF\u001b[0;34m(filename, n_processes, dview)\u001b[0m\n\u001b[1;32m   1020\u001b[0m                         \u001b[0;32mif\u001b[0m \u001b[0mvv\u001b[0m \u001b[0;34m!=\u001b[0m \u001b[0;34mb'NoneType'\u001b[0m\u001b[0;34m:\u001b[0m\u001b[0;34m\u001b[0m\u001b[0;34m\u001b[0m\u001b[0m\n\u001b[1;32m   1021\u001b[0m                             \u001b[0;32mif\u001b[0m \u001b[0mvv\u001b[0m \u001b[0;32mis\u001b[0m \u001b[0;32mnot\u001b[0m \u001b[0;32mNone\u001b[0m\u001b[0;34m:\u001b[0m\u001b[0;34m\u001b[0m\u001b[0;34m\u001b[0m\u001b[0m\n\u001b[0;32m-> 1022\u001b[0;31m                                 \u001b[0mdiscarded_components\u001b[0m \u001b[0;34m=\u001b[0m \u001b[0mEstimates\u001b[0m\u001b[0;34m(\u001b[0m\u001b[0;34m)\u001b[0m\u001b[0;34m\u001b[0m\u001b[0;34m\u001b[0m\u001b[0m\n\u001b[0m\u001b[1;32m   1023\u001b[0m                                 \u001b[0;32mfor\u001b[0m \u001b[0mkk__\u001b[0m\u001b[0;34m,\u001b[0m \u001b[0mvv__\u001b[0m \u001b[0;32min\u001b[0m \u001b[0mvv\u001b[0m\u001b[0;34m.\u001b[0m\u001b[0mitems\u001b[0m\u001b[0;34m(\u001b[0m\u001b[0;34m)\u001b[0m\u001b[0;34m:\u001b[0m\u001b[0;34m\u001b[0m\u001b[0;34m\u001b[0m\u001b[0m\n\u001b[1;32m   1024\u001b[0m                                     \u001b[0msetattr\u001b[0m\u001b[0;34m(\u001b[0m\u001b[0mdiscarded_components\u001b[0m\u001b[0;34m,\u001b[0m \u001b[0mkk__\u001b[0m\u001b[0;34m,\u001b[0m \u001b[0mvv__\u001b[0m\u001b[0;34m)\u001b[0m\u001b[0;34m\u001b[0m\u001b[0;34m\u001b[0m\u001b[0m\n",
      "\u001b[0;31mAttributeError\u001b[0m: 'bytes' object has no attribute 'items'"
     ]
    }
   ],
   "source": [
    "miniscope.MotionCorrection.populate(**populate_settings)"
   ]
  },
  {
   "cell_type": "markdown",
   "metadata": {},
   "source": [
    "## Populate `miniscope.Segmentation`\n",
    "\n",
    "+ This table contains the mask coordinates, weights, and centers.\n",
    "+ This table also inserts the data into `MaskClassification`, which is the classification of the segmented masks and the confidence of classification."
   ]
  },
  {
   "cell_type": "code",
   "execution_count": 44,
   "metadata": {},
   "outputs": [
    {
     "name": "stderr",
     "output_type": "stream",
     "text": [
      "Segmentation: 0it [00:00, ?it/s]\n"
     ]
    }
   ],
   "source": [
    "miniscope.Segmentation.populate(**populate_settings)"
   ]
  },
  {
   "cell_type": "markdown",
   "metadata": {},
   "source": [
    "## Add another set of results from a new round of curation\n",
    "\n",
    "If you performed curation on an existing processed results (i.e. motion correction or segmentation) then:\n",
    "    \n",
    "+ Add an entry into `miniscope.Curation` with the directory of the curated results and a new `curation_id`.\n",
    "\n",
    "+ Populate the `miniscope.MotionCorrection` and `miniscope.Segmentation` tables again."
   ]
  },
  {
   "cell_type": "markdown",
   "metadata": {},
   "source": [
    "## Populate `miniscope.Fluorescence`\n",
    "\n",
    "+ This table contains the fluorescence traces prior to filtering and spike extraction."
   ]
  },
  {
   "cell_type": "code",
   "execution_count": 45,
   "metadata": {},
   "outputs": [
    {
     "name": "stderr",
     "output_type": "stream",
     "text": [
      "Fluorescence: 0it [00:00, ?it/s]\n"
     ]
    }
   ],
   "source": [
    "miniscope.Fluorescence.populate(**populate_settings)"
   ]
  },
  {
   "cell_type": "markdown",
   "metadata": {},
   "source": [
    "## Populate `miniscope.Activity`\n",
    "+ This table contains the inferred neural activity from the fluorescence traces."
   ]
  },
  {
   "cell_type": "code",
   "execution_count": 46,
   "metadata": {},
   "outputs": [
    {
     "name": "stderr",
     "output_type": "stream",
     "text": [
      "Activity: 0it [00:00, ?it/s]\n"
     ]
    }
   ],
   "source": [
    "miniscope.Activity.populate(**populate_settings)"
   ]
  },
  {
   "cell_type": "markdown",
   "metadata": {},
   "source": [
    "## Next steps\n",
    "\n",
    "+ Proceed to the [05-explore](05-explore.ipynb) to learn how to  query, fetch, and visualize the imaging data."
   ]
  }
 ],
 "metadata": {
  "interpreter": {
   "hash": "d4d1e4263499bec80672ea0156c357c1ee493ec2b1c70f0acce89fc37c4a6abe"
  },
  "jupytext": {
   "formats": "ipynb,py_scripts//py"
  },
  "kernelspec": {
   "display_name": "Python 3 (ipykernel)",
   "language": "python",
   "name": "python3"
  },
  "language_info": {
   "codemirror_mode": {
    "name": "ipython",
    "version": 3
   },
   "file_extension": ".py",
   "mimetype": "text/x-python",
   "name": "python",
   "nbconvert_exporter": "python",
   "pygments_lexer": "ipython3",
   "version": "3.8.11"
  }
 },
 "nbformat": 4,
 "nbformat_minor": 4
}
