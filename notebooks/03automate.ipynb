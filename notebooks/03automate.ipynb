{
 "cells": [
  {
   "cell_type": "markdown",
   "metadata": {},
   "source": [
    "or with the `ingest` method and accompanying `csv` files."
   ]
  },
  {
   "cell_type": "markdown",
   "metadata": {},
   "source": [
    "# Automated workflow\n",
    "### Method for inserting entries\n",
    "\n",
    "Modify `user_data/subjects.csv` and `user_data/sessions.csv`, and run the following commands"
   ]
  },
  {
   "cell_type": "code",
   "execution_count": null,
   "metadata": {},
   "outputs": [],
   "source": [
    "from workflow_miniscope.ingest import ingest_subjects, ingest_sessions\n",
    "ingest_subjects()\n",
    "ingest_sessions()"
   ]
  },
  {
   "cell_type": "code",
   "execution_count": null,
   "metadata": {},
   "outputs": [],
   "source": [
    "import pathlib\n",
    "from workflow_miniscope.paths import get_imaging_root_data_dir\n",
    "\n",
    "root_dir = pathlib.Path(get_imaging_root_data_dir())\n",
    "\n",
    "for scan_key in (scan.Scan & scan.ScanInfo - imaging.ProcessingTask).fetch('KEY'):\n",
    "    scan_file = root_dir / (scan.ScanInfo.ScanFile & scan_key).fetch('file_path')[0]\n",
    "    recording_dir = scan_file.parent\n",
    "\n",
    "    miniscope_analysis_dir = recording_dir / 'miniscope_analysis'\n",
    "    if miniscope_analysis_dir.exists():\n",
    "        imaging.ProcessingTask.insert1({**scan_key,\n",
    "                                        'paramset_idx': 0,\n",
    "                                        'processing_output_dir': miniscope_analysis_dir.as_posix()})"
   ]
  },
  {
   "cell_type": "code",
   "execution_count": null,
   "metadata": {},
   "outputs": [],
   "source": []
  },
  {
   "cell_type": "markdown",
   "metadata": {},
   "source": [
    "+ To this end, we make use of a convenient function `imaging.Curation().create1_from_processing_task()`"
   ]
  },
  {
   "cell_type": "code",
   "execution_count": null,
   "metadata": {},
   "outputs": [],
   "source": [
    "for key in (imaging.ProcessingTask - imaging.Curation).fetch('KEY'):\n",
    "    imaging.Curation().create1_from_processing_task(key)"
   ]
  },
  {
   "cell_type": "markdown",
   "metadata": {},
   "source": [
    "### Method for populating tables"
   ]
  },
  {
   "cell_type": "code",
   "execution_count": null,
   "metadata": {},
   "outputs": [],
   "source": [
    "from workflow_miniscope.populate import populate\n",
    "populate(display_progress=False)"
   ]
  }
 ],
 "metadata": {
  "jupytext": {
   "formats": "ipynb,py"
  },
  "language_info": {
   "codemirror_mode": {
    "name": "ipython",
    "version": 3
   },
   "file_extension": ".py",
   "mimetype": "text/x-python",
   "name": "python",
   "nbconvert_exporter": "python",
   "pygments_lexer": "ipython3",
   "version": 3
  }
 },
 "nbformat": 4,
 "nbformat_minor": 2
}
