{
 "cells": [
  {
   "attachments": {},
   "cell_type": "markdown",
   "metadata": {
    "tags": []
   },
   "source": [
    "# DataJoint U24 - Workflow Miniscope\n"
   ]
  },
  {
   "attachments": {},
   "cell_type": "markdown",
   "metadata": {
    "pycharm": {
     "name": "#%% md\n"
    }
   },
   "source": [
    "## Workflow Automation\n",
    "\n",
    "In the previous notebook [03-Process](./03-Process.ipynb), we ran through the workflow in detailed steps, manually adding each. The current notebook provides a more automated approach.\n",
    "\n",
    "The commands here run a workflow using example data from the [00-DownloadData](./00-DataDownload_Optional.ipynb) notebook, but note where placeholders could be changed for a different dataset.\n"
   ]
  },
  {
   "cell_type": "code",
   "execution_count": 1,
   "metadata": {
    "tags": []
   },
   "outputs": [
    {
     "name": "stderr",
     "output_type": "stream",
     "text": [
      "[2023-01-05 14:40:41,466][WARNING]: lab.Project and related tables will be removed in a future version of Element Lab. Please use the project schema.\n",
      "[2023-01-05 14:40:41,529][INFO]: Connecting cbroz@dss-db.datajoint.io:3306\n",
      "[2023-01-05 14:40:41,893][INFO]: Connected cbroz@dss-db.datajoint.io:3306\n"
     ]
    }
   ],
   "source": [
    "import os\n",
    "from pathlib import Path\n",
    "\n",
    "# change to the upper level folder to detect dj_local_conf.json\n",
    "if os.path.basename(os.getcwd()) == \"notebooks\":\n",
    "    os.chdir(\"..\")\n",
    "from workflow_miniscope.pipeline import session, miniscope\n",
    "from workflow_miniscope import process"
   ]
  },
  {
   "attachments": {},
   "cell_type": "markdown",
   "metadata": {},
   "source": [
    "We'll be using the `process.py`'s `run` function automatically loop through all `make` functions, as a shortcut for calling each individually.\n",
    "\n",
    "If you previously completed the [03-Process notebook](./03-Process.ipynb), you may want to delete the contents ingested there, to avoid duplication errors.\n"
   ]
  },
  {
   "cell_type": "code",
   "execution_count": 3,
   "metadata": {},
   "outputs": [
    {
     "name": "stderr",
     "output_type": "stream",
     "text": [
      "[2023-01-05 14:42:32,975][INFO]: Deleting 0 rows from `u24_mini_session`.`session`\n",
      "[2023-01-05 14:42:33,378][INFO]: Deleting 0 rows from `u24_mini_miniscope`.`_recording_info`\n",
      "[2023-01-05 14:42:33,783][INFO]: Deleting 0 rows from `u24_mini_miniscope`.`__processing`\n",
      "[2023-01-05 14:42:34,184][INFO]: Deleting 0 rows from `u24_mini_miniscope`.`_motion_correction`\n",
      "[2023-01-05 14:42:34,586][INFO]: Deleting 0 rows from `u24_mini_miniscope`.`__segmentation`\n",
      "[2023-01-05 14:42:34,988][INFO]: Deleting 0 rows from `u24_mini_miniscope`.`__fluorescence`\n",
      "[2023-01-05 14:42:35,396][INFO]: Deleting 0 rows from `u24_mini_miniscope`.`__activity`\n"
     ]
    }
   ],
   "source": [
    "safemode = True  # Set to false to turn off confirmation prompts\n",
    "(session.Session & 'subject=\"subject1\"').delete(safemode=safemode)\n",
    "table_list = [\n",
    "    miniscope.RecordingInfo,\n",
    "    miniscope.Processing,\n",
    "    miniscope.MotionCorrection,\n",
    "    miniscope.Segmentation,\n",
    "    miniscope.Fluorescence,\n",
    "    miniscope.Activity,\n",
    "]\n",
    "for table in table_list:\n",
    "    table.delete(safemode=safemode)"
   ]
  },
  {
   "attachments": {},
   "cell_type": "markdown",
   "metadata": {},
   "source": [
    "## Ingestion of subjects, sessions\n",
    "\n",
    "Refer to the `user_data` folder in the workflow. Fill subject and session information in files `subjects.csv` and `sessions.csv`. We can then use corresponding functions below to automatically ingest subject and session metadata.\n"
   ]
  },
  {
   "cell_type": "code",
   "execution_count": 4,
   "metadata": {},
   "outputs": [
    {
     "name": "stderr",
     "output_type": "stream",
     "text": [
      "[2023-01-05 14:43:22,668][INFO]: \n",
      "---- Inserting 0 entry(s) into Subject ----\n",
      "[2023-01-05 14:43:22,669][INFO]: ---- Insert new `Session` and `Recording` ----\n",
      "[2023-01-05 14:43:22,834][INFO]: ---- Inserting 0 entry(s) into reference.Device ----\n",
      "[2023-01-05 14:43:23,128][INFO]: ---- Inserting 1 entry(s) into session.Session ----\n",
      "[2023-01-05 14:43:23,377][INFO]: ---- Inserting 1 entry(s) into miniscope.Recording ----\n",
      "[2023-01-05 14:43:23,379][INFO]: ---- Successfully completed ingest_sessions ----\n"
     ]
    }
   ],
   "source": [
    "from workflow_miniscope.ingest import ingest_subjects, ingest_sessions\n",
    "\n",
    "ingest_subjects()\n",
    "ingest_sessions()"
   ]
  },
  {
   "attachments": {},
   "cell_type": "markdown",
   "metadata": {},
   "source": [
    "## Insert new ProcessingParamSet for CaImAn\n",
    "\n",
    "This is not needed if you are using an existing ProcessingParamSet.\n"
   ]
  },
  {
   "cell_type": "code",
   "execution_count": 7,
   "metadata": {
    "jupyter": {
     "outputs_hidden": false
    },
    "pycharm": {
     "name": "#%%\n"
    }
   },
   "outputs": [],
   "source": [
    "params_caiman = dict(\n",
    "    decay_time=0.4,\n",
    "    pw_rigid=False,\n",
    "    max_shifts=(5, 5),\n",
    "    gSig_filt=(3, 3),\n",
    "    strides=(48, 48),\n",
    "    overlaps=(24, 24),\n",
    "    max_deviation_rigid=3,\n",
    "    border_nan=\"copy\",\n",
    "    method_init=\"corr_pnr\",\n",
    "    K=None,\n",
    "    gSig=(3, 3),\n",
    "    gSiz=(13, 13),\n",
    "    merge_thr=0.7,\n",
    "    p=1,\n",
    "    tsub=2,\n",
    "    ssub=1,\n",
    "    rf=40,\n",
    "    stride=20,\n",
    "    only_init=True,\n",
    "    nb=0,\n",
    "    nb_patch=0,\n",
    "    method_deconvolution=\"oasis\",\n",
    "    low_rank_background=None,\n",
    "    update_background_components=True,\n",
    "    min_corr=0.8,\n",
    "    min_pnr=10,\n",
    "    normalize_init=False,\n",
    "    center_psf=True,\n",
    "    ssub_B=2,\n",
    "    ring_size_factor=1.4,\n",
    "    del_duplicates=True,\n",
    "    border_pix=0,\n",
    "    min_SNR=3,\n",
    "    rval_thr=0.85,\n",
    "    use_cnn=False,\n",
    ")\n",
    "\n",
    "params_dict = dict(\n",
    "    processing_method=\"caiman\",\n",
    "    paramset_id=0,  # Change ID if changing parameters\n",
    "    paramset_desc=\"Calcium imaging analysis with CaImAn using default parameters\",\n",
    "    params=params_caiman,\n",
    ")\n",
    "\n",
    "miniscope.ProcessingParamSet.insert_new_params(**params_dict)"
   ]
  },
  {
   "attachments": {},
   "cell_type": "markdown",
   "metadata": {},
   "source": [
    "## Trigger autoprocessing of the remaining calcium imaging workflow\n"
   ]
  },
  {
   "attachments": {},
   "cell_type": "markdown",
   "metadata": {},
   "source": [
    "- The `process.run()` function in the workflow populates every auto-processing table in the workflow. If a table is dependent on a manual table upstream, it will not get populated until the manual table is inserted.\n",
    "\n",
    "- At this stage, process script populates through the table upstream of `ProcessingTask` (i.e. `RecordingInfo`)\n"
   ]
  },
  {
   "cell_type": "code",
   "execution_count": 5,
   "metadata": {},
   "outputs": [
    {
     "name": "stderr",
     "output_type": "stream",
     "text": [
      "[2023-01-05 14:44:40,146][INFO]: ---- Populating RecordingInfo ----\n",
      "RecordingInfo: 100%|██████████| 1/1 [00:00<00:00,  1.05it/s]\n",
      "[2023-01-05 14:44:41,759][INFO]: ---- Populating Processing ----\n",
      "[2023-01-05 14:44:42,074][INFO]: ---- Populating MotionCorrection ----\n",
      "[2023-01-05 14:44:42,366][INFO]: ---- Populating Segmentation ----\n",
      "[2023-01-05 14:44:42,666][INFO]: ---- Populating Fluorescence ----\n",
      "[2023-01-05 14:44:42,953][INFO]: ---- Populating Activity ----\n",
      "[2023-01-05 14:44:43,246][INFO]: ---- Successfully completed miniscope/populate.py ----\n"
     ]
    }
   ],
   "source": [
    "process.run()"
   ]
  },
  {
   "attachments": {},
   "cell_type": "markdown",
   "metadata": {},
   "source": [
    "We can then add a processing task as a combination of a scan key, processing parameters, and an output directory.\n"
   ]
  },
  {
   "cell_type": "code",
   "execution_count": 8,
   "metadata": {},
   "outputs": [],
   "source": [
    "from element_interface.utils import find_full_path\n",
    "from workflow_miniscope.pipeline import get_miniscope_root_data_dir\n",
    "\n",
    "scan_key = (session.Session * miniscope.Recording).fetch(\"KEY\", limit=1)[0]\n",
    "\n",
    "scan_file = find_full_path(\n",
    "    get_miniscope_root_data_dir(),\n",
    "    (miniscope.RecordingInfo.File & scan_key).fetch(\"file_path\", limit=1)[0],\n",
    ")\n",
    "caiman_dir = Path(scan_file.parent / \"caiman\")\n",
    "miniscope.ProcessingTask.insert1(\n",
    "    {**scan_key, \"paramset_id\": 0, \"processing_output_dir\": caiman_dir}\n",
    ")"
   ]
  },
  {
   "attachments": {},
   "cell_type": "markdown",
   "metadata": {},
   "source": [
    "And trigger the processing"
   ]
  },
  {
   "cell_type": "code",
   "execution_count": 9,
   "metadata": {},
   "outputs": [
    {
     "name": "stderr",
     "output_type": "stream",
     "text": [
      "[2023-01-05 14:52:27,650][INFO]: ---- Populating RecordingInfo ----\n",
      "[2023-01-05 14:52:27,819][INFO]: ---- Populating Processing ----\n",
      "Processing: 100%|██████████| 1/1 [00:06<00:00,  6.69s/it]\n",
      "[2023-01-05 14:52:34,673][INFO]: ---- Populating MotionCorrection ----\n",
      "INFO:datajoint:---- Populating MotionCorrection ----\n",
      "[2023-01-05 14:52:34,835][INFO]: ---- Populating Segmentation ----\n",
      "INFO:datajoint:---- Populating Segmentation ----\n",
      "[2023-01-05 14:52:34,995][INFO]: ---- Populating Fluorescence ----\n",
      "INFO:datajoint:---- Populating Fluorescence ----\n",
      "[2023-01-05 14:52:35,159][INFO]: ---- Populating Activity ----\n",
      "INFO:datajoint:---- Populating Activity ----\n",
      "[2023-01-05 14:52:35,201][INFO]: ---- Successfully completed miniscope/populate.py ----\n",
      "INFO:datajoint:---- Successfully completed miniscope/populate.py ----\n"
     ]
    }
   ],
   "source": [
    "process.run()"
   ]
  },
  {
   "attachments": {},
   "cell_type": "markdown",
   "metadata": {},
   "source": [
    "Next, we would select one of the results at the curation table."
   ]
  },
  {
   "cell_type": "code",
   "execution_count": 12,
   "metadata": {},
   "outputs": [],
   "source": [
    "key = miniscope.Processing.fetch(\"KEY\")[0]\n",
    "miniscope.Curation.create1_from_processing_task(key)"
   ]
  },
  {
   "cell_type": "markdown",
   "metadata": {},
   "source": [
    "And then we can continue processing."
   ]
  },
  {
   "cell_type": "code",
   "execution_count": 13,
   "metadata": {},
   "outputs": [
    {
     "name": "stderr",
     "output_type": "stream",
     "text": [
      "[2023-01-05 14:57:55,980][INFO]: ---- Populating RecordingInfo ----\n",
      "INFO:datajoint:---- Populating RecordingInfo ----\n",
      "[2023-01-05 14:57:56,147][INFO]: ---- Populating Processing ----\n",
      "INFO:datajoint:---- Populating Processing ----\n",
      "[2023-01-05 14:57:56,314][INFO]: ---- Populating MotionCorrection ----\n",
      "INFO:datajoint:---- Populating MotionCorrection ----\n",
      "MotionCorrection: 100%|██████████| 1/1 [00:01<00:00,  1.65s/it]\n",
      "[2023-01-05 14:57:58,128][INFO]: ---- Populating Segmentation ----\n",
      "INFO:datajoint:---- Populating Segmentation ----\n",
      "Segmentation:   0%|          | 0/1 [00:00<?, ?it/s][2023-01-05 14:57:58,721][WARNING]: Could not load all pixel values for at least one mask\n",
      "WARNING:datajoint:Could not load all pixel values for at least one mask\n",
      "Segmentation: 100%|██████████| 1/1 [00:01<00:00,  1.10s/it]\n",
      "[2023-01-05 14:57:59,392][INFO]: ---- Populating Fluorescence ----\n",
      "INFO:datajoint:---- Populating Fluorescence ----\n",
      "Fluorescence: 100%|██████████| 1/1 [00:01<00:00,  1.15s/it]\n",
      "[2023-01-05 14:58:00,711][INFO]: ---- Populating Activity ----\n",
      "INFO:datajoint:---- Populating Activity ----\n",
      "Activity: 100%|██████████| 2/2 [00:01<00:00,  1.24it/s]\n",
      "[2023-01-05 14:58:02,362][INFO]: ---- Successfully completed miniscope/populate.py ----\n",
      "INFO:datajoint:---- Successfully completed miniscope/populate.py ----\n"
     ]
    }
   ],
   "source": [
    "process.run()"
   ]
  },
  {
   "attachments": {},
   "cell_type": "markdown",
   "metadata": {},
   "source": [
    "## Summary and next step\n",
    "\n",
    "- This notebook runs through the workflow in an automatic manner.\n",
    "\n",
    "- The next notebook [05-Explore](./05-Explore.ipynb) discussed the role of each table in more depth.\n"
   ]
  }
 ],
 "metadata": {
  "jupytext": {
   "formats": "ipynb,py:percent"
  },
  "kernelspec": {
   "display_name": "Python 3.9.13 ('ele')",
   "language": "python",
   "name": "python3"
  },
  "language_info": {
   "codemirror_mode": {
    "name": "ipython",
    "version": 3
   },
   "file_extension": ".py",
   "mimetype": "text/x-python",
   "name": "python",
   "nbconvert_exporter": "python",
   "pygments_lexer": "ipython3",
   "version": "3.9.13"
  },
  "vscode": {
   "interpreter": {
    "hash": "d00c4ad21a7027bf1726d6ae3a9a6ef39c8838928eca5a3d5f51f3eb68720410"
   }
  }
 },
 "nbformat": 4,
 "nbformat_minor": 4
}
