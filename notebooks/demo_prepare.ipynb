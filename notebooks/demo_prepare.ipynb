{
 "cells": [
  {
   "attachments": {},
   "cell_type": "markdown",
   "metadata": {},
   "source": [
    "### Demo Preparation Notebook\n",
    "\n",
    "**Please Note**: This notebook and demo are NOT intended to be used as learning materials. To gain\n",
    "a thorough understanding of the DataJoint workflow, please\n",
    "see the [`tutorial`](./tutorial.ipynb) notebook."
   ]
  },
  {
   "cell_type": "code",
   "execution_count": null,
   "metadata": {},
   "outputs": [],
   "source": [
    "import os\n",
    "if os.path.basename(os.getcwd()) == \"notebooks\":\n",
    "    os.chdir(\"..\")"
   ]
  },
  {
   "cell_type": "code",
   "execution_count": null,
   "metadata": {},
   "outputs": [],
   "source": [
    "import datajoint as dj\n",
    "import datetime\n",
    "from workflow_miniscope.pipeline import subject, session, miniscope, Device"
   ]
  },
  {
   "cell_type": "code",
   "execution_count": null,
   "metadata": {},
   "outputs": [],
   "source": [
    "subject.Subject.insert1(\n",
    "    dict(\n",
    "        subject='subject1',\n",
    "        subject_birth_date='2023-01-01',\n",
    "        sex='U',\n",
    "    )\n",
    ")"
   ]
  },
  {
   "cell_type": "code",
   "execution_count": null,
   "metadata": {},
   "outputs": [],
   "source": [
    "Device.insert1(\n",
    "    dict(device=\"UCLA Miniscope\", \n",
    "         modality=\"miniscope\"\n",
    "        )\n",
    ")"
   ]
  },
  {
   "cell_type": "code",
   "execution_count": null,
   "metadata": {},
   "outputs": [],
   "source": [
    "session_key = dict(subject='subject1', \n",
    "                   session_datetime=datetime.datetime(2023, 5, 11, 12, 00, 00))\n",
    "\n",
    "session.Session.insert1(session_key)\n",
    "\n",
    "session.SessionDirectory.insert1(\n",
    "    dict(\n",
    "        session_key, \n",
    "        session_dir='subject1/session1'\n",
    "    )\n",
    ")"
   ]
  },
  {
   "cell_type": "code",
   "execution_count": null,
   "metadata": {},
   "outputs": [],
   "source": [
    "miniscope.Recording.insert1(\n",
    "    dict(\n",
    "        session_key,\n",
    "        recording_id=0,\n",
    "        device=\"UCLA Miniscope\",\n",
    "        acq_software=\"Miniscope-DAQ-V4\",\n",
    "    )\n",
    ")"
   ]
  },
  {
   "cell_type": "code",
   "execution_count": null,
   "metadata": {},
   "outputs": [],
   "source": [
    "miniscope.RecordingInfo.populate(display_progress=True)"
   ]
  },
  {
   "cell_type": "code",
   "execution_count": null,
   "metadata": {},
   "outputs": [],
   "source": [
    "caiman_params = dict(\n",
    "    decay_time=0.4,\n",
    "    pw_rigid=False,\n",
    "    max_shifts=(5, 5),\n",
    "    gSig_filt=(3, 3),\n",
    "    strides=(48, 48),\n",
    "    overlaps=(24, 24),\n",
    "    max_deviation_rigid=3,\n",
    "    border_nan=\"copy\",\n",
    "    method_init=\"corr_pnr\",\n",
    "    K=None,\n",
    "    gSig=(3, 3),\n",
    "    gSiz=(13, 13),\n",
    "    merge_thr=0.7,\n",
    "    p=1,\n",
    "    tsub=2,\n",
    "    ssub=1,\n",
    "    rf=40,\n",
    "    stride=20,\n",
    "    only_init=True,\n",
    "    nb=0,\n",
    "    nb_patch=0,\n",
    "    method_deconvolution=\"oasis\",\n",
    "    low_rank_background=None,\n",
    "    update_background_components=True,\n",
    "    min_corr=0.8,\n",
    "    min_pnr=10,\n",
    "    normalize_init=False,\n",
    "    center_psf=True,\n",
    "    ssub_B=2,\n",
    "    ring_size_factor=1.4,\n",
    "    del_duplicates=True,\n",
    "    border_pix=0,\n",
    "    min_SNR=3,\n",
    "    rval_thr=0.85,\n",
    "    use_cnn=False,\n",
    ")\n",
    "\n",
    "miniscope.ProcessingParamSet.insert_new_params(\n",
    "    processing_method=\"caiman\",\n",
    "    paramset_id=0,\n",
    "    params=caiman_params,\n",
    "    paramset_desc='Default parameter set for CaImAn'\n",
    ")"
   ]
  },
  {
   "cell_type": "code",
   "execution_count": null,
   "metadata": {},
   "outputs": [],
   "source": [
    "miniscope.ProcessingTask.insert1(\n",
    "    dict(\n",
    "        session_key,\n",
    "        recording_id=0,\n",
    "        paramset_id=0,\n",
    "        task_mode='load', # load or trigger\n",
    "        processing_output_dir='subject1/session1/caiman',\n",
    "    )\n",
    ")\n",
    "\n",
    "miniscope.Processing.populate(display_progress=True)"
   ]
  },
  {
   "cell_type": "code",
   "execution_count": null,
   "metadata": {},
   "outputs": [],
   "source": [
    "miniscope.Curation.insert1(\n",
    "    dict(\n",
    "        session_key,\n",
    "        recording_id=0,\n",
    "        paramset_id=0,\n",
    "        curation_id=0,\n",
    "        curation_time=datetime.datetime(2023, 5, 11, 12, 00, 00),\n",
    "        curation_output_dir='subject1/session1/caiman',\n",
    "        manual_curation=False,\n",
    "    )\n",
    ")\n",
    "\n",
    "miniscope.MotionCorrection.populate(display_progress=True)\n",
    "miniscope.Segmentation.populate(display_progress=True)\n",
    "miniscope.Fluorescence.populate(display_progress=True)\n",
    "miniscope.Activity.populate(display_progress=True)"
   ]
  },
  {
   "cell_type": "code",
   "execution_count": null,
   "metadata": {},
   "outputs": [],
   "source": []
  }
 ],
 "metadata": {
  "kernelspec": {
   "display_name": "Python 3",
   "language": "python",
   "name": "python3"
  },
  "language_info": {
   "codemirror_mode": {
    "name": "ipython",
    "version": 3
   },
   "file_extension": ".py",
   "mimetype": "text/x-python",
   "name": "python",
   "nbconvert_exporter": "python",
   "pygments_lexer": "ipython3",
   "version": "3.10.11"
  },
  "orig_nbformat": 4,
  "vscode": {
   "interpreter": {
    "hash": "949777d72b0d2535278d3dc13498b2535136f6dfe0678499012e853ee9abcab1"
   }
  }
 },
 "nbformat": 4,
 "nbformat_minor": 2
}
