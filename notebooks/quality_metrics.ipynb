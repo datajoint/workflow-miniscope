{
 "cells": [
  {
   "attachments": {},
   "cell_type": "markdown",
   "id": "ddb44fb7-ff2e-425c-9b00-42de09dadee4",
   "metadata": {},
   "source": [
    "# Miniscope Quality Metrics\n",
    "\n",
    "Visualize the miniscope quality metrics for the processed images that are stored in the DataJoint pipeline (i.e. `element-miniscope`).\n",
    "\n",
    "If you are new to using this DataJoint pipeline for analyzing miniscope calcium imaging data, please see the [tutorial](./tutorial.ipynb) notebook for an in-depth explanation to set up and run the workflow.\n",
    "\n",
    "This quality metrics notebook requires the data to be populated into the database using the [demo_prepare](./demo_prepare.ipynb) notebook."
   ]
  },
  {
   "cell_type": "code",
   "execution_count": null,
   "id": "e5200c3f",
   "metadata": {},
   "outputs": [],
   "source": [
    "import os\n",
    "if os.path.basename(os.getcwd()) == \"notebooks\":\n",
    "    os.chdir(\"..\")"
   ]
  },
  {
   "cell_type": "code",
   "execution_count": null,
   "id": "9485c799-41d4-4858-bff0-8a7f01c42616",
   "metadata": {},
   "outputs": [],
   "source": [
    "import datetime\n",
    "import numpy as np\n",
    "import matplotlib.pyplot as plt\n",
    "from workflow_miniscope.pipeline import miniscope"
   ]
  },
  {
   "attachments": {},
   "cell_type": "markdown",
   "id": "3607cffc",
   "metadata": {},
   "source": [
    "## Populate quality metrics tables"
   ]
  },
  {
   "cell_type": "code",
   "execution_count": null,
   "id": "732efeb7",
   "metadata": {},
   "outputs": [],
   "source": [
    "miniscope.ProcessingQualityMetrics.populate(display_progress=True)"
   ]
  },
  {
   "attachments": {},
   "cell_type": "markdown",
   "id": "a274d78d",
   "metadata": {},
   "source": [
    "## Motion corrected summary images"
   ]
  },
  {
   "cell_type": "code",
   "execution_count": null,
   "id": "424572b4",
   "metadata": {},
   "outputs": [],
   "source": [
    "key = dict(\n",
    "        subject=\"subject1\",\n",
    "        session_datetime=datetime.datetime(2023, 5, 11, 12, 00, 00),\n",
    "        recording_id=0,\n",
    "        paramset_id=0,\n",
    "        curation_id=0,\n",
    "    )\n",
    "query = miniscope.MotionCorrection.Summary & key\n",
    "query"
   ]
  },
  {
   "cell_type": "code",
   "execution_count": null,
   "id": "66f71f26",
   "metadata": {},
   "outputs": [],
   "source": [
    "summary_images = query.fetch1()"
   ]
  },
  {
   "cell_type": "code",
   "execution_count": null,
   "id": "ba71467d",
   "metadata": {},
   "outputs": [],
   "source": [
    "fig, axes = plt.subplots(1, 3, figsize=(12, 9))\n",
    "\n",
    "axes[0].imshow(summary_images[\"average_image\"][0])\n",
    "axes[0].set_title('Average Image')\n",
    "axes[0].set_xlabel('x (pixels)')\n",
    "axes[0].set_ylabel('y (pixels)')\n",
    "\n",
    "axes[1].imshow(summary_images[\"correlation_image\"][0])\n",
    "axes[1].set_title('Correlation Image')\n",
    "axes[1].set_xlabel('x (pixels)')\n",
    "axes[1].set_yticks([])\n",
    "axes[1].set_yticklabels([])\n",
    "\n",
    "axes[2].imshow(summary_images[\"max_proj_image\"][0])\n",
    "axes[2].set_title('Max projection Image')\n",
    "axes[2].set_xlabel('x (pixels)')\n",
    "axes[2].set_yticks([])\n",
    "axes[2].set_yticklabels([])\n",
    "\n",
    "plt.show()"
   ]
  },
  {
   "attachments": {},
   "cell_type": "markdown",
   "id": "3f30c184",
   "metadata": {},
   "source": [
    "## Segmentation masks"
   ]
  },
  {
   "cell_type": "code",
   "execution_count": null,
   "id": "daec7ce8",
   "metadata": {},
   "outputs": [],
   "source": [
    "mask_xpix, mask_ypix = (miniscope.Segmentation.Mask & key).fetch(\"mask_xpix\", \"mask_ypix\")\n",
    "\n",
    "mask_image = np.zeros(np.shape(summary_images[\"correlation_image\"][0]), dtype=bool)\n",
    "for xpix, ypix in zip(mask_xpix, mask_ypix):\n",
    "    try:\n",
    "        mask_image[ypix, xpix] = True\n",
    "    except Exception as e:\n",
    "        print(e)\n",
    "\n",
    "plt.xlabel('x (pixels)')\n",
    "plt.ylabel('y (pixels)')\n",
    "plt.imshow(summary_images[\"correlation_image\"][0])\n",
    "plt.contour(mask_image, colors=\"white\", linewidths=0.5)\n",
    "plt.show()"
   ]
  },
  {
   "attachments": {},
   "cell_type": "markdown",
   "id": "e374942b",
   "metadata": {},
   "source": [
    "## Trace quality metrics\n",
    "\n",
    "Temporal skewness and variance of the fluorescence activity can indicate the stability of the signal over time. Changes in this metric between imaging sessions could indicate technical issues in the experimental conditions or data processing. Additionally, changes in the animal's behavior or physiological state could also affect this metric, so it is important to interpret any changes within the context of the experimental conditions and the animal's behavior and physiology. ([Stringer & Pachitariu, Current Opinion in Neurobiology 2019](https://doi.org/10.1016/j.conb.2018.11.005))\n",
    "\n",
    "For illustrative purposes, below we will fetch and plot these metrics for a single session."
   ]
  },
  {
   "cell_type": "code",
   "execution_count": null,
   "id": "93dc9366",
   "metadata": {},
   "outputs": [],
   "source": [
    "key = dict(\n",
    "        subject=\"subject1\",\n",
    "        session_datetime=datetime.datetime(2023, 5, 11, 12, 00, 00),\n",
    "        recording_id=0,\n",
    "        paramset_id=0,\n",
    "        curation_id=0,\n",
    "        fluorescence_channel=0\n",
    "    )\n",
    "\n",
    "query = miniscope.ProcessingQualityMetrics.Trace & key\n",
    "query"
   ]
  },
  {
   "cell_type": "code",
   "execution_count": null,
   "id": "447141d2",
   "metadata": {},
   "outputs": [],
   "source": [
    "skewness, variance = query.fetch('skewness', 'variance')"
   ]
  },
  {
   "cell_type": "code",
   "execution_count": null,
   "id": "c167f3fa",
   "metadata": {},
   "outputs": [],
   "source": [
    "fig, axes = plt.subplots(1, 2, figsize=(9, 4))\n",
    "\n",
    "axes[0].scatter(range(len(skewness)), \n",
    "         np.sort(skewness), \n",
    "         color='black', s=0.5)\n",
    "axes[0].set_title('Temporal skewness')\n",
    "axes[0].set_xlabel('Cell')\n",
    "axes[0].set_ylabel('Sorted skewness')\n",
    "\n",
    "axes[1].scatter(range(len(variance)), \n",
    "         np.sort(variance), \n",
    "         color='black', s=0.5)\n",
    "axes[1].set_title('Temporal variance')\n",
    "axes[1].set_xlabel('Cell')\n",
    "axes[1].set_ylabel('Sorted variance')\n",
    "\n",
    "plt.show()"
   ]
  },
  {
   "cell_type": "code",
   "execution_count": null,
   "id": "c739b7dd",
   "metadata": {},
   "outputs": [],
   "source": []
  }
 ],
 "metadata": {
  "kernelspec": {
   "display_name": "Python 3 (ipykernel)",
   "language": "python",
   "name": "python3"
  },
  "language_info": {
   "codemirror_mode": {
    "name": "ipython",
    "version": 3
   },
   "file_extension": ".py",
   "mimetype": "text/x-python",
   "name": "python",
   "nbconvert_exporter": "python",
   "pygments_lexer": "ipython3",
   "version": "3.10.11"
  }
 },
 "nbformat": 4,
 "nbformat_minor": 5
}
