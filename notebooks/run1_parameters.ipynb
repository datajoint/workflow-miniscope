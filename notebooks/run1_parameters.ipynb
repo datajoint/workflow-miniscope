{
 "metadata": {
  "language_info": {
   "codemirror_mode": {
    "name": "ipython",
    "version": 3
   },
   "file_extension": ".py",
   "mimetype": "text/x-python",
   "name": "python",
   "nbconvert_exporter": "python",
   "pygments_lexer": "ipython3",
   "version": "3.7.10-final"
  },
  "orig_nbformat": 2,
  "kernelspec": {
   "name": "python3",
   "display_name": "Python 3.7.10 64-bit ('workflow-miniscope': conda)",
   "metadata": {
    "interpreter": {
     "hash": "fb69438121b2de1073146525f02c3c959a56b9d2c1d6b0a62c34f01201323d1c"
    }
   }
  }
 },
 "nbformat": 4,
 "nbformat_minor": 2,
 "cells": [
  {
   "cell_type": "code",
   "execution_count": 1,
   "metadata": {},
   "outputs": [
    {
     "output_type": "stream",
     "name": "stdout",
     "text": [
      "DataJoint verified plugin `datajoint_connection_hub` detected.\n",
      "Connecting dbadmin@djhub-hosting-ucla-001.clv9vocx3mqz.us-west-2.rds.amazonaws.com:3306\n"
     ]
    }
   ],
   "source": [
    "import numpy as np\n",
    "import os\n",
    "os.chdir('..')\n",
    "from workflow_miniscope.pipeline import *"
   ]
  },
  {
   "source": [
    "## Insert parameters for MiniscopeAnalysis into `imaging.ProcessingParamSet`\n",
    "+ If the same parameters are used to analyze multiple datasets, the parameters only need to be insert once.\n",
    "### Define MiniscopeAnalysis parameters"
   ],
   "cell_type": "markdown",
   "metadata": {}
  },
  {
   "cell_type": "code",
   "execution_count": 2,
   "metadata": {},
   "outputs": [],
   "source": [
    "params = dict(pars_envs = ['memory_size_to_use', 12, 'memory_size_per_patch', 0.6, 'patch_dims', [64, 64]],\n",
    "              include_residual = False,\n",
    "              gSig = 3,           \n",
    "              gSiz = 15,\n",
    "              ssub = 1,\n",
    "              with_dendrites = True,\n",
    "              updateA_search_method = 'dilate',\n",
    "              updateA_bSiz = 5,\n",
    "              updateA_dist = None,\n",
    "              spatial_constraints = ['connected', True, 'circular', False],\n",
    "              spatial_algorithm = 'hals_thresh',\n",
    "              Fs = 30,\n",
    "              tsub = 5,\n",
    "              deconv_flag = True,\n",
    "              deconv_options = ['type', 'ar1', 'method', 'constrained', 'smin', -5, 'optimize_pars', True, 'optimize_b', True, 'max_tau', 100],\n",
    "              nk = 3,\n",
    "              detrend_method = 'spline',\n",
    "              bg_model = 'ring',\n",
    "              nb = 1,\n",
    "              ring_radius = 23,\n",
    "              num_neighbors = [],\n",
    "              show_merge = False,\n",
    "              merge_thr = 0.65,\n",
    "              method_dist = 'max',\n",
    "              dmin = 5,\n",
    "              dmin_only = 2,\n",
    "              merge_thr_spatial = [0.8, 0.4, -float('inf')],\n",
    "              K = [],\n",
    "              min_corr = 0.9,\n",
    "              min_pnr = 15,\n",
    "              min_pixel = None,\n",
    "              bd = 0,\n",
    "              frame_range = [],\n",
    "              save_initialization = False,\n",
    "              use_parallel = True,\n",
    "              show_init = False,\n",
    "              choose_params = False,\n",
    "              center_psf = True,\n",
    "              min_corr_res = 0.7,\n",
    "              min_pnr_res = 8,\n",
    "              seed_method_res = 'auto',\n",
    "              update_sn = True,\n",
    "              with_manual_intervention = False)"
   ]
  },
  {
   "source": [
    "### Insert MiniscopeAnalysis parameters"
   ],
   "cell_type": "markdown",
   "metadata": {}
  },
  {
   "cell_type": "code",
   "execution_count": 3,
   "metadata": {},
   "outputs": [],
   "source": [
    "imaging.ProcessingParamSet.insert_new_params(\n",
    "    processing_method='miniscope_analysis', \n",
    "    package_version='',\n",
    "    paramset_idx=0, \n",
    "    paramset_desc='Calcium imaging analysis with Miniscope Analysis using default parameters', \n",
    "    params=params)"
   ]
  },
  {
   "source": [
    "### You may now proceed to the `run2_workflow.ipynb` Jupyter Notebook"
   ],
   "cell_type": "markdown",
   "metadata": {}
  },
  {
   "cell_type": "code",
   "execution_count": null,
   "metadata": {},
   "outputs": [],
   "source": []
  }
 ]
}