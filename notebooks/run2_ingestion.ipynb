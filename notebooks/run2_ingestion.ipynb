{
 "cells": [
  {
   "cell_type": "markdown",
   "metadata": {},
   "source": [
    "# Run workflow\n",
    "The following script outlines the steps to ingest miniscope metadata and processed data into the DataJoint workflow-miniscope.  "
   ]
  },
  {
   "cell_type": "code",
   "execution_count": 1,
   "metadata": {},
   "outputs": [
    {
     "output_type": "stream",
     "name": "stdout",
     "text": [
      "DataJoint verified plugin `datajoint_connection_hub` detected.\n",
      "Connecting dbadmin@djhub-hosting-ucla-001.clv9vocx3mqz.us-west-2.rds.amazonaws.com:3306\n"
     ]
    }
   ],
   "source": [
    "import numpy as np\n",
    "import os\n",
    "os.chdir('..')\n",
    "from workflow_miniscope.pipeline import *"
   ]
  },
  {
   "cell_type": "markdown",
   "metadata": {},
   "source": [
    "## Insert entries into the following manual DataJoint tables\n",
    "\n",
    "+ subject.Subject\n",
    "+ experiment.Equipment\n",
    "+ experiment.Session\n",
    "+ scan.Scan\n",
    "+ imaging.ProcessingTask\n",
    "\n",
    "As described in the following sections, the entries can be inserted manually, or with the `ingest` method and accompanying `csv` files."
   ]
  },
  {
   "cell_type": "code",
   "execution_count": 12,
   "metadata": {},
   "outputs": [],
   "source": [
    "subject.Subject.insert1(dict(subject='subject1', \n",
    "                             sex='F', \n",
    "                             subject_birth_date='2019-01-01 00:00:01', \n",
    "                             subject_description='no description'))\n",
    "\n",
    "Equipment.insert1(dict(scanner='MINI2P_ImagingScanner'))\n",
    "\n",
    "Session.insert1(dict(subject='subject1', \n",
    "                     session_datetime='2021-01-01 00:00:01'))\n",
    "\n",
    "Session.Directory.insert1(dict(subject='subject1', \n",
    "                               session_datetime='2021-01-01 00:00:01', \n",
    "                               session_dir='<imaging_root_data_dir>/subject1/session0'))\n",
    "\n",
    "scan.Scan.insert1(dict(subject='subject1', \n",
    "                       session_datetime='2021-01-01 00:00:01', \n",
    "                       scan_id=0, \n",
    "                       scanner='MINI2P_ImagingScanner', \n",
    "                       scan_notes=''))"
   ]
  },
  {
   "cell_type": "markdown",
   "metadata": {},
   "source": [
    "### Method for inserting entries\n",
    "\n",
    "Modify `user_data/subjects.csv` and `user_data/sessions.csv`, and run the following commands"
   ]
  },
  {
   "cell_type": "code",
   "execution_count": 2,
   "metadata": {},
   "outputs": [],
   "source": [
    "from workflow_miniscope.ingest import ingest_subjects, ingest_sessions"
   ]
  },
  {
   "cell_type": "code",
   "execution_count": 3,
   "metadata": {},
   "outputs": [
    {
     "output_type": "stream",
     "name": "stdout",
     "text": [
      "\n",
      "---- Insert 1 entry(s) into subject.Subject ----\n",
      "\n",
      "---- Successfully completed ingest_subjects ----\n"
     ]
    }
   ],
   "source": [
    "ingest_subjects()"
   ]
  },
  {
   "cell_type": "code",
   "execution_count": 4,
   "metadata": {},
   "outputs": [
    {
     "output_type": "stream",
     "name": "stdout",
     "text": [
      "\n",
      "---- Insert 1 entry(s) into experiment.Equipment ----\n",
      "\n",
      "---- Insert 1 entry(s) into session.Session ----\n",
      "\n",
      "---- Insert 1 entry(s) into scan.Scan ----\n",
      "\n",
      "---- Successfully completed ingest_sessions ----\n"
     ]
    }
   ],
   "source": [
    "ingest_sessions()"
   ]
  },
  {
   "cell_type": "code",
   "execution_count": 5,
   "metadata": {},
   "outputs": [
    {
     "output_type": "stream",
     "name": "stderr",
     "text": [
      "ScanInfo: 100%|██████████| 1/1 [00:00<00:00,  1.22it/s]\n"
     ]
    }
   ],
   "source": [
    "populate_settings = {'display_progress': True, 'reserve_jobs': False, 'suppress_errors': False}\n",
    "\n",
    "scan.ScanInfo.populate(**populate_settings)"
   ]
  },
  {
   "cell_type": "markdown",
   "source": [
    "## Insert new ProcessingTask to trigger ingestion of motion-correction/segmentation results\n",
    "\n",
    "Motion correction and segmentation are performed for each scan,\n",
    "once the processing job has been completed, an entry in the `ProcessingTask` needs to be added to trigger the ingestion of the processing results.\n",
    "\n",
    "Two pieces of information need to be specified:\n",
    "+ the `paramset_idx` used for the processing job\n",
    "+ the output directory storing the processing results"
   ],
   "metadata": {
    "collapsed": false
   }
  },
  {
   "cell_type": "code",
   "execution_count": 6,
   "outputs": [
    {
     "output_type": "execute_result",
     "data": {
      "text/plain": [
       "*subject       *session_datet *scan_id    scanner        acq_software   scan_notes    \n",
       "+------------+ +------------+ +---------+ +------------+ +------------+ +------------+\n",
       "pingping_minis 2021-02-12 16: 0           Miniscope-DAQ- Miniscope-DAQ-               \n",
       " (Total: 1)"
      ],
      "text/html": "\n    \n    <style type=\"text/css\">\n        .Relation{\n            border-collapse:collapse;\n        }\n        .Relation th{\n            background: #A0A0A0; color: #ffffff; padding:4px; border:#f0e0e0 1px solid;\n            font-weight: normal; font-family: monospace; font-size: 100%;\n        }\n        .Relation td{\n            padding:4px; border:#f0e0e0 1px solid; font-size:100%;\n        }\n        .Relation tr:nth-child(odd){\n            background: #ffffff;\n        }\n        .Relation tr:nth-child(even){\n            background: #f3f1ff;\n        }\n        /* Tooltip container */\n        .djtooltip {\n        }\n        /* Tooltip text */\n        .djtooltip .djtooltiptext {\n            visibility: hidden;\n            width: 120px;\n            background-color: black;\n            color: #fff;\n            text-align: center;\n            padding: 5px 0;\n            border-radius: 6px;\n            /* Position the tooltip text - see examples below! */\n            position: absolute;\n            z-index: 1;\n        }\n        #primary {\n            font-weight: bold;\n            color: black;\n        }\n        #nonprimary {\n            font-weight: normal;\n            color: white;\n        }\n\n        /* Show the tooltip text when you mouse over the tooltip container */\n        .djtooltip:hover .djtooltiptext {\n            visibility: visible;\n        }\n    </style>\n    \n    <b></b>\n        <div style=\"max-height:1000px;max-width:1500px;overflow:auto;\">\n        <table border=\"1\" class=\"Relation\">\n            <thead> <tr style=\"text-align: right;\"> <th> <div class=\"djtooltip\">\n                            <p id=\"primary\">subject</p>\n                            <span class=\"djtooltiptext\"></span>\n                        </div></th><th><div class=\"djtooltip\">\n                            <p id=\"primary\">session_datetime</p>\n                            <span class=\"djtooltiptext\"></span>\n                        </div></th><th><div class=\"djtooltip\">\n                            <p id=\"primary\">scan_id</p>\n                            <span class=\"djtooltiptext\"></span>\n                        </div></th><th><div class=\"djtooltip\">\n                            <p id=\"nonprimary\">scanner</p>\n                            <span class=\"djtooltiptext\"></span>\n                        </div></th><th><div class=\"djtooltip\">\n                            <p id=\"nonprimary\">acq_software</p>\n                            <span class=\"djtooltiptext\"></span>\n                        </div></th><th><div class=\"djtooltip\">\n                            <p id=\"nonprimary\">scan_notes</p>\n                            <span class=\"djtooltiptext\">free-notes</span>\n                        </div> </th> </tr> </thead>\n            <tbody> <tr> <td>pingping_miniscope</td>\n<td>2021-02-12 16:21:34.121000</td>\n<td>0</td>\n<td>Miniscope-DAQ-V3</td>\n<td>Miniscope-DAQ-V3</td>\n<td></td> </tr> </tbody>\n        </table>\n        \n        <p>Total: 1</p></div>\n        "
     },
     "metadata": {},
     "execution_count": 6
    }
   ],
   "source": [
    "scan.Scan()"
   ],
   "metadata": {
    "collapsed": false,
    "pycharm": {
     "name": "#%%\n"
    }
   }
  },
  {
   "cell_type": "code",
   "execution_count": 7,
   "outputs": [],
   "source": [
    "import pathlib\n",
    "from workflow_miniscope.paths import get_imaging_root_data_dir\n",
    "\n",
    "root_dir = pathlib.Path(get_imaging_root_data_dir())"
   ],
   "metadata": {
    "collapsed": false,
    "pycharm": {
     "name": "#%%\n"
    }
   }
  },
  {
   "cell_type": "code",
   "execution_count": 8,
   "outputs": [],
   "source": [
    "for scan_key in (scan.Scan & scan.ScanInfo - imaging.ProcessingTask).fetch('KEY'):\n",
    "    scan_file = root_dir / (scan.ScanInfo.ScanFile & scan_key).fetch('file_path')[0]\n",
    "    recording_dir = scan_file.parent\n",
    "\n",
    "    # MiniscopeAnalysis\n",
    "    miniscope_analysis_dir = recording_dir / 'miniscope_analysis'\n",
    "    if miniscope_analysis_dir.exists():\n",
    "        imaging.ProcessingTask.insert1({**scan_key,\n",
    "                                        'paramset_idx': 0,\n",
    "                                        'processing_output_dir': miniscope_analysis_dir.as_posix()})"
   ],
   "metadata": {
    "collapsed": false,
    "pycharm": {
     "name": "#%%\n"
    }
   }
  },
  {
   "cell_type": "code",
   "execution_count": 9,
   "outputs": [
    {
     "output_type": "execute_result",
     "data": {
      "text/plain": [
       "*subject       *session_datet *scan_id    *paramset_idx  processing_out task_mode    \n",
       "+------------+ +------------+ +---------+ +------------+ +------------+ +-----------+\n",
       "pingping_minis 2021-02-12 16: 0           0              /Users/kabilar load         \n",
       " (Total: 1)"
      ],
      "text/html": "\n    \n    <style type=\"text/css\">\n        .Relation{\n            border-collapse:collapse;\n        }\n        .Relation th{\n            background: #A0A0A0; color: #ffffff; padding:4px; border:#f0e0e0 1px solid;\n            font-weight: normal; font-family: monospace; font-size: 100%;\n        }\n        .Relation td{\n            padding:4px; border:#f0e0e0 1px solid; font-size:100%;\n        }\n        .Relation tr:nth-child(odd){\n            background: #ffffff;\n        }\n        .Relation tr:nth-child(even){\n            background: #f3f1ff;\n        }\n        /* Tooltip container */\n        .djtooltip {\n        }\n        /* Tooltip text */\n        .djtooltip .djtooltiptext {\n            visibility: hidden;\n            width: 120px;\n            background-color: black;\n            color: #fff;\n            text-align: center;\n            padding: 5px 0;\n            border-radius: 6px;\n            /* Position the tooltip text - see examples below! */\n            position: absolute;\n            z-index: 1;\n        }\n        #primary {\n            font-weight: bold;\n            color: black;\n        }\n        #nonprimary {\n            font-weight: normal;\n            color: white;\n        }\n\n        /* Show the tooltip text when you mouse over the tooltip container */\n        .djtooltip:hover .djtooltiptext {\n            visibility: visible;\n        }\n    </style>\n    \n    <b></b>\n        <div style=\"max-height:1000px;max-width:1500px;overflow:auto;\">\n        <table border=\"1\" class=\"Relation\">\n            <thead> <tr style=\"text-align: right;\"> <th> <div class=\"djtooltip\">\n                            <p id=\"primary\">subject</p>\n                            <span class=\"djtooltiptext\"></span>\n                        </div></th><th><div class=\"djtooltip\">\n                            <p id=\"primary\">session_datetime</p>\n                            <span class=\"djtooltiptext\"></span>\n                        </div></th><th><div class=\"djtooltip\">\n                            <p id=\"primary\">scan_id</p>\n                            <span class=\"djtooltiptext\"></span>\n                        </div></th><th><div class=\"djtooltip\">\n                            <p id=\"primary\">paramset_idx</p>\n                            <span class=\"djtooltiptext\"></span>\n                        </div></th><th><div class=\"djtooltip\">\n                            <p id=\"nonprimary\">processing_output_dir</p>\n                            <span class=\"djtooltiptext\">output directory of the processed scan relative to root data directory</span>\n                        </div></th><th><div class=\"djtooltip\">\n                            <p id=\"nonprimary\">task_mode</p>\n                            <span class=\"djtooltiptext\">'load': load computed analysis results, 'trigger': trigger computation</span>\n                        </div> </th> </tr> </thead>\n            <tbody> <tr> <td>pingping_miniscope</td>\n<td>2021-02-12 16:21:34.121000</td>\n<td>0</td>\n<td>0</td>\n<td>/Users/kabilar/Documents/Data/U24/imaging_sample_data/pingping_miniscope/session0/miniscope_analysis</td>\n<td>load</td> </tr> </tbody>\n        </table>\n        \n        <p>Total: 1</p></div>\n        "
     },
     "metadata": {},
     "execution_count": 9
    }
   ],
   "source": [
    "imaging.ProcessingTask()"
   ],
   "metadata": {
    "collapsed": false,
    "pycharm": {
     "name": "#%%\n"
    }
   }
  },
  {
   "cell_type": "code",
   "execution_count": 10,
   "metadata": {},
   "outputs": [
    {
     "output_type": "stream",
     "name": "stderr",
     "text": [
      "Processing: 100%|██████████| 1/1 [00:00<00:00,  1.96it/s]\n"
     ]
    }
   ],
   "source": [
    "imaging.Processing.populate(**populate_settings)"
   ]
  },
  {
   "cell_type": "markdown",
   "source": [
    "## Insert new Curation following the ProcessingTask\n",
    "\n",
    "In this example, we create/insert one Curation for each ProcessingTask, specifying the same output directory\n",
    "\n",
    "To this end, we make use of a convenient function `imaging.Curation().create1_from_processing_task()`"
   ],
   "metadata": {
    "collapsed": false
   }
  },
  {
   "cell_type": "code",
   "execution_count": 11,
   "outputs": [],
   "source": [
    "for key in (imaging.ProcessingTask - imaging.Curation).fetch('KEY'):\n",
    "    imaging.Curation().create1_from_processing_task(key)"
   ],
   "metadata": {
    "collapsed": false,
    "pycharm": {
     "name": "#%%\n"
    }
   }
  },
  {
   "cell_type": "markdown",
   "metadata": {},
   "source": [
    "## Populate the following imported and computed DataJoint tables\n",
    "\n",
    "+ scan.ScanInfo\n",
    "+ imaging.Processing\n",
    "+ imaging.MotionCorrection\n",
    "+ imaging.Segmentation\n",
    "+ imaging.MaskClassification\n",
    "+ imaging.Fluorescence\n",
    "+ imaging.Activity\n",
    "\n",
    "As described in the following sections, populating the tables can be done individually or with the `populate` method."
   ]
  },
  {
   "cell_type": "code",
   "execution_count": null,
   "metadata": {},
   "outputs": [],
   "source": [
    "populate_settings = {'display_progress': True, 'reserve_jobs': False, 'suppress_errors': False}\n",
    "\n",
    "scan.ScanInfo.populate(**populate_settings)\n",
    "imaging.Processing.populate(**populate_settings)\n",
    "imaging.MotionCorrection.populate(**populate_settings)\n",
    "imaging.Segmentation.populate(**populate_settings)\n",
    "imaging.MaskClassification.populate(**populate_settings)\n",
    "imaging.Fluorescence.populate(**populate_settings)\n",
    "imaging.Activity.populate(**populate_settings)"
   ]
  },
  {
   "cell_type": "markdown",
   "metadata": {},
   "source": [
    "### Method for populating tables"
   ]
  },
  {
   "cell_type": "code",
   "execution_count": 2,
   "metadata": {},
   "outputs": [],
   "source": [
    "from workflow_miniscope.populate import populate"
   ]
  },
  {
   "cell_type": "code",
   "execution_count": 3,
   "metadata": {
    "tags": []
   },
   "outputs": [
    {
     "output_type": "stream",
     "name": "stdout",
     "text": [
      "\n",
      "---- Populate scan.ScanInfo ----\n",
      "\n",
      "---- Populate imaging.Processing ----\n",
      "\n",
      "---- Populate imaging.MotionCorrection ----\n",
      "\n",
      "---- Populate imaging.Segmentation ----\n",
      "\n",
      "---- Populate imaging.MaskClassification ----\n",
      "\n",
      "---- Populate imaging.Fluorescence ----\n",
      "\n",
      "---- Populate imaging.Activity ----\n",
      "3\n",
      "4\n",
      "5\n",
      "6\n",
      "*subject       *session_datet *scan_id    *paramset_idx  *curation_id   *extraction_me processing_met\n",
      "+------------+ +------------+ +---------+ +------------+ +------------+ +------------+ +------------+\n",
      "pingping_minis 2021-02-12 16: 0           0              1              miniscope_anal miniscope_anal\n",
      "pingping_minis 2021-02-12 16: 0           0              1              miniscope_anal miniscope_anal\n",
      " (Total: 2)\n",
      "\n",
      "*subject       *session_datet *scan_id    *paramset_idx  *curation_id   *extraction_me\n",
      "+------------+ +------------+ +---------+ +------------+ +------------+ +------------+\n",
      "pingping_minis 2021-02-12 16: 0           0              1              miniscope_anal\n",
      "pingping_minis 2021-02-12 16: 0           0              1              miniscope_anal\n",
      " (Total: 2)\n",
      "\n",
      "*subject    *session_datet *scan_id    *paramset_idx  *curation_id   *extraction_me\n",
      "+---------+ +------------+ +---------+ +------------+ +------------+ +------------+\n",
      "\n",
      " (Total: 0)\n",
      "\n",
      "*subject    *session_datet *scan_id    *paramset_idx  *curation_id   *extraction_me\n",
      "+---------+ +------------+ +---------+ +------------+ +------------+ +------------+\n",
      "\n",
      " (Total: 0)\n",
      "\n",
      "7\n",
      "1\n",
      "9\n",
      "10\n",
      "  0%|          | 0/310 [00:00<?, ?it/s]2\n",
      "100%|██████████| 310/310 [03:57<00:00,  1.31it/s]\n",
      "  0%|          | 0/310 [00:00<?, ?it/s]1\n",
      "9\n",
      "10\n",
      "2\n",
      "100%|██████████| 310/310 [03:53<00:00,  1.33it/s]\n",
      "\n",
      "---- Successfully completed workflow_calcium_imaging/populate.py ----\n"
     ]
    }
   ],
   "source": [
    "populate(display_progress=False)"
   ]
  },
  {
   "cell_type": "markdown",
   "metadata": {},
   "source": [
    "## Drop schemas\n",
    "If required to drop all schemas, the following is the dependency order."
   ]
  },
  {
   "cell_type": "code",
   "execution_count": 5,
   "metadata": {},
   "outputs": [],
   "source": [
    "from workflow_miniscope.pipeline import *"
   ]
  },
  {
   "cell_type": "code",
   "execution_count": 6,
   "metadata": {
    "pycharm": {
     "name": "#%%\n"
    }
   },
   "outputs": [],
   "source": [
    "imaging.schema.drop()\n",
    "scan.schema.drop()\n",
    "session.schema.drop()\n",
    "subject.schema.drop()\n",
    "lab.schema.drop()"
   ]
  },
  {
   "cell_type": "code",
   "execution_count": null,
   "metadata": {},
   "outputs": [],
   "source": []
  }
 ],
 "metadata": {
  "kernelspec": {
   "name": "python3",
   "display_name": "Python 3.7.10 64-bit ('workflow-miniscope': conda)",
   "metadata": {
    "interpreter": {
     "hash": "fb69438121b2de1073146525f02c3c959a56b9d2c1d6b0a62c34f01201323d1c"
    }
   }
  },
  "language_info": {
   "codemirror_mode": {
    "name": "ipython",
    "version": 3
   },
   "file_extension": ".py",
   "mimetype": "text/x-python",
   "name": "python",
   "nbconvert_exporter": "python",
   "pygments_lexer": "ipython3",
   "version": "3.7.10-final"
  }
 },
 "nbformat": 4,
 "nbformat_minor": 2
}