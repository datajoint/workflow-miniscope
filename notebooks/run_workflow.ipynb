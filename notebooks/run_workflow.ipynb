{
 "cells": [
  {
   "cell_type": "markdown",
   "metadata": {},
   "source": [
    "# Run workflow"
   ]
  },
  {
   "cell_type": "code",
   "execution_count": 13,
   "metadata": {},
   "outputs": [],
   "source": [
    "import os\n",
    "os.chdir('..')\n",
    "import numpy as np\n",
    "from workflow_imaging.pipeline import *"
   ]
  },
  {
   "cell_type": "markdown",
   "metadata": {},
   "source": [
    "## Insert parameters for Suite2p and CaImAn into the following table:\n",
    "+ imaging.ProcessingParamSet"
   ]
  },
  {
   "cell_type": "markdown",
   "metadata": {},
   "source": [
    "### Define Suite2p parameters"
   ]
  },
  {
   "cell_type": "code",
   "execution_count": 2,
   "metadata": {},
   "outputs": [],
   "source": [
    "params_suite2p = {'look_one_level_down': 0.0,\n",
    " 'fast_disk': [],\n",
    " 'delete_bin': False,\n",
    " 'mesoscan': False,\n",
    " 'h5py': [],\n",
    " 'h5py_key': 'data',\n",
    " 'save_path0': [],\n",
    " 'subfolders': [],\n",
    " 'nplanes': 1,\n",
    " 'nchannels': 1,\n",
    " 'functional_chan': 1,\n",
    " 'tau': 1.0,\n",
    " 'fs': 10.0,\n",
    " 'force_sktiff': False,\n",
    " 'preclassify': 0.0,\n",
    " 'save_mat': False,\n",
    " 'combined': True,\n",
    " 'aspect': 1.0,\n",
    " 'do_bidiphase': False,\n",
    " 'bidiphase': 0.0,\n",
    " 'do_registration': True,\n",
    " 'keep_movie_raw': False,\n",
    " 'nimg_init': 300,\n",
    " 'batch_size': 500,\n",
    " 'maxregshift': 0.1,\n",
    " 'align_by_chan': 1,\n",
    " 'reg_tif': False,\n",
    " 'reg_tif_chan2': False,\n",
    " 'subpixel': 10,\n",
    " 'smooth_sigma': 1.15,\n",
    " 'th_badframes': 1.0,\n",
    " 'pad_fft': False,\n",
    " 'nonrigid': True,\n",
    " 'block_size': [128, 128],\n",
    " 'snr_thresh': 1.2,\n",
    " 'maxregshiftNR': 5.0,\n",
    " '1Preg': False,\n",
    " 'spatial_hp': 50.0,\n",
    " 'pre_smooth': 2.0,\n",
    " 'spatial_taper': 50.0,\n",
    " 'roidetect': True,\n",
    " 'sparse_mode': False,\n",
    " 'diameter': 12,\n",
    " 'spatial_scale': 0,\n",
    " 'connected': True,\n",
    " 'nbinned': 5000,\n",
    " 'max_iterations': 20,\n",
    " 'threshold_scaling': 1.0,\n",
    " 'max_overlap': 0.75,\n",
    " 'high_pass': 100.0,\n",
    " 'inner_neuropil_radius': 2,\n",
    " 'min_neuropil_pixels': 350,\n",
    " 'allow_overlap': False,\n",
    " 'chan2_thres': 0.65,\n",
    " 'baseline': 'maximin',\n",
    " 'win_baseline': 60.0,\n",
    " 'sig_baseline': 10.0,\n",
    " 'prctile_baseline': 8.0,\n",
    " 'neucoeff': 0.7,\n",
    " 'xrange': np.array([0, 0]),\n",
    " 'yrange': np.array([0, 0])}"
   ]
  },
  {
   "cell_type": "markdown",
   "metadata": {},
   "source": [
    "### Insert Suite2p parameters"
   ]
  },
  {
   "cell_type": "code",
   "execution_count": 3,
   "metadata": {},
   "outputs": [],
   "source": [
    "imaging.ProcessingParamSet.insert_new_params(\n",
    "    'suite2p', 0, 'Calcium imaging analysis with Suite2p using default Suite2p parameters', params_suite2p)"
   ]
  },
  {
   "cell_type": "markdown",
   "metadata": {},
   "source": [
    "### Define CaImAn 2d planar parameters"
   ]
  },
  {
   "cell_type": "code",
   "execution_count": 4,
   "metadata": {},
   "outputs": [],
   "source": [
    "params_caiman_2d = {'fnames': None,\n",
    " 'dims': None,\n",
    " 'fr': 30,\n",
    " 'decay_time': 0.4,\n",
    " 'dxy': (1, 1),\n",
    " 'var_name_hdf5': 'mov',\n",
    " 'caiman_version': '1.8.5',\n",
    " 'last_commit': 'GITW-a99c03c9cb221e802ec71aacfb988257810c8c4a',\n",
    " 'mmap_F': None,\n",
    " 'mmap_C': None,\n",
    " 'block_size_spat': 5000,\n",
    " 'dist': 3,\n",
    " 'expandCore': np.array([[0, 0, 1, 0, 0],\n",
    "        [0, 1, 1, 1, 0],\n",
    "        [1, 1, 1, 1, 1],\n",
    "        [0, 1, 1, 1, 0],\n",
    "        [0, 0, 1, 0, 0]], dtype='int32'),\n",
    " 'extract_cc': True,\n",
    " 'maxthr': 0.1,\n",
    " 'medw': None,\n",
    " 'method_exp': 'dilate',\n",
    " 'method_ls': 'lasso_lars',\n",
    " 'n_pixels_per_process': None,\n",
    " 'nb': 1,\n",
    " 'normalize_yyt_one': True,\n",
    " 'nrgthr': 0.9999,\n",
    " 'num_blocks_per_run_spat': 20,\n",
    " 'se': np.array([[1, 1, 1],\n",
    "        [1, 1, 1],\n",
    "        [1, 1, 1]], dtype='uint8'),\n",
    " 'ss': np.array([[1, 1, 1],\n",
    "        [1, 1, 1],\n",
    "        [1, 1, 1]], dtype='uint8'),\n",
    " 'thr_method': 'nrg',\n",
    " 'update_background_components': True,\n",
    " 'ITER': 2,\n",
    " 'bas_nonneg': False,\n",
    " 'block_size_temp': 5000,\n",
    " 'fudge_factor': 0.96,\n",
    " 'lags': 5,\n",
    " 'optimize_g': False,\n",
    " 'memory_efficient': False,\n",
    " 'method_deconvolution': 'oasis',\n",
    " 'noise_method': 'mean',\n",
    " 'noise_range': [0.25, 0.5],\n",
    " 'num_blocks_per_run_temp': 20,\n",
    " 'p': 2,\n",
    " 's_min': None,\n",
    " 'solvers': ['ECOS', 'SCS'],\n",
    " 'verbosity': False,\n",
    " 'K': 30,\n",
    " 'SC_kernel': 'heat',\n",
    " 'SC_sigma': 1,\n",
    " 'SC_thr': 0,\n",
    " 'SC_normalize': True,\n",
    " 'SC_use_NN': False,\n",
    " 'SC_nnn': 20,\n",
    " 'alpha_snmf': 100,\n",
    " 'center_psf': False,\n",
    " 'gSig': [5, 5],\n",
    " 'gSiz': (11, 11),\n",
    " 'init_iter': 2,\n",
    " 'kernel': None,\n",
    " 'lambda_gnmf': 1,\n",
    " 'maxIter': 5,\n",
    " 'max_iter_snmf': 500,\n",
    " 'method_init': 'greedy_roi',\n",
    " 'min_corr': 0.85,\n",
    " 'min_pnr': 20,\n",
    " 'nIter': 5,\n",
    " 'normalize_init': True,\n",
    " 'options_local_NMF': None,\n",
    " 'perc_baseline_snmf': 20,\n",
    " 'ring_size_factor': 1.5,\n",
    " 'rolling_length': 100,\n",
    " 'rolling_sum': True,\n",
    " 'seed_method': 'auto',\n",
    " 'sigma_smooth_snmf': (0.5, 0.5, 0.5),\n",
    " 'ssub': 2,\n",
    " 'ssub_B': 2,\n",
    " 'tsub': 2,\n",
    " 'check_nan': True,\n",
    " 'compute_g': False,\n",
    " 'include_noise': False,\n",
    " 'max_num_samples_fft': 3072,\n",
    " 'pixels': None,\n",
    " 'sn': None,\n",
    " 'border_pix': 0,\n",
    " 'del_duplicates': False,\n",
    " 'in_memory': True,\n",
    " 'low_rank_background': True,\n",
    " 'memory_fact': 1,\n",
    " 'n_processes': 1,\n",
    " 'nb_patch': 1,\n",
    " 'only_init': True,\n",
    " 'p_patch': 0,\n",
    " 'remove_very_bad_comps': False,\n",
    " 'rf': None,\n",
    " 'skip_refinement': False,\n",
    " 'p_ssub': 2,\n",
    " 'stride': None,\n",
    " 'p_tsub': 2,\n",
    " 'N_samples_exceptionality': 12,\n",
    " 'batch_update_suff_stat': False,\n",
    " 'dist_shape_update': False,\n",
    " 'ds_factor': 1,\n",
    " 'epochs': 1,\n",
    " 'expected_comps': 500,\n",
    " 'full_XXt': False,\n",
    " 'init_batch': 200,\n",
    " 'init_method': 'bare',\n",
    " 'iters_shape': 5,\n",
    " 'max_comp_update_shape': np.inf,\n",
    " 'max_num_added': 5,\n",
    " 'max_shifts_online': 10,\n",
    " 'min_SNR': 2.5,\n",
    " 'min_num_trial': 5,\n",
    " 'minibatch_shape': 100,\n",
    " 'minibatch_suff_stat': 5,\n",
    " 'motion_correct': True,\n",
    " 'movie_name_online': 'online_movie.mp4',\n",
    " 'normalize': False,\n",
    " 'n_refit': 0,\n",
    " 'num_times_comp_updated': np.inf,\n",
    " 'opencv_codec': 'H264',\n",
    " 'path_to_model': None,\n",
    " 'ring_CNN': False,\n",
    " 'rval_thr': 0.8,\n",
    " 'save_online_movie': False,\n",
    " 'show_movie': False,\n",
    " 'simultaneously': False,\n",
    " 'sniper_mode': False,\n",
    " 'stop_detection': False,\n",
    " 'test_both': False,\n",
    " 'thresh_CNN_noisy': 0.5,\n",
    " 'thresh_fitness_delta': -50,\n",
    " 'thresh_fitness_raw': -60.97977932734429,\n",
    " 'thresh_overlap': 0.5,\n",
    " 'update_freq': 200,\n",
    " 'update_num_comps': True,\n",
    " 'use_corr_img': False,\n",
    " 'use_dense': True,\n",
    " 'use_peak_max': True,\n",
    " 'W_update_factor': 1,\n",
    " 'SNR_lowest': 0.5,\n",
    " 'cnn_lowest': 0.1,\n",
    " 'gSig_range': None,\n",
    " 'min_cnn_thr': 0.9,\n",
    " 'rval_lowest': -1,\n",
    " 'use_cnn': True,\n",
    " 'use_ecc': False,\n",
    " 'max_ecc': 3,\n",
    " 'do_merge': True,\n",
    " 'merge_thr': 0.8,\n",
    " 'merge_parallel': False,\n",
    " 'max_merge_area': None,\n",
    " 'border_nan': 'copy',\n",
    " 'gSig_filt': None,\n",
    " 'is3D': False,\n",
    " 'max_deviation_rigid': 3,\n",
    " 'max_shifts': (6, 6),\n",
    " 'min_mov': None,\n",
    " 'niter_rig': 1,\n",
    " 'nonneg_movie': True,\n",
    " 'num_frames_split': 80,\n",
    " 'num_splits_to_process_els': None,\n",
    " 'num_splits_to_process_rig': None,\n",
    " 'overlaps': (32, 32),\n",
    " 'pw_rigid': False,\n",
    " 'shifts_opencv': True,\n",
    " 'splits_els': 14,\n",
    " 'splits_rig': 14,\n",
    " 'strides': (96, 96),\n",
    " 'upsample_factor_grid': 4,\n",
    " 'use_cuda': False,\n",
    " 'n_channels': 2,\n",
    " 'use_bias': False,\n",
    " 'use_add': False,\n",
    " 'pct': 0.01,\n",
    " 'patience': 3,\n",
    " 'max_epochs': 100,\n",
    " 'width': 5,\n",
    " 'loss_fn': 'pct',\n",
    " 'lr': 0.001,\n",
    " 'lr_scheduler': None,\n",
    " 'remove_activity': False,\n",
    " 'reuse_model': False}"
   ]
  },
  {
   "cell_type": "markdown",
   "metadata": {},
   "source": [
    "### Insert CaImAn parameters"
   ]
  },
  {
   "cell_type": "code",
   "execution_count": 5,
   "metadata": {},
   "outputs": [],
   "source": [
    "imaging.ProcessingParamSet.insert_new_params(\n",
    "    'caiman', 1, 'Calcium imaging analysis with CaImAn using default CaImAn parameters for 2d planar images', params_caiman_2d)"
   ]
  },
  {
   "cell_type": "markdown",
   "metadata": {},
   "source": [
    "### Define CaImAn 3d volumetric parameters"
   ]
  },
  {
   "cell_type": "code",
   "execution_count": 6,
   "metadata": {},
   "outputs": [],
   "source": [
    "params_caiman_3d = {'fnames': None,\n",
    " 'dims': None,\n",
    " 'fr': 30,\n",
    " 'decay_time': 0.4,\n",
    " 'dxy': (1, 1),\n",
    " 'var_name_hdf5': 'mov',\n",
    " 'caiman_version': '1.8.5',\n",
    " 'last_commit': 'GITW-a99c03c9cb221e802ec71aacfb988257810c8c4a',\n",
    " 'mmap_F': None,\n",
    " 'mmap_C': None,\n",
    " 'block_size_spat': 5000,\n",
    " 'dist': 3,\n",
    " 'expandCore': np.array([[0, 0, 1, 0, 0],\n",
    "        [0, 1, 1, 1, 0],\n",
    "        [1, 1, 1, 1, 1],\n",
    "        [0, 1, 1, 1, 0],\n",
    "        [0, 0, 1, 0, 0]], dtype='int32'),\n",
    " 'extract_cc': True,\n",
    " 'maxthr': 0.1,\n",
    " 'medw': None,\n",
    " 'method_exp': 'dilate',\n",
    " 'method_ls': 'lasso_lars',\n",
    " 'n_pixels_per_process': None,\n",
    " 'nb': 1,\n",
    " 'normalize_yyt_one': True,\n",
    " 'nrgthr': 0.9999,\n",
    " 'num_blocks_per_run_spat': 20,\n",
    " 'se': np.array([[1, 1, 1],\n",
    "        [1, 1, 1],\n",
    "        [1, 1, 1]], dtype='uint8'),\n",
    " 'ss': np.array([[1, 1, 1],\n",
    "        [1, 1, 1],\n",
    "        [1, 1, 1]], dtype='uint8'),\n",
    " 'thr_method': 'nrg',\n",
    " 'update_background_components': True,\n",
    " 'ITER': 2,\n",
    " 'bas_nonneg': False,\n",
    " 'block_size_temp': 5000,\n",
    " 'fudge_factor': 0.96,\n",
    " 'lags': 5,\n",
    " 'optimize_g': False,\n",
    " 'memory_efficient': False,\n",
    " 'method_deconvolution': 'oasis',\n",
    " 'noise_method': 'mean',\n",
    " 'noise_range': [0.25, 0.5],\n",
    " 'num_blocks_per_run_temp': 20,\n",
    " 'p': 2,\n",
    " 's_min': None,\n",
    " 'solvers': ['ECOS', 'SCS'],\n",
    " 'verbosity': False,\n",
    " 'K': 30,\n",
    " 'SC_kernel': 'heat',\n",
    " 'SC_sigma': 1,\n",
    " 'SC_thr': 0,\n",
    " 'SC_normalize': True,\n",
    " 'SC_use_NN': False,\n",
    " 'SC_nnn': 20,\n",
    " 'alpha_snmf': 100,\n",
    " 'center_psf': False,\n",
    " 'gSig': (5, 5, 1),\n",
    " 'gSiz': (11, 11),\n",
    " 'init_iter': 2,\n",
    " 'kernel': None,\n",
    " 'lambda_gnmf': 1,\n",
    " 'maxIter': 5,\n",
    " 'max_iter_snmf': 500,\n",
    " 'method_init': 'greedy_roi',\n",
    " 'min_corr': 0.85,\n",
    " 'min_pnr': 20,\n",
    " 'nIter': 5,\n",
    " 'normalize_init': True,\n",
    " 'options_local_NMF': None,\n",
    " 'perc_baseline_snmf': 20,\n",
    " 'ring_size_factor': 1.5,\n",
    " 'rolling_length': 100,\n",
    " 'rolling_sum': True,\n",
    " 'seed_method': 'auto',\n",
    " 'sigma_smooth_snmf': (0.5, 0.5, 0.5),\n",
    " 'ssub': 2,\n",
    " 'ssub_B': 2,\n",
    " 'tsub': 2,\n",
    " 'check_nan': True,\n",
    " 'compute_g': False,\n",
    " 'include_noise': False,\n",
    " 'max_num_samples_fft': 3072,\n",
    " 'pixels': None,\n",
    " 'sn': None,\n",
    " 'border_pix': 0,\n",
    " 'del_duplicates': False,\n",
    " 'in_memory': True,\n",
    " 'low_rank_background': True,\n",
    " 'memory_fact': 1,\n",
    " 'n_processes': 1,\n",
    " 'nb_patch': 1,\n",
    " 'only_init': True,\n",
    " 'p_patch': 0,\n",
    " 'remove_very_bad_comps': False,\n",
    " 'rf': None,\n",
    " 'skip_refinement': False,\n",
    " 'p_ssub': 2,\n",
    " 'stride': None,\n",
    " 'p_tsub': 2,\n",
    " 'N_samples_exceptionality': 12,\n",
    " 'batch_update_suff_stat': False,\n",
    " 'dist_shape_update': False,\n",
    " 'ds_factor': 1,\n",
    " 'epochs': 1,\n",
    " 'expected_comps': 500,\n",
    " 'full_XXt': False,\n",
    " 'init_batch': 200,\n",
    " 'init_method': 'bare',\n",
    " 'iters_shape': 5,\n",
    " 'max_comp_update_shape': np.inf,\n",
    " 'max_num_added': 5,\n",
    " 'max_shifts_online': 10,\n",
    " 'min_SNR': 2.5,\n",
    " 'min_num_trial': 5,\n",
    " 'minibatch_shape': 100,\n",
    " 'minibatch_suff_stat': 5,\n",
    " 'motion_correct': True,\n",
    " 'movie_name_online': 'online_movie.mp4',\n",
    " 'normalize': False,\n",
    " 'n_refit': 0,\n",
    " 'num_times_comp_updated': np.inf,\n",
    " 'opencv_codec': 'H264',\n",
    " 'path_to_model': None,\n",
    " 'ring_CNN': False,\n",
    " 'rval_thr': 0.8,\n",
    " 'save_online_movie': False,\n",
    " 'show_movie': False,\n",
    " 'simultaneously': False,\n",
    " 'sniper_mode': False,\n",
    " 'stop_detection': False,\n",
    " 'test_both': False,\n",
    " 'thresh_CNN_noisy': 0.5,\n",
    " 'thresh_fitness_delta': -50,\n",
    " 'thresh_fitness_raw': -60.97977932734429,\n",
    " 'thresh_overlap': 0.5,\n",
    " 'update_freq': 200,\n",
    " 'update_num_comps': True,\n",
    " 'use_corr_img': False,\n",
    " 'use_dense': True,\n",
    " 'use_peak_max': True,\n",
    " 'W_update_factor': 1,\n",
    " 'SNR_lowest': 0.5,\n",
    " 'cnn_lowest': 0.1,\n",
    " 'gSig_range': None,\n",
    " 'min_cnn_thr': 0.9,\n",
    " 'rval_lowest': -1,\n",
    " 'use_cnn': False,\n",
    " 'use_ecc': False,\n",
    " 'max_ecc': 3,\n",
    " 'do_merge': True,\n",
    " 'merge_thr': 0.8,\n",
    " 'merge_parallel': False,\n",
    " 'max_merge_area': None,\n",
    " 'border_nan': 'copy',\n",
    " 'gSig_filt': None,\n",
    " 'is3D': False,\n",
    " 'max_deviation_rigid': 3,\n",
    " 'max_shifts': (6, 6, 1),\n",
    " 'min_mov': None,\n",
    " 'niter_rig': 1,\n",
    " 'nonneg_movie': True,\n",
    " 'num_frames_split': 80,\n",
    " 'num_splits_to_process_els': None,\n",
    " 'num_splits_to_process_rig': None,\n",
    " 'overlaps': (32, 32, 1),\n",
    " 'pw_rigid': False,\n",
    " 'shifts_opencv': True,\n",
    " 'splits_els': 14,\n",
    " 'splits_rig': 14,\n",
    " 'strides': (96, 96, 1),\n",
    " 'upsample_factor_grid': 4,\n",
    " 'use_cuda': False,\n",
    " 'n_channels': 2,\n",
    " 'use_bias': False,\n",
    " 'use_add': False,\n",
    " 'pct': 0.01,\n",
    " 'patience': 3,\n",
    " 'max_epochs': 100,\n",
    " 'width': 5,\n",
    " 'loss_fn': 'pct',\n",
    " 'lr': 0.001,\n",
    " 'lr_scheduler': None,\n",
    " 'remove_activity': False,\n",
    " 'reuse_model': False}"
   ]
  },
  {
   "cell_type": "markdown",
   "metadata": {},
   "source": [
    "### Insert CaImAn parameters"
   ]
  },
  {
   "cell_type": "code",
   "execution_count": 7,
   "metadata": {},
   "outputs": [],
   "source": [
    "imaging.ProcessingParamSet.insert_new_params(\n",
    "    'caiman', 2, 'Calcium imaging analysis with CaImAn using default CaImAn parameters for 3d volumetric images', params_caiman_3d)"
   ]
  },
  {
   "cell_type": "markdown",
   "metadata": {},
   "source": [
    "## Insert entries into the following manual DataJoint tables\n",
    "\n",
    "+ subject.Subject\n",
    "+ experiment.Equipment\n",
    "+ experiment.Session\n",
    "+ scan.Scan\n",
    "+ imaging.ProcessingTask\n",
    "\n",
    "As described in the following sections, the entries can be inserted manually, or with the `ingest` method and accompanying `csv` files."
   ]
  },
  {
   "cell_type": "code",
   "execution_count": 12,
   "metadata": {},
   "outputs": [],
   "source": [
    "subject.Subject.insert1(dict(subject='subject1', \n",
    "                             sex='F', \n",
    "                             subject_birth_date='2019-01-01 00:00:01', \n",
    "                             subject_description='no description'))\n",
    "\n",
    "Equipment.insert1(dict(scanner='MINI2P_ImagingScanner'))\n",
    "\n",
    "Session.insert1(dict(subject='subject1', \n",
    "                     session_datetime='2021-01-01 00:00:01'))\n",
    "\n",
    "Session.Directory.insert1(dict(subject='subject1', \n",
    "                               session_datetime='2021-01-01 00:00:01', \n",
    "                               session_dir='<imaging_root_data_dir>/subject1/session0'))\n",
    "\n",
    "scan.Scan.insert1(dict(subject='subject1', \n",
    "                       session_datetime='2021-01-01 00:00:01', \n",
    "                       scan_id=0, \n",
    "                       scanner='MINI2P_ImagingScanner', \n",
    "                       scan_notes=''))\n",
    "\n",
    "imaging.ProcessingTask.insert1(dict(subject='subject1', \n",
    "                                    session_datetime='2021-01-01 00:00:01', \n",
    "                                    scan_id=0, \n",
    "                                    paramset_idx=0, \n",
    "                                    task_mode='load'))"
   ]
  },
  {
   "cell_type": "markdown",
   "metadata": {},
   "source": [
    "### Method for inserting entries\n",
    "\n",
    "Modify `user_data/subjects.csv` and `user_data/sessions.csv`, and run the following commands"
   ]
  },
  {
   "cell_type": "code",
   "execution_count": 8,
   "metadata": {},
   "outputs": [],
   "source": [
    "from workflow_imaging.ingest import ingest_subjects, ingest_sessions"
   ]
  },
  {
   "cell_type": "code",
   "execution_count": 9,
   "metadata": {},
   "outputs": [
    {
     "name": "stdout",
     "output_type": "stream",
     "text": [
      "\n",
      "---- Insert 3 entry(s) into subject.Subject ----\n",
      "\n",
      "---- Successfully completed ingest_subjects ----\n"
     ]
    }
   ],
   "source": [
    "ingest_subjects()"
   ]
  },
  {
   "cell_type": "code",
   "execution_count": 10,
   "metadata": {},
   "outputs": [
    {
     "name": "stdout",
     "output_type": "stream",
     "text": [
      "{'scanning_mode': 'bidirectional', 'frame_rate': 7.8125, 'num_frames': 7530, 'num_channels': 1, 'num_planes': 4, 'frame_size': array([512, 796], dtype=uint16), 'num_target_frames': 0, 'num_stored_frames': 30123, 'stage_pos': [0, 0, -311.71], 'stage_angle': 9.65, 'etl_pos': [203, 255, 314, 379], 'filename': 'run00_orientation_8dir_000_000.sbx', 'resonant_freq': 8000, 'scanbox_version': 3, 'records_per_buffer': 256, 'magnification': 1.7, 'um_per_pixel_x': nan, 'um_per_pixel_y': nan, 'objective': 'Nikon_16x_dlr', 'messages': array([], dtype=float64), 'event_id': array([], dtype=float64), 'usernotes': array([], dtype=float64), 'ballmotion': array([], dtype=float64)}\n",
      "\n",
      "---- Insert 2 entry(s) into experiment.Equipment ----\n",
      "\n",
      "---- Insert 3 entry(s) into experiment.Session ----\n",
      "\n",
      "---- Insert 3 entry(s) into experiment.Session.Directory ----\n",
      "\n",
      "---- Insert 3 entry(s) into scan.Scan ----\n",
      "\n",
      "---- Insert 4 entry(s) into imaging.ProcessingTask ----\n",
      "\n",
      "---- Successfully completed ingest_sessions ----\n"
     ]
    }
   ],
   "source": [
    "ingest_sessions()"
   ]
  },
  {
   "cell_type": "markdown",
   "metadata": {},
   "source": [
    "## Populate the following imported and computed DataJoint tables\n",
    "\n",
    "+ scan.ScanInfo\n",
    "+ imaging.Processing\n",
    "+ imaging.MotionCorrection\n",
    "+ imaging.Segmentation\n",
    "+ imaging.MaskClassification\n",
    "+ imaging.Fluorescence\n",
    "+ imaging.Activity\n",
    "\n",
    "As described in the following sections, populating the tables can be done individually or with the `populate` method."
   ]
  },
  {
   "cell_type": "code",
   "execution_count": null,
   "metadata": {},
   "outputs": [],
   "source": [
    "populate_settings = {'display_progress': True, 'reserve_jobs': False, 'suppress_errors': False}\n",
    "\n",
    "scan.ScanInfo.populate(**populate_settings)\n",
    "imaging.Processing.populate(**populate_settings)\n",
    "imaging.MotionCorrection.populate(**populate_settings)\n",
    "imaging.Segmentation.populate(**populate_settings)\n",
    "imaging.MaskClassification.populate(**populate_settings)\n",
    "imaging.Fluorescence.populate(**populate_settings)\n",
    "imaging.Activity.populate(**populate_settings)"
   ]
  },
  {
   "cell_type": "markdown",
   "metadata": {},
   "source": [
    "### Method for populating tables"
   ]
  },
  {
   "cell_type": "code",
   "execution_count": 11,
   "metadata": {},
   "outputs": [],
   "source": [
    "from workflow_imaging.populate import populate"
   ]
  },
  {
   "cell_type": "code",
   "execution_count": 12,
   "metadata": {},
   "outputs": [
    {
     "name": "stdout",
     "output_type": "stream",
     "text": [
      "\n",
      "---- Populate scan.ScanInfo ----\n",
      "{'scanning_mode': 'bidirectional', 'frame_rate': 7.8125, 'num_frames': 7530, 'num_channels': 1, 'num_planes': 4, 'frame_size': array([512, 796], dtype=uint16), 'num_target_frames': 0, 'num_stored_frames': 30123, 'stage_pos': [0, 0, -311.71], 'stage_angle': 9.65, 'etl_pos': [203, 255, 314, 379], 'filename': 'run00_orientation_8dir_000_000.sbx', 'resonant_freq': 8000, 'scanbox_version': 3, 'records_per_buffer': 256, 'magnification': 1.7, 'um_per_pixel_x': nan, 'um_per_pixel_y': nan, 'objective': 'Nikon_16x_dlr', 'messages': array([], dtype=float64), 'event_id': array([], dtype=float64), 'usernotes': array([], dtype=float64), 'ballmotion': array([], dtype=float64)}\n",
      "\n",
      "---- Populate imaging.Processing ----\n",
      "\n",
      "---- Populate imaging.MotionCorrection ----\n",
      "\n",
      "---- Populate imaging.Segmentation ----\n",
      "\n",
      "---- Populate imaging.MaskClassification ----\n",
      "\n",
      "---- Populate imaging.Fluorescence ----\n",
      "\n",
      "---- Populate imaging.Activity ----\n",
      "\n",
      "---- Successfully completed workflow_imaging/populate.py ----\n"
     ]
    }
   ],
   "source": [
    "populate(display_progress=False)"
   ]
  },
  {
   "cell_type": "markdown",
   "source": [
    "## Insert new ProcessingTask to trigger ingestion of motion-correction/segmentation results\n",
    "\n",
    "Motion correction and segmentation are performed for each scan,\n",
    "once the processing job has been completed, an entry in the `ProcessingTask` needs to be added to trigger the ingestion of the processing results.\n",
    "\n",
    "Two pieces of information need to be specified:\n",
    "+ the `paramset_idx` used for the processing job\n",
    "+ the output directory storing the processing results"
   ],
   "metadata": {
    "collapsed": false
   }
  },
  {
   "cell_type": "code",
   "execution_count": null,
   "outputs": [],
   "source": [
    "scan.Scan()"
   ],
   "metadata": {
    "collapsed": false,
    "pycharm": {
     "name": "#%%\n"
    }
   }
  },
  {
   "cell_type": "code",
   "execution_count": null,
   "outputs": [],
   "source": [
    "import pathlib\n",
    "from workflow_imaging.paths import get_imaging_root_data_dir\n",
    "\n",
    "root_dir = pathlib.Path(get_imaging_root_data_dir())"
   ],
   "metadata": {
    "collapsed": false,
    "pycharm": {
     "name": "#%%\n"
    }
   }
  },
  {
   "cell_type": "code",
   "execution_count": null,
   "outputs": [],
   "source": [
    "for scan_key in (scan.Scan & scan.ScanInfo - imaging.ProcessingTask).fetch('KEY'):\n",
    "    scan_file = root_dir / (scan.ScanInfo.ScanFile & scan_key).fetch('file_path')[0]\n",
    "    recording_dir = scan_file.parent\n",
    "    # suite2p\n",
    "    suite2p_dir = recording_dir / 'suite2p'\n",
    "    if suite2p_dir.exists():\n",
    "        imaging.ProcessingTask.insert1({**scan_key,\n",
    "                                        'paramset_idx': 0,\n",
    "                                        'processing_output_dir': suite2p_dir.as_posix()})\n",
    "    # caiman\n",
    "    caiman_dir = recording_dir / 'caiman'\n",
    "    if caiman_dir.exists():\n",
    "        is_3D = (scan.ScanInfo & scan_key).fetch1('ndepths') > 1\n",
    "        imaging.ProcessingTask.insert1({**scan_key,\n",
    "                                        'paramset_idx': 1 if not is_3D else 2,\n",
    "                                        'processing_output_dir': caiman_dir.as_posix()})"
   ],
   "metadata": {
    "collapsed": false,
    "pycharm": {
     "name": "#%%\n"
    }
   }
  },
  {
   "cell_type": "code",
   "execution_count": null,
   "outputs": [],
   "source": [
    "imaging.ProcessingTask()"
   ],
   "metadata": {
    "collapsed": false,
    "pycharm": {
     "name": "#%%\n"
    }
   }
  },
  {
   "cell_type": "markdown",
   "source": [
    "## Insert new Curation following the ProcessingTask\n",
    "\n",
    "In this example, we create/insert one Curation for each ClusteringTask, specifying the same output directory\n",
    "\n",
    "To this end, we make use of a convenient function `imaging.Curation().create1_from_processing_task()`"
   ],
   "metadata": {
    "collapsed": false
   }
  },
  {
   "cell_type": "code",
   "execution_count": null,
   "outputs": [],
   "source": [
    "for key in (imaging.ProcessingTask - imaging.Curation).fetch('KEY'):\n",
    "    imaging.Curation().create1_from_processing_task(key)"
   ],
   "metadata": {
    "collapsed": false,
    "pycharm": {
     "name": "#%%\n"
    }
   }
  },
  {
   "cell_type": "markdown",
   "metadata": {},
   "source": [
    "## Drop schemas\n",
    "If required to drop all schemas, the following is the dependency order."
   ]
  },
  {
   "cell_type": "code",
   "execution_count": 15,
   "metadata": {},
   "outputs": [],
   "source": [
    "from workflow_imaging.pipeline import *"
   ]
  },
  {
   "cell_type": "code",
   "execution_count": 16,
   "metadata": {
    "pycharm": {
     "name": "#%%\n"
    }
   },
   "outputs": [],
   "source": [
    "imaging.schema.drop()\n",
    "scan.schema.drop()\n",
    "schema.drop()\n",
    "subject.schema.drop()\n",
    "lab.schema.drop()"
   ]
  }
 ],
 "metadata": {
  "kernelspec": {
   "display_name": "Python 3",
   "language": "python",
   "name": "python3"
  },
  "language_info": {
   "codemirror_mode": {
    "name": "ipython",
    "version": 3
   },
   "file_extension": ".py",
   "mimetype": "text/x-python",
   "name": "python",
   "nbconvert_exporter": "python",
   "pygments_lexer": "ipython3",
   "version": "3.6.10"
  }
 },
 "nbformat": 4,
 "nbformat_minor": 2
}